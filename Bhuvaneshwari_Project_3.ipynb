{
  "nbformat": 4,
  "nbformat_minor": 0,
  "metadata": {
    "colab": {
      "provenance": []
    },
    "kernelspec": {
      "name": "python3",
      "display_name": "Python 3"
    },
    "language_info": {
      "name": "python"
    }
  },
  "cells": [
    {
      "cell_type": "markdown",
      "source": [
        "### **Movie Recommendation System**"
      ],
      "metadata": {
        "id": "vgYLYhoXWUTK"
      }
    },
    {
      "cell_type": "markdown",
      "source": [
        "**Recommender System** is a system that seeks to predict or filter preferences according to the user's choices. Recommender systems are utilized in a variety of areas including movies, music, news, books, research articles, search queries, social tags, and products in general. Recommender systems produce a list of recommendations in any of the two ways -\n",
        "\n",
        "**Collaborating filtering**:Collaborative filtering approaches build a model from the user's past behavior(i.e. items purchased or searched by the user) as well as similar decisons made by other users. This model is then used to predict items (or ratings for items) that users may have an interest in.\n",
        "\n",
        "**Content-based filtering**:Content-based filtering approaches uses a series of discrete characteristics of an item in order to recommend additional items with similar properties. Content-based filtering methods are totally based on a description of the item and a profile of the user's preferences. It recommends items based on the user's past preferences. Let's develop a basic recommendation system using Python and Pandas.\n",
        "\n",
        "Lets's develop a basic recommendation system by suggesting items that are most similar to a particular item, in the case, movies. It just tells what movies/items are most similar to the user's movie choice."
      ],
      "metadata": {
        "id": "tLLTQZ2HWgs6"
      }
    },
    {
      "cell_type": "markdown",
      "source": [
        "### **Import Library**"
      ],
      "metadata": {
        "id": "A2qdKZY8dBpr"
      }
    },
    {
      "cell_type": "code",
      "source": [
        "import pandas as pd"
      ],
      "metadata": {
        "id": "PH9VEZZEdFdG"
      },
      "execution_count": 1,
      "outputs": []
    },
    {
      "cell_type": "code",
      "source": [
        "import numpy as np"
      ],
      "metadata": {
        "id": "gHXmRg_6dNE9"
      },
      "execution_count": 2,
      "outputs": []
    },
    {
      "cell_type": "markdown",
      "source": [
        "### **Import Dataset**"
      ],
      "metadata": {
        "id": "SSBk87DZdQvL"
      }
    },
    {
      "cell_type": "code",
      "source": [
        "df = pd.read_csv(r'https://raw.githubusercontent.com/YBI-Foundation/Dataset/main/Movies%20Recommendation.csv')"
      ],
      "metadata": {
        "id": "el8bVbVWdaSv"
      },
      "execution_count": 3,
      "outputs": []
    },
    {
      "cell_type": "code",
      "source": [
        "df.head()"
      ],
      "metadata": {
        "colab": {
          "base_uri": "https://localhost:8080/",
          "height": 716
        },
        "id": "RJ69l52xdwB2",
        "outputId": "d20a432c-6d90-4cbb-cbf7-a0a2a51912bf"
      },
      "execution_count": 4,
      "outputs": [
        {
          "output_type": "execute_result",
          "data": {
            "text/plain": [
              "   Movie_ID      Movie_Title                       Movie_Genre Movie_Language  \\\n",
              "0         1       Four Rooms                      Crime Comedy             en   \n",
              "1         2        Star Wars  Adventure Action Science Fiction             en   \n",
              "2         3     Finding Nemo                  Animation Family             en   \n",
              "3         4     Forrest Gump              Comedy Drama Romance             en   \n",
              "4         5  American Beauty                             Drama             en   \n",
              "\n",
              "   Movie_Budget  Movie_Popularity Movie_Release_Date  Movie_Revenue  \\\n",
              "0       4000000         22.876230         09-12-1995        4300000   \n",
              "1      11000000        126.393695         25-05-1977      775398007   \n",
              "2      94000000         85.688789         30-05-2003      940335536   \n",
              "3      55000000        138.133331         06-07-1994      677945399   \n",
              "4      15000000         80.878605         15-09-1999      356296601   \n",
              "\n",
              "   Movie_Runtime  Movie_Vote  ...  \\\n",
              "0           98.0         6.5  ...   \n",
              "1          121.0         8.1  ...   \n",
              "2          100.0         7.6  ...   \n",
              "3          142.0         8.2  ...   \n",
              "4          122.0         7.9  ...   \n",
              "\n",
              "                                      Movie_Homepage  \\\n",
              "0                                                NaN   \n",
              "1  http://www.starwars.com/films/star-wars-episod...   \n",
              "2              http://movies.disney.com/finding-nemo   \n",
              "3                                                NaN   \n",
              "4                      http://www.dreamworks.com/ab/   \n",
              "\n",
              "                                      Movie_Keywords  \\\n",
              "0          hotel new year's eve witch bet hotel room   \n",
              "1        android galaxy hermit death star lightsaber   \n",
              "2  father son relationship harbor underwater fish...   \n",
              "3  vietnam veteran hippie mentally disabled runni...   \n",
              "4  male nudity female nudity adultery midlife cri...   \n",
              "\n",
              "                                      Movie_Overview  \\\n",
              "0  It's Ted the Bellhop's first night on the job....   \n",
              "1  Princess Leia is captured and held hostage by ...   \n",
              "2  Nemo, an adventurous young clownfish, is unexp...   \n",
              "3  A man with a low IQ has accomplished great thi...   \n",
              "4  Lester Burnham, a depressed suburban father in...   \n",
              "\n",
              "                              Movie_Production_House  \\\n",
              "0  [{\"name\": \"Miramax Films\", \"id\": 14}, {\"name\":...   \n",
              "1  [{\"name\": \"Lucasfilm\", \"id\": 1}, {\"name\": \"Twe...   \n",
              "2     [{\"name\": \"Pixar Animation Studios\", \"id\": 3}]   \n",
              "3          [{\"name\": \"Paramount Pictures\", \"id\": 4}]   \n",
              "4  [{\"name\": \"DreamWorks SKG\", \"id\": 27}, {\"name\"...   \n",
              "\n",
              "                            Movie_Production_Country  \\\n",
              "0  [{\"iso_3166_1\": \"US\", \"name\": \"United States o...   \n",
              "1  [{\"iso_3166_1\": \"US\", \"name\": \"United States o...   \n",
              "2  [{\"iso_3166_1\": \"US\", \"name\": \"United States o...   \n",
              "3  [{\"iso_3166_1\": \"US\", \"name\": \"United States o...   \n",
              "4  [{\"iso_3166_1\": \"US\", \"name\": \"United States o...   \n",
              "\n",
              "                      Movie_Spoken_Language  \\\n",
              "0  [{\"iso_639_1\": \"en\", \"name\": \"English\"}]   \n",
              "1  [{\"iso_639_1\": \"en\", \"name\": \"English\"}]   \n",
              "2  [{\"iso_639_1\": \"en\", \"name\": \"English\"}]   \n",
              "3  [{\"iso_639_1\": \"en\", \"name\": \"English\"}]   \n",
              "4  [{\"iso_639_1\": \"en\", \"name\": \"English\"}]   \n",
              "\n",
              "                                       Movie_Tagline  \\\n",
              "0  Twelve outrageous guests. Four scandalous requ...   \n",
              "1       A long time ago in a galaxy far, far away...   \n",
              "2  There are 3.7 trillion fish in the ocean, they...   \n",
              "3  The world will never be the same, once you've ...   \n",
              "4                                       Look closer.   \n",
              "\n",
              "                                          Movie_Cast  \\\n",
              "0  Tim Roth Antonio Banderas Jennifer Beals Madon...   \n",
              "1  Mark Hamill Harrison Ford Carrie Fisher Peter ...   \n",
              "2  Albert Brooks Ellen DeGeneres Alexander Gould ...   \n",
              "3  Tom Hanks Robin Wright Gary Sinise Mykelti Wil...   \n",
              "4  Kevin Spacey Annette Bening Thora Birch Wes Be...   \n",
              "\n",
              "                                          Movie_Crew   Movie_Director  \n",
              "0  [{'name': 'Allison Anders', 'gender': 1, 'depa...   Allison Anders  \n",
              "1  [{'name': 'George Lucas', 'gender': 2, 'depart...     George Lucas  \n",
              "2  [{'name': 'Andrew Stanton', 'gender': 2, 'depa...   Andrew Stanton  \n",
              "3  [{'name': 'Alan Silvestri', 'gender': 2, 'depa...  Robert Zemeckis  \n",
              "4  [{'name': 'Thomas Newman', 'gender': 2, 'depar...       Sam Mendes  \n",
              "\n",
              "[5 rows x 21 columns]"
            ],
            "text/html": [
              "\n",
              "\n",
              "  <div id=\"df-74dd4e36-2cb0-481b-8804-be75a3088b63\">\n",
              "    <div class=\"colab-df-container\">\n",
              "      <div>\n",
              "<style scoped>\n",
              "    .dataframe tbody tr th:only-of-type {\n",
              "        vertical-align: middle;\n",
              "    }\n",
              "\n",
              "    .dataframe tbody tr th {\n",
              "        vertical-align: top;\n",
              "    }\n",
              "\n",
              "    .dataframe thead th {\n",
              "        text-align: right;\n",
              "    }\n",
              "</style>\n",
              "<table border=\"1\" class=\"dataframe\">\n",
              "  <thead>\n",
              "    <tr style=\"text-align: right;\">\n",
              "      <th></th>\n",
              "      <th>Movie_ID</th>\n",
              "      <th>Movie_Title</th>\n",
              "      <th>Movie_Genre</th>\n",
              "      <th>Movie_Language</th>\n",
              "      <th>Movie_Budget</th>\n",
              "      <th>Movie_Popularity</th>\n",
              "      <th>Movie_Release_Date</th>\n",
              "      <th>Movie_Revenue</th>\n",
              "      <th>Movie_Runtime</th>\n",
              "      <th>Movie_Vote</th>\n",
              "      <th>...</th>\n",
              "      <th>Movie_Homepage</th>\n",
              "      <th>Movie_Keywords</th>\n",
              "      <th>Movie_Overview</th>\n",
              "      <th>Movie_Production_House</th>\n",
              "      <th>Movie_Production_Country</th>\n",
              "      <th>Movie_Spoken_Language</th>\n",
              "      <th>Movie_Tagline</th>\n",
              "      <th>Movie_Cast</th>\n",
              "      <th>Movie_Crew</th>\n",
              "      <th>Movie_Director</th>\n",
              "    </tr>\n",
              "  </thead>\n",
              "  <tbody>\n",
              "    <tr>\n",
              "      <th>0</th>\n",
              "      <td>1</td>\n",
              "      <td>Four Rooms</td>\n",
              "      <td>Crime Comedy</td>\n",
              "      <td>en</td>\n",
              "      <td>4000000</td>\n",
              "      <td>22.876230</td>\n",
              "      <td>09-12-1995</td>\n",
              "      <td>4300000</td>\n",
              "      <td>98.0</td>\n",
              "      <td>6.5</td>\n",
              "      <td>...</td>\n",
              "      <td>NaN</td>\n",
              "      <td>hotel new year's eve witch bet hotel room</td>\n",
              "      <td>It's Ted the Bellhop's first night on the job....</td>\n",
              "      <td>[{\"name\": \"Miramax Films\", \"id\": 14}, {\"name\":...</td>\n",
              "      <td>[{\"iso_3166_1\": \"US\", \"name\": \"United States o...</td>\n",
              "      <td>[{\"iso_639_1\": \"en\", \"name\": \"English\"}]</td>\n",
              "      <td>Twelve outrageous guests. Four scandalous requ...</td>\n",
              "      <td>Tim Roth Antonio Banderas Jennifer Beals Madon...</td>\n",
              "      <td>[{'name': 'Allison Anders', 'gender': 1, 'depa...</td>\n",
              "      <td>Allison Anders</td>\n",
              "    </tr>\n",
              "    <tr>\n",
              "      <th>1</th>\n",
              "      <td>2</td>\n",
              "      <td>Star Wars</td>\n",
              "      <td>Adventure Action Science Fiction</td>\n",
              "      <td>en</td>\n",
              "      <td>11000000</td>\n",
              "      <td>126.393695</td>\n",
              "      <td>25-05-1977</td>\n",
              "      <td>775398007</td>\n",
              "      <td>121.0</td>\n",
              "      <td>8.1</td>\n",
              "      <td>...</td>\n",
              "      <td>http://www.starwars.com/films/star-wars-episod...</td>\n",
              "      <td>android galaxy hermit death star lightsaber</td>\n",
              "      <td>Princess Leia is captured and held hostage by ...</td>\n",
              "      <td>[{\"name\": \"Lucasfilm\", \"id\": 1}, {\"name\": \"Twe...</td>\n",
              "      <td>[{\"iso_3166_1\": \"US\", \"name\": \"United States o...</td>\n",
              "      <td>[{\"iso_639_1\": \"en\", \"name\": \"English\"}]</td>\n",
              "      <td>A long time ago in a galaxy far, far away...</td>\n",
              "      <td>Mark Hamill Harrison Ford Carrie Fisher Peter ...</td>\n",
              "      <td>[{'name': 'George Lucas', 'gender': 2, 'depart...</td>\n",
              "      <td>George Lucas</td>\n",
              "    </tr>\n",
              "    <tr>\n",
              "      <th>2</th>\n",
              "      <td>3</td>\n",
              "      <td>Finding Nemo</td>\n",
              "      <td>Animation Family</td>\n",
              "      <td>en</td>\n",
              "      <td>94000000</td>\n",
              "      <td>85.688789</td>\n",
              "      <td>30-05-2003</td>\n",
              "      <td>940335536</td>\n",
              "      <td>100.0</td>\n",
              "      <td>7.6</td>\n",
              "      <td>...</td>\n",
              "      <td>http://movies.disney.com/finding-nemo</td>\n",
              "      <td>father son relationship harbor underwater fish...</td>\n",
              "      <td>Nemo, an adventurous young clownfish, is unexp...</td>\n",
              "      <td>[{\"name\": \"Pixar Animation Studios\", \"id\": 3}]</td>\n",
              "      <td>[{\"iso_3166_1\": \"US\", \"name\": \"United States o...</td>\n",
              "      <td>[{\"iso_639_1\": \"en\", \"name\": \"English\"}]</td>\n",
              "      <td>There are 3.7 trillion fish in the ocean, they...</td>\n",
              "      <td>Albert Brooks Ellen DeGeneres Alexander Gould ...</td>\n",
              "      <td>[{'name': 'Andrew Stanton', 'gender': 2, 'depa...</td>\n",
              "      <td>Andrew Stanton</td>\n",
              "    </tr>\n",
              "    <tr>\n",
              "      <th>3</th>\n",
              "      <td>4</td>\n",
              "      <td>Forrest Gump</td>\n",
              "      <td>Comedy Drama Romance</td>\n",
              "      <td>en</td>\n",
              "      <td>55000000</td>\n",
              "      <td>138.133331</td>\n",
              "      <td>06-07-1994</td>\n",
              "      <td>677945399</td>\n",
              "      <td>142.0</td>\n",
              "      <td>8.2</td>\n",
              "      <td>...</td>\n",
              "      <td>NaN</td>\n",
              "      <td>vietnam veteran hippie mentally disabled runni...</td>\n",
              "      <td>A man with a low IQ has accomplished great thi...</td>\n",
              "      <td>[{\"name\": \"Paramount Pictures\", \"id\": 4}]</td>\n",
              "      <td>[{\"iso_3166_1\": \"US\", \"name\": \"United States o...</td>\n",
              "      <td>[{\"iso_639_1\": \"en\", \"name\": \"English\"}]</td>\n",
              "      <td>The world will never be the same, once you've ...</td>\n",
              "      <td>Tom Hanks Robin Wright Gary Sinise Mykelti Wil...</td>\n",
              "      <td>[{'name': 'Alan Silvestri', 'gender': 2, 'depa...</td>\n",
              "      <td>Robert Zemeckis</td>\n",
              "    </tr>\n",
              "    <tr>\n",
              "      <th>4</th>\n",
              "      <td>5</td>\n",
              "      <td>American Beauty</td>\n",
              "      <td>Drama</td>\n",
              "      <td>en</td>\n",
              "      <td>15000000</td>\n",
              "      <td>80.878605</td>\n",
              "      <td>15-09-1999</td>\n",
              "      <td>356296601</td>\n",
              "      <td>122.0</td>\n",
              "      <td>7.9</td>\n",
              "      <td>...</td>\n",
              "      <td>http://www.dreamworks.com/ab/</td>\n",
              "      <td>male nudity female nudity adultery midlife cri...</td>\n",
              "      <td>Lester Burnham, a depressed suburban father in...</td>\n",
              "      <td>[{\"name\": \"DreamWorks SKG\", \"id\": 27}, {\"name\"...</td>\n",
              "      <td>[{\"iso_3166_1\": \"US\", \"name\": \"United States o...</td>\n",
              "      <td>[{\"iso_639_1\": \"en\", \"name\": \"English\"}]</td>\n",
              "      <td>Look closer.</td>\n",
              "      <td>Kevin Spacey Annette Bening Thora Birch Wes Be...</td>\n",
              "      <td>[{'name': 'Thomas Newman', 'gender': 2, 'depar...</td>\n",
              "      <td>Sam Mendes</td>\n",
              "    </tr>\n",
              "  </tbody>\n",
              "</table>\n",
              "<p>5 rows × 21 columns</p>\n",
              "</div>\n",
              "      <button class=\"colab-df-convert\" onclick=\"convertToInteractive('df-74dd4e36-2cb0-481b-8804-be75a3088b63')\"\n",
              "              title=\"Convert this dataframe to an interactive table.\"\n",
              "              style=\"display:none;\">\n",
              "\n",
              "  <svg xmlns=\"http://www.w3.org/2000/svg\" height=\"24px\"viewBox=\"0 0 24 24\"\n",
              "       width=\"24px\">\n",
              "    <path d=\"M0 0h24v24H0V0z\" fill=\"none\"/>\n",
              "    <path d=\"M18.56 5.44l.94 2.06.94-2.06 2.06-.94-2.06-.94-.94-2.06-.94 2.06-2.06.94zm-11 1L8.5 8.5l.94-2.06 2.06-.94-2.06-.94L8.5 2.5l-.94 2.06-2.06.94zm10 10l.94 2.06.94-2.06 2.06-.94-2.06-.94-.94-2.06-.94 2.06-2.06.94z\"/><path d=\"M17.41 7.96l-1.37-1.37c-.4-.4-.92-.59-1.43-.59-.52 0-1.04.2-1.43.59L10.3 9.45l-7.72 7.72c-.78.78-.78 2.05 0 2.83L4 21.41c.39.39.9.59 1.41.59.51 0 1.02-.2 1.41-.59l7.78-7.78 2.81-2.81c.8-.78.8-2.07 0-2.86zM5.41 20L4 18.59l7.72-7.72 1.47 1.35L5.41 20z\"/>\n",
              "  </svg>\n",
              "      </button>\n",
              "\n",
              "\n",
              "\n",
              "    <div id=\"df-b3ebbffb-901f-41de-8186-374c12f6bf75\">\n",
              "      <button class=\"colab-df-quickchart\" onclick=\"quickchart('df-b3ebbffb-901f-41de-8186-374c12f6bf75')\"\n",
              "              title=\"Suggest charts.\"\n",
              "              style=\"display:none;\">\n",
              "\n",
              "<svg xmlns=\"http://www.w3.org/2000/svg\" height=\"24px\"viewBox=\"0 0 24 24\"\n",
              "     width=\"24px\">\n",
              "    <g>\n",
              "        <path d=\"M19 3H5c-1.1 0-2 .9-2 2v14c0 1.1.9 2 2 2h14c1.1 0 2-.9 2-2V5c0-1.1-.9-2-2-2zM9 17H7v-7h2v7zm4 0h-2V7h2v10zm4 0h-2v-4h2v4z\"/>\n",
              "    </g>\n",
              "</svg>\n",
              "      </button>\n",
              "    </div>\n",
              "\n",
              "<style>\n",
              "  .colab-df-quickchart {\n",
              "    background-color: #E8F0FE;\n",
              "    border: none;\n",
              "    border-radius: 50%;\n",
              "    cursor: pointer;\n",
              "    display: none;\n",
              "    fill: #1967D2;\n",
              "    height: 32px;\n",
              "    padding: 0 0 0 0;\n",
              "    width: 32px;\n",
              "  }\n",
              "\n",
              "  .colab-df-quickchart:hover {\n",
              "    background-color: #E2EBFA;\n",
              "    box-shadow: 0px 1px 2px rgba(60, 64, 67, 0.3), 0px 1px 3px 1px rgba(60, 64, 67, 0.15);\n",
              "    fill: #174EA6;\n",
              "  }\n",
              "\n",
              "  [theme=dark] .colab-df-quickchart {\n",
              "    background-color: #3B4455;\n",
              "    fill: #D2E3FC;\n",
              "  }\n",
              "\n",
              "  [theme=dark] .colab-df-quickchart:hover {\n",
              "    background-color: #434B5C;\n",
              "    box-shadow: 0px 1px 3px 1px rgba(0, 0, 0, 0.15);\n",
              "    filter: drop-shadow(0px 1px 2px rgba(0, 0, 0, 0.3));\n",
              "    fill: #FFFFFF;\n",
              "  }\n",
              "</style>\n",
              "\n",
              "    <script>\n",
              "      async function quickchart(key) {\n",
              "        const containerElement = document.querySelector('#' + key);\n",
              "        const charts = await google.colab.kernel.invokeFunction(\n",
              "            'suggestCharts', [key], {});\n",
              "      }\n",
              "    </script>\n",
              "\n",
              "      <script>\n",
              "\n",
              "function displayQuickchartButton(domScope) {\n",
              "  let quickchartButtonEl =\n",
              "    domScope.querySelector('#df-b3ebbffb-901f-41de-8186-374c12f6bf75 button.colab-df-quickchart');\n",
              "  quickchartButtonEl.style.display =\n",
              "    google.colab.kernel.accessAllowed ? 'block' : 'none';\n",
              "}\n",
              "\n",
              "        displayQuickchartButton(document);\n",
              "      </script>\n",
              "      <style>\n",
              "    .colab-df-container {\n",
              "      display:flex;\n",
              "      flex-wrap:wrap;\n",
              "      gap: 12px;\n",
              "    }\n",
              "\n",
              "    .colab-df-convert {\n",
              "      background-color: #E8F0FE;\n",
              "      border: none;\n",
              "      border-radius: 50%;\n",
              "      cursor: pointer;\n",
              "      display: none;\n",
              "      fill: #1967D2;\n",
              "      height: 32px;\n",
              "      padding: 0 0 0 0;\n",
              "      width: 32px;\n",
              "    }\n",
              "\n",
              "    .colab-df-convert:hover {\n",
              "      background-color: #E2EBFA;\n",
              "      box-shadow: 0px 1px 2px rgba(60, 64, 67, 0.3), 0px 1px 3px 1px rgba(60, 64, 67, 0.15);\n",
              "      fill: #174EA6;\n",
              "    }\n",
              "\n",
              "    [theme=dark] .colab-df-convert {\n",
              "      background-color: #3B4455;\n",
              "      fill: #D2E3FC;\n",
              "    }\n",
              "\n",
              "    [theme=dark] .colab-df-convert:hover {\n",
              "      background-color: #434B5C;\n",
              "      box-shadow: 0px 1px 3px 1px rgba(0, 0, 0, 0.15);\n",
              "      filter: drop-shadow(0px 1px 2px rgba(0, 0, 0, 0.3));\n",
              "      fill: #FFFFFF;\n",
              "    }\n",
              "  </style>\n",
              "\n",
              "      <script>\n",
              "        const buttonEl =\n",
              "          document.querySelector('#df-74dd4e36-2cb0-481b-8804-be75a3088b63 button.colab-df-convert');\n",
              "        buttonEl.style.display =\n",
              "          google.colab.kernel.accessAllowed ? 'block' : 'none';\n",
              "\n",
              "        async function convertToInteractive(key) {\n",
              "          const element = document.querySelector('#df-74dd4e36-2cb0-481b-8804-be75a3088b63');\n",
              "          const dataTable =\n",
              "            await google.colab.kernel.invokeFunction('convertToInteractive',\n",
              "                                                     [key], {});\n",
              "          if (!dataTable) return;\n",
              "\n",
              "          const docLinkHtml = 'Like what you see? Visit the ' +\n",
              "            '<a target=\"_blank\" href=https://colab.research.google.com/notebooks/data_table.ipynb>data table notebook</a>'\n",
              "            + ' to learn more about interactive tables.';\n",
              "          element.innerHTML = '';\n",
              "          dataTable['output_type'] = 'display_data';\n",
              "          await google.colab.output.renderOutput(dataTable, element);\n",
              "          const docLink = document.createElement('div');\n",
              "          docLink.innerHTML = docLinkHtml;\n",
              "          element.appendChild(docLink);\n",
              "        }\n",
              "      </script>\n",
              "    </div>\n",
              "  </div>\n"
            ]
          },
          "metadata": {},
          "execution_count": 4
        }
      ]
    },
    {
      "cell_type": "code",
      "source": [
        "df.info()"
      ],
      "metadata": {
        "colab": {
          "base_uri": "https://localhost:8080/"
        },
        "id": "ITJq4qFcd6ky",
        "outputId": "9d27e059-815c-4d8f-ff89-94ac634c516d"
      },
      "execution_count": 5,
      "outputs": [
        {
          "output_type": "stream",
          "name": "stdout",
          "text": [
            "<class 'pandas.core.frame.DataFrame'>\n",
            "RangeIndex: 4760 entries, 0 to 4759\n",
            "Data columns (total 21 columns):\n",
            " #   Column                    Non-Null Count  Dtype  \n",
            "---  ------                    --------------  -----  \n",
            " 0   Movie_ID                  4760 non-null   int64  \n",
            " 1   Movie_Title               4760 non-null   object \n",
            " 2   Movie_Genre               4760 non-null   object \n",
            " 3   Movie_Language            4760 non-null   object \n",
            " 4   Movie_Budget              4760 non-null   int64  \n",
            " 5   Movie_Popularity          4760 non-null   float64\n",
            " 6   Movie_Release_Date        4760 non-null   object \n",
            " 7   Movie_Revenue             4760 non-null   int64  \n",
            " 8   Movie_Runtime             4758 non-null   float64\n",
            " 9   Movie_Vote                4760 non-null   float64\n",
            " 10  Movie_Vote_Count          4760 non-null   int64  \n",
            " 11  Movie_Homepage            1699 non-null   object \n",
            " 12  Movie_Keywords            4373 non-null   object \n",
            " 13  Movie_Overview            4757 non-null   object \n",
            " 14  Movie_Production_House    4760 non-null   object \n",
            " 15  Movie_Production_Country  4760 non-null   object \n",
            " 16  Movie_Spoken_Language     4760 non-null   object \n",
            " 17  Movie_Tagline             3942 non-null   object \n",
            " 18  Movie_Cast                4733 non-null   object \n",
            " 19  Movie_Crew                4760 non-null   object \n",
            " 20  Movie_Director            4738 non-null   object \n",
            "dtypes: float64(3), int64(4), object(14)\n",
            "memory usage: 781.1+ KB\n"
          ]
        }
      ]
    },
    {
      "cell_type": "code",
      "source": [
        "df.shape"
      ],
      "metadata": {
        "colab": {
          "base_uri": "https://localhost:8080/"
        },
        "id": "kYd-eIiReCxQ",
        "outputId": "50cd346a-af6e-475c-9e99-eb6efdbc6bae"
      },
      "execution_count": 6,
      "outputs": [
        {
          "output_type": "execute_result",
          "data": {
            "text/plain": [
              "(4760, 21)"
            ]
          },
          "metadata": {},
          "execution_count": 6
        }
      ]
    },
    {
      "cell_type": "code",
      "source": [
        "df.columns"
      ],
      "metadata": {
        "colab": {
          "base_uri": "https://localhost:8080/"
        },
        "id": "8X5YF1ZKeMnK",
        "outputId": "264eaedb-60b7-4ac2-fdba-6c69b5b828a7"
      },
      "execution_count": 7,
      "outputs": [
        {
          "output_type": "execute_result",
          "data": {
            "text/plain": [
              "Index(['Movie_ID', 'Movie_Title', 'Movie_Genre', 'Movie_Language',\n",
              "       'Movie_Budget', 'Movie_Popularity', 'Movie_Release_Date',\n",
              "       'Movie_Revenue', 'Movie_Runtime', 'Movie_Vote', 'Movie_Vote_Count',\n",
              "       'Movie_Homepage', 'Movie_Keywords', 'Movie_Overview',\n",
              "       'Movie_Production_House', 'Movie_Production_Country',\n",
              "       'Movie_Spoken_Language', 'Movie_Tagline', 'Movie_Cast', 'Movie_Crew',\n",
              "       'Movie_Director'],\n",
              "      dtype='object')"
            ]
          },
          "metadata": {},
          "execution_count": 7
        }
      ]
    },
    {
      "cell_type": "markdown",
      "source": [
        "### **Get Feature Selection**"
      ],
      "metadata": {
        "id": "LeY14z6-ePaH"
      }
    },
    {
      "cell_type": "code",
      "source": [
        "df_features = df[['Movie_Genre','Movie_Keywords','Movie_Tagline','Movie_Cast','Movie_Director']].fillna('')"
      ],
      "metadata": {
        "id": "074IFvcfeWLb"
      },
      "execution_count": 8,
      "outputs": []
    },
    {
      "cell_type": "markdown",
      "source": [
        "Selected five existing features to recommend movies. It may vary from one project to another. Like one can add vote counts, budget, language etc."
      ],
      "metadata": {
        "id": "F9mWwZzwewt9"
      }
    },
    {
      "cell_type": "code",
      "source": [
        "df_features.shape"
      ],
      "metadata": {
        "colab": {
          "base_uri": "https://localhost:8080/"
        },
        "id": "eozMXa_3fEyV",
        "outputId": "2fa68366-cc43-4cf4-a3b1-fddbc6fc0689"
      },
      "execution_count": 9,
      "outputs": [
        {
          "output_type": "execute_result",
          "data": {
            "text/plain": [
              "(4760, 5)"
            ]
          },
          "metadata": {},
          "execution_count": 9
        }
      ]
    },
    {
      "cell_type": "code",
      "source": [
        "df_features"
      ],
      "metadata": {
        "colab": {
          "base_uri": "https://localhost:8080/",
          "height": 623
        },
        "id": "ctrtzlYxf-dq",
        "outputId": "69f09a75-b051-403e-8692-c722e6fe0bca"
      },
      "execution_count": 10,
      "outputs": [
        {
          "output_type": "execute_result",
          "data": {
            "text/plain": [
              "                           Movie_Genre  \\\n",
              "0                         Crime Comedy   \n",
              "1     Adventure Action Science Fiction   \n",
              "2                     Animation Family   \n",
              "3                 Comedy Drama Romance   \n",
              "4                                Drama   \n",
              "...                                ...   \n",
              "4755                            Horror   \n",
              "4756               Comedy Family Drama   \n",
              "4757                    Thriller Drama   \n",
              "4758                            Family   \n",
              "4759                       Documentary   \n",
              "\n",
              "                                         Movie_Keywords  \\\n",
              "0             hotel new year's eve witch bet hotel room   \n",
              "1           android galaxy hermit death star lightsaber   \n",
              "2     father son relationship harbor underwater fish...   \n",
              "3     vietnam veteran hippie mentally disabled runni...   \n",
              "4     male nudity female nudity adultery midlife cri...   \n",
              "...                                                 ...   \n",
              "4755                                                      \n",
              "4756                                                      \n",
              "4757                     christian film sex trafficking   \n",
              "4758                                                      \n",
              "4759  music actors legendary perfomer classic hollyw...   \n",
              "\n",
              "                                          Movie_Tagline  \\\n",
              "0     Twelve outrageous guests. Four scandalous requ...   \n",
              "1          A long time ago in a galaxy far, far away...   \n",
              "2     There are 3.7 trillion fish in the ocean, they...   \n",
              "3     The world will never be the same, once you've ...   \n",
              "4                                          Look closer.   \n",
              "...                                                 ...   \n",
              "4755                The hot spot where Satan's waitin'.   \n",
              "4756           It’s better to stand out than to fit in.   \n",
              "4757           She never knew it could happen to her...   \n",
              "4758                                                      \n",
              "4759                                                      \n",
              "\n",
              "                                             Movie_Cast     Movie_Director  \n",
              "0     Tim Roth Antonio Banderas Jennifer Beals Madon...     Allison Anders  \n",
              "1     Mark Hamill Harrison Ford Carrie Fisher Peter ...       George Lucas  \n",
              "2     Albert Brooks Ellen DeGeneres Alexander Gould ...     Andrew Stanton  \n",
              "3     Tom Hanks Robin Wright Gary Sinise Mykelti Wil...    Robert Zemeckis  \n",
              "4     Kevin Spacey Annette Bening Thora Birch Wes Be...         Sam Mendes  \n",
              "...                                                 ...                ...  \n",
              "4755  Lisa Hart Carroll Michael Des Barres Paul Drak...         Pece Dingo  \n",
              "4756  Roni Akurati Brighton Sharbino Jason Lee Anjul...       Frank Lotito  \n",
              "4757  Nicole Smolen Kim Baldwin Ariana Stephens Brys...       Jaco Booyens  \n",
              "4758                                                                        \n",
              "4759                                    Tony Oppedisano  Simon Napier-Bell  \n",
              "\n",
              "[4760 rows x 5 columns]"
            ],
            "text/html": [
              "\n",
              "\n",
              "  <div id=\"df-cf002588-7c4b-43d7-93ba-fa5cf34a5ea8\">\n",
              "    <div class=\"colab-df-container\">\n",
              "      <div>\n",
              "<style scoped>\n",
              "    .dataframe tbody tr th:only-of-type {\n",
              "        vertical-align: middle;\n",
              "    }\n",
              "\n",
              "    .dataframe tbody tr th {\n",
              "        vertical-align: top;\n",
              "    }\n",
              "\n",
              "    .dataframe thead th {\n",
              "        text-align: right;\n",
              "    }\n",
              "</style>\n",
              "<table border=\"1\" class=\"dataframe\">\n",
              "  <thead>\n",
              "    <tr style=\"text-align: right;\">\n",
              "      <th></th>\n",
              "      <th>Movie_Genre</th>\n",
              "      <th>Movie_Keywords</th>\n",
              "      <th>Movie_Tagline</th>\n",
              "      <th>Movie_Cast</th>\n",
              "      <th>Movie_Director</th>\n",
              "    </tr>\n",
              "  </thead>\n",
              "  <tbody>\n",
              "    <tr>\n",
              "      <th>0</th>\n",
              "      <td>Crime Comedy</td>\n",
              "      <td>hotel new year's eve witch bet hotel room</td>\n",
              "      <td>Twelve outrageous guests. Four scandalous requ...</td>\n",
              "      <td>Tim Roth Antonio Banderas Jennifer Beals Madon...</td>\n",
              "      <td>Allison Anders</td>\n",
              "    </tr>\n",
              "    <tr>\n",
              "      <th>1</th>\n",
              "      <td>Adventure Action Science Fiction</td>\n",
              "      <td>android galaxy hermit death star lightsaber</td>\n",
              "      <td>A long time ago in a galaxy far, far away...</td>\n",
              "      <td>Mark Hamill Harrison Ford Carrie Fisher Peter ...</td>\n",
              "      <td>George Lucas</td>\n",
              "    </tr>\n",
              "    <tr>\n",
              "      <th>2</th>\n",
              "      <td>Animation Family</td>\n",
              "      <td>father son relationship harbor underwater fish...</td>\n",
              "      <td>There are 3.7 trillion fish in the ocean, they...</td>\n",
              "      <td>Albert Brooks Ellen DeGeneres Alexander Gould ...</td>\n",
              "      <td>Andrew Stanton</td>\n",
              "    </tr>\n",
              "    <tr>\n",
              "      <th>3</th>\n",
              "      <td>Comedy Drama Romance</td>\n",
              "      <td>vietnam veteran hippie mentally disabled runni...</td>\n",
              "      <td>The world will never be the same, once you've ...</td>\n",
              "      <td>Tom Hanks Robin Wright Gary Sinise Mykelti Wil...</td>\n",
              "      <td>Robert Zemeckis</td>\n",
              "    </tr>\n",
              "    <tr>\n",
              "      <th>4</th>\n",
              "      <td>Drama</td>\n",
              "      <td>male nudity female nudity adultery midlife cri...</td>\n",
              "      <td>Look closer.</td>\n",
              "      <td>Kevin Spacey Annette Bening Thora Birch Wes Be...</td>\n",
              "      <td>Sam Mendes</td>\n",
              "    </tr>\n",
              "    <tr>\n",
              "      <th>...</th>\n",
              "      <td>...</td>\n",
              "      <td>...</td>\n",
              "      <td>...</td>\n",
              "      <td>...</td>\n",
              "      <td>...</td>\n",
              "    </tr>\n",
              "    <tr>\n",
              "      <th>4755</th>\n",
              "      <td>Horror</td>\n",
              "      <td></td>\n",
              "      <td>The hot spot where Satan's waitin'.</td>\n",
              "      <td>Lisa Hart Carroll Michael Des Barres Paul Drak...</td>\n",
              "      <td>Pece Dingo</td>\n",
              "    </tr>\n",
              "    <tr>\n",
              "      <th>4756</th>\n",
              "      <td>Comedy Family Drama</td>\n",
              "      <td></td>\n",
              "      <td>It’s better to stand out than to fit in.</td>\n",
              "      <td>Roni Akurati Brighton Sharbino Jason Lee Anjul...</td>\n",
              "      <td>Frank Lotito</td>\n",
              "    </tr>\n",
              "    <tr>\n",
              "      <th>4757</th>\n",
              "      <td>Thriller Drama</td>\n",
              "      <td>christian film sex trafficking</td>\n",
              "      <td>She never knew it could happen to her...</td>\n",
              "      <td>Nicole Smolen Kim Baldwin Ariana Stephens Brys...</td>\n",
              "      <td>Jaco Booyens</td>\n",
              "    </tr>\n",
              "    <tr>\n",
              "      <th>4758</th>\n",
              "      <td>Family</td>\n",
              "      <td></td>\n",
              "      <td></td>\n",
              "      <td></td>\n",
              "      <td></td>\n",
              "    </tr>\n",
              "    <tr>\n",
              "      <th>4759</th>\n",
              "      <td>Documentary</td>\n",
              "      <td>music actors legendary perfomer classic hollyw...</td>\n",
              "      <td></td>\n",
              "      <td>Tony Oppedisano</td>\n",
              "      <td>Simon Napier-Bell</td>\n",
              "    </tr>\n",
              "  </tbody>\n",
              "</table>\n",
              "<p>4760 rows × 5 columns</p>\n",
              "</div>\n",
              "      <button class=\"colab-df-convert\" onclick=\"convertToInteractive('df-cf002588-7c4b-43d7-93ba-fa5cf34a5ea8')\"\n",
              "              title=\"Convert this dataframe to an interactive table.\"\n",
              "              style=\"display:none;\">\n",
              "\n",
              "  <svg xmlns=\"http://www.w3.org/2000/svg\" height=\"24px\"viewBox=\"0 0 24 24\"\n",
              "       width=\"24px\">\n",
              "    <path d=\"M0 0h24v24H0V0z\" fill=\"none\"/>\n",
              "    <path d=\"M18.56 5.44l.94 2.06.94-2.06 2.06-.94-2.06-.94-.94-2.06-.94 2.06-2.06.94zm-11 1L8.5 8.5l.94-2.06 2.06-.94-2.06-.94L8.5 2.5l-.94 2.06-2.06.94zm10 10l.94 2.06.94-2.06 2.06-.94-2.06-.94-.94-2.06-.94 2.06-2.06.94z\"/><path d=\"M17.41 7.96l-1.37-1.37c-.4-.4-.92-.59-1.43-.59-.52 0-1.04.2-1.43.59L10.3 9.45l-7.72 7.72c-.78.78-.78 2.05 0 2.83L4 21.41c.39.39.9.59 1.41.59.51 0 1.02-.2 1.41-.59l7.78-7.78 2.81-2.81c.8-.78.8-2.07 0-2.86zM5.41 20L4 18.59l7.72-7.72 1.47 1.35L5.41 20z\"/>\n",
              "  </svg>\n",
              "      </button>\n",
              "\n",
              "\n",
              "\n",
              "    <div id=\"df-1366ad09-ee9c-4c34-b1e0-b4d54d82b21b\">\n",
              "      <button class=\"colab-df-quickchart\" onclick=\"quickchart('df-1366ad09-ee9c-4c34-b1e0-b4d54d82b21b')\"\n",
              "              title=\"Suggest charts.\"\n",
              "              style=\"display:none;\">\n",
              "\n",
              "<svg xmlns=\"http://www.w3.org/2000/svg\" height=\"24px\"viewBox=\"0 0 24 24\"\n",
              "     width=\"24px\">\n",
              "    <g>\n",
              "        <path d=\"M19 3H5c-1.1 0-2 .9-2 2v14c0 1.1.9 2 2 2h14c1.1 0 2-.9 2-2V5c0-1.1-.9-2-2-2zM9 17H7v-7h2v7zm4 0h-2V7h2v10zm4 0h-2v-4h2v4z\"/>\n",
              "    </g>\n",
              "</svg>\n",
              "      </button>\n",
              "    </div>\n",
              "\n",
              "<style>\n",
              "  .colab-df-quickchart {\n",
              "    background-color: #E8F0FE;\n",
              "    border: none;\n",
              "    border-radius: 50%;\n",
              "    cursor: pointer;\n",
              "    display: none;\n",
              "    fill: #1967D2;\n",
              "    height: 32px;\n",
              "    padding: 0 0 0 0;\n",
              "    width: 32px;\n",
              "  }\n",
              "\n",
              "  .colab-df-quickchart:hover {\n",
              "    background-color: #E2EBFA;\n",
              "    box-shadow: 0px 1px 2px rgba(60, 64, 67, 0.3), 0px 1px 3px 1px rgba(60, 64, 67, 0.15);\n",
              "    fill: #174EA6;\n",
              "  }\n",
              "\n",
              "  [theme=dark] .colab-df-quickchart {\n",
              "    background-color: #3B4455;\n",
              "    fill: #D2E3FC;\n",
              "  }\n",
              "\n",
              "  [theme=dark] .colab-df-quickchart:hover {\n",
              "    background-color: #434B5C;\n",
              "    box-shadow: 0px 1px 3px 1px rgba(0, 0, 0, 0.15);\n",
              "    filter: drop-shadow(0px 1px 2px rgba(0, 0, 0, 0.3));\n",
              "    fill: #FFFFFF;\n",
              "  }\n",
              "</style>\n",
              "\n",
              "    <script>\n",
              "      async function quickchart(key) {\n",
              "        const containerElement = document.querySelector('#' + key);\n",
              "        const charts = await google.colab.kernel.invokeFunction(\n",
              "            'suggestCharts', [key], {});\n",
              "      }\n",
              "    </script>\n",
              "\n",
              "      <script>\n",
              "\n",
              "function displayQuickchartButton(domScope) {\n",
              "  let quickchartButtonEl =\n",
              "    domScope.querySelector('#df-1366ad09-ee9c-4c34-b1e0-b4d54d82b21b button.colab-df-quickchart');\n",
              "  quickchartButtonEl.style.display =\n",
              "    google.colab.kernel.accessAllowed ? 'block' : 'none';\n",
              "}\n",
              "\n",
              "        displayQuickchartButton(document);\n",
              "      </script>\n",
              "      <style>\n",
              "    .colab-df-container {\n",
              "      display:flex;\n",
              "      flex-wrap:wrap;\n",
              "      gap: 12px;\n",
              "    }\n",
              "\n",
              "    .colab-df-convert {\n",
              "      background-color: #E8F0FE;\n",
              "      border: none;\n",
              "      border-radius: 50%;\n",
              "      cursor: pointer;\n",
              "      display: none;\n",
              "      fill: #1967D2;\n",
              "      height: 32px;\n",
              "      padding: 0 0 0 0;\n",
              "      width: 32px;\n",
              "    }\n",
              "\n",
              "    .colab-df-convert:hover {\n",
              "      background-color: #E2EBFA;\n",
              "      box-shadow: 0px 1px 2px rgba(60, 64, 67, 0.3), 0px 1px 3px 1px rgba(60, 64, 67, 0.15);\n",
              "      fill: #174EA6;\n",
              "    }\n",
              "\n",
              "    [theme=dark] .colab-df-convert {\n",
              "      background-color: #3B4455;\n",
              "      fill: #D2E3FC;\n",
              "    }\n",
              "\n",
              "    [theme=dark] .colab-df-convert:hover {\n",
              "      background-color: #434B5C;\n",
              "      box-shadow: 0px 1px 3px 1px rgba(0, 0, 0, 0.15);\n",
              "      filter: drop-shadow(0px 1px 2px rgba(0, 0, 0, 0.3));\n",
              "      fill: #FFFFFF;\n",
              "    }\n",
              "  </style>\n",
              "\n",
              "      <script>\n",
              "        const buttonEl =\n",
              "          document.querySelector('#df-cf002588-7c4b-43d7-93ba-fa5cf34a5ea8 button.colab-df-convert');\n",
              "        buttonEl.style.display =\n",
              "          google.colab.kernel.accessAllowed ? 'block' : 'none';\n",
              "\n",
              "        async function convertToInteractive(key) {\n",
              "          const element = document.querySelector('#df-cf002588-7c4b-43d7-93ba-fa5cf34a5ea8');\n",
              "          const dataTable =\n",
              "            await google.colab.kernel.invokeFunction('convertToInteractive',\n",
              "                                                     [key], {});\n",
              "          if (!dataTable) return;\n",
              "\n",
              "          const docLinkHtml = 'Like what you see? Visit the ' +\n",
              "            '<a target=\"_blank\" href=https://colab.research.google.com/notebooks/data_table.ipynb>data table notebook</a>'\n",
              "            + ' to learn more about interactive tables.';\n",
              "          element.innerHTML = '';\n",
              "          dataTable['output_type'] = 'display_data';\n",
              "          await google.colab.output.renderOutput(dataTable, element);\n",
              "          const docLink = document.createElement('div');\n",
              "          docLink.innerHTML = docLinkHtml;\n",
              "          element.appendChild(docLink);\n",
              "        }\n",
              "      </script>\n",
              "    </div>\n",
              "  </div>\n"
            ]
          },
          "metadata": {},
          "execution_count": 10
        }
      ]
    },
    {
      "cell_type": "code",
      "source": [
        "X = df_features['Movie_Genre'] + ' ' + df_features['Movie_Keywords'] + ' ' + df_features['Movie_Tagline'] + ' ' + df_features['Movie_Cast'] + ' ' + df_features['Movie_Director']"
      ],
      "metadata": {
        "id": "Wjf4ZSe8gIcI"
      },
      "execution_count": 13,
      "outputs": []
    },
    {
      "cell_type": "code",
      "source": [
        "X"
      ],
      "metadata": {
        "colab": {
          "base_uri": "https://localhost:8080/"
        },
        "id": "Cxfjblk4hw1W",
        "outputId": "702decd4-d5a7-486c-cd69-982470345b11"
      },
      "execution_count": 14,
      "outputs": [
        {
          "output_type": "execute_result",
          "data": {
            "text/plain": [
              "0       Crime Comedy hotel new year's eve witch bet ho...\n",
              "1       Adventure Action Science Fiction android galax...\n",
              "2       Animation Family father son relationship harbo...\n",
              "3       Comedy Drama Romance vietnam veteran hippie me...\n",
              "4       Drama male nudity female nudity adultery midli...\n",
              "                              ...                        \n",
              "4755    Horror  The hot spot where Satan's waitin'. Li...\n",
              "4756    Comedy Family Drama  It’s better to stand out ...\n",
              "4757    Thriller Drama christian film sex trafficking ...\n",
              "4758                                           Family    \n",
              "4759    Documentary music actors legendary perfomer cl...\n",
              "Length: 4760, dtype: object"
            ]
          },
          "metadata": {},
          "execution_count": 14
        }
      ]
    },
    {
      "cell_type": "code",
      "source": [
        "X.shape"
      ],
      "metadata": {
        "colab": {
          "base_uri": "https://localhost:8080/"
        },
        "id": "fWvrpGubh02w",
        "outputId": "cfd7ced6-3727-42ce-9d4c-84d9d8dfbdad"
      },
      "execution_count": 15,
      "outputs": [
        {
          "output_type": "execute_result",
          "data": {
            "text/plain": [
              "(4760,)"
            ]
          },
          "metadata": {},
          "execution_count": 15
        }
      ]
    },
    {
      "cell_type": "markdown",
      "source": [
        "### **Get Feature Text Conversion to Tokens**"
      ],
      "metadata": {
        "id": "Hp0on_yIh3l2"
      }
    },
    {
      "cell_type": "code",
      "source": [
        "from sklearn.feature_extraction.text import TfidfVectorizer"
      ],
      "metadata": {
        "id": "7aZieQEOh_3f"
      },
      "execution_count": 16,
      "outputs": []
    },
    {
      "cell_type": "code",
      "source": [
        "tfidf = TfidfVectorizer()"
      ],
      "metadata": {
        "id": "lfS62D0DiZ2l"
      },
      "execution_count": 19,
      "outputs": []
    },
    {
      "cell_type": "code",
      "source": [
        "X = tfidf.fit_transform(X)"
      ],
      "metadata": {
        "id": "BEe-G6Szi2Um"
      },
      "execution_count": 24,
      "outputs": []
    },
    {
      "cell_type": "code",
      "source": [
        "X.shape"
      ],
      "metadata": {
        "colab": {
          "base_uri": "https://localhost:8080/"
        },
        "id": "byLTLpWji8ll",
        "outputId": "5623f0e3-a505-48bb-f10d-72489324b77a"
      },
      "execution_count": 25,
      "outputs": [
        {
          "output_type": "execute_result",
          "data": {
            "text/plain": [
              "(4760, 17258)"
            ]
          },
          "metadata": {},
          "execution_count": 25
        }
      ]
    },
    {
      "cell_type": "code",
      "source": [
        "print(X)"
      ],
      "metadata": {
        "colab": {
          "base_uri": "https://localhost:8080/"
        },
        "id": "rLpa_ny8i-fP",
        "outputId": "2cedbf62-9f44-4a12-99e4-322bf596ee8c"
      },
      "execution_count": 26,
      "outputs": [
        {
          "output_type": "stream",
          "name": "stdout",
          "text": [
            "  (0, 617)\t0.1633382144407513\n",
            "  (0, 492)\t0.1432591540388685\n",
            "  (0, 15413)\t0.1465525095337543\n",
            "  (0, 9675)\t0.14226057295252661\n",
            "  (0, 9465)\t0.1659841367820977\n",
            "  (0, 1390)\t0.16898383612799558\n",
            "  (0, 7825)\t0.09799561597509843\n",
            "  (0, 1214)\t0.13865857545144072\n",
            "  (0, 729)\t0.13415063359531618\n",
            "  (0, 13093)\t0.1432591540388685\n",
            "  (0, 15355)\t0.10477815972666779\n",
            "  (0, 9048)\t0.0866842116160778\n",
            "  (0, 11161)\t0.06250380151644369\n",
            "  (0, 16773)\t0.17654247479915475\n",
            "  (0, 5612)\t0.08603537588547631\n",
            "  (0, 16735)\t0.10690083751525419\n",
            "  (0, 7904)\t0.13348000542112332\n",
            "  (0, 15219)\t0.09800472886453934\n",
            "  (0, 11242)\t0.07277788238484746\n",
            "  (0, 3878)\t0.11998399582562203\n",
            "  (0, 5499)\t0.11454057510303811\n",
            "  (0, 7071)\t0.19822417598406614\n",
            "  (0, 7454)\t0.14745635785412262\n",
            "  (0, 1495)\t0.19712637387361423\n",
            "  (0, 9206)\t0.15186283580984414\n",
            "  :\t:\n",
            "  (4757, 5455)\t0.12491480594769522\n",
            "  (4757, 2967)\t0.16273475835631626\n",
            "  (4757, 8464)\t0.23522565554066333\n",
            "  (4757, 6938)\t0.17088173678136628\n",
            "  (4757, 8379)\t0.17480603856721913\n",
            "  (4757, 15303)\t0.07654356007668191\n",
            "  (4757, 15384)\t0.09754322497537371\n",
            "  (4757, 7649)\t0.11479421494340192\n",
            "  (4757, 10896)\t0.14546473055066447\n",
            "  (4757, 4494)\t0.05675298448720501\n",
            "  (4758, 5238)\t1.0\n",
            "  (4759, 11264)\t0.33947721804318337\n",
            "  (4759, 11708)\t0.33947721804318337\n",
            "  (4759, 205)\t0.3237911628497312\n",
            "  (4759, 8902)\t0.3040290704566037\n",
            "  (4759, 14062)\t0.3237911628497312\n",
            "  (4759, 3058)\t0.2812896191863103\n",
            "  (4759, 7130)\t0.26419662449963793\n",
            "  (4759, 10761)\t0.3126617295732147\n",
            "  (4759, 4358)\t0.18306542312175342\n",
            "  (4759, 14051)\t0.20084315377640435\n",
            "  (4759, 5690)\t0.19534291014627303\n",
            "  (4759, 15431)\t0.19628653185946862\n",
            "  (4759, 1490)\t0.21197258705292082\n",
            "  (4759, 10666)\t0.15888268987343043\n"
          ]
        }
      ]
    },
    {
      "cell_type": "markdown",
      "source": [
        "### **Get Similarity Score using Cosine Similarity**"
      ],
      "metadata": {
        "id": "xd00PF1VjG_L"
      }
    },
    {
      "cell_type": "markdown",
      "source": [
        "cosine_similarity computes the L2-normalized dot product of vectors. Euclidean (L2) normalization projects the vectors onto the unit sphere, and their dot product is then the cosine of the angle between the points denoted by the vectors."
      ],
      "metadata": {
        "id": "mwxB9x8pjRIz"
      }
    },
    {
      "cell_type": "code",
      "source": [
        "from sklearn.metrics.pairwise import cosine_similarity"
      ],
      "metadata": {
        "id": "0cb7E4kckHvW"
      },
      "execution_count": 27,
      "outputs": []
    },
    {
      "cell_type": "code",
      "source": [
        "Similarity_score = cosine_similarity(X)"
      ],
      "metadata": {
        "id": "J0uduJ5zkSIm"
      },
      "execution_count": 28,
      "outputs": []
    },
    {
      "cell_type": "code",
      "source": [
        "Similarity_score"
      ],
      "metadata": {
        "colab": {
          "base_uri": "https://localhost:8080/"
        },
        "id": "TonF95LYka0H",
        "outputId": "af7cc3de-6564-4ed9-f675-43d38addfc72"
      },
      "execution_count": 30,
      "outputs": [
        {
          "output_type": "execute_result",
          "data": {
            "text/plain": [
              "array([[1.        , 0.01351235, 0.03570468, ..., 0.        , 0.        ,\n",
              "        0.        ],\n",
              "       [0.01351235, 1.        , 0.00806674, ..., 0.        , 0.        ,\n",
              "        0.        ],\n",
              "       [0.03570468, 0.00806674, 1.        , ..., 0.        , 0.08014876,\n",
              "        0.        ],\n",
              "       ...,\n",
              "       [0.        , 0.        , 0.        , ..., 1.        , 0.        ,\n",
              "        0.        ],\n",
              "       [0.        , 0.        , 0.08014876, ..., 0.        , 1.        ,\n",
              "        0.        ],\n",
              "       [0.        , 0.        , 0.        , ..., 0.        , 0.        ,\n",
              "        1.        ]])"
            ]
          },
          "metadata": {},
          "execution_count": 30
        }
      ]
    },
    {
      "cell_type": "code",
      "source": [
        "Similarity_score.shape"
      ],
      "metadata": {
        "colab": {
          "base_uri": "https://localhost:8080/"
        },
        "id": "V-3BRuEMktHq",
        "outputId": "5fd3db28-3433-48ea-e3a3-a3b458bf03e3"
      },
      "execution_count": 31,
      "outputs": [
        {
          "output_type": "execute_result",
          "data": {
            "text/plain": [
              "(4760, 4760)"
            ]
          },
          "metadata": {},
          "execution_count": 31
        }
      ]
    },
    {
      "cell_type": "markdown",
      "source": [
        "### **Get Movie Name as Input from User and Validate for Closet Spelling**"
      ],
      "metadata": {
        "id": "nKp4ZLXPkz0q"
      }
    },
    {
      "cell_type": "code",
      "source": [
        "Favourite_Movie_Name = input(' Enter your favourite movie name : ')"
      ],
      "metadata": {
        "colab": {
          "base_uri": "https://localhost:8080/"
        },
        "id": "zIQR9oXOk94X",
        "outputId": "d636cc60-b316-452a-bf6a-cf9c4613f410"
      },
      "execution_count": 32,
      "outputs": [
        {
          "name": "stdout",
          "output_type": "stream",
          "text": [
            " Enter your favourite movie name : KGF Chapter2 \n"
          ]
        }
      ]
    },
    {
      "cell_type": "code",
      "source": [
        "All_Movies_Title_List = df['Movie_Title'].tolist()"
      ],
      "metadata": {
        "id": "J0YTU9qklgg0"
      },
      "execution_count": 33,
      "outputs": []
    },
    {
      "cell_type": "code",
      "source": [
        "import difflib"
      ],
      "metadata": {
        "id": "GzIHpozylueF"
      },
      "execution_count": 34,
      "outputs": []
    },
    {
      "cell_type": "code",
      "source": [
        "Movie_Recommendation = difflib.get_close_matches(Favourite_Movie_Name, All_Movies_Title_List)\n",
        "print(Movie_Recommendation)"
      ],
      "metadata": {
        "colab": {
          "base_uri": "https://localhost:8080/"
        },
        "id": "rsGPKSlylx5R",
        "outputId": "f60cb283-d45c-43c9-c487-3d636f71fe03"
      },
      "execution_count": 35,
      "outputs": [
        {
          "output_type": "stream",
          "name": "stdout",
          "text": [
            "['Get Carter']\n"
          ]
        }
      ]
    },
    {
      "cell_type": "code",
      "source": [
        "Close_Match = Movie_Recommendation[0]\n",
        "print(Close_Match)"
      ],
      "metadata": {
        "colab": {
          "base_uri": "https://localhost:8080/"
        },
        "id": "p8IXQ4q8mOtw",
        "outputId": "65f36556-f8bd-49ef-fe47-59043e8b8268"
      },
      "execution_count": 37,
      "outputs": [
        {
          "output_type": "stream",
          "name": "stdout",
          "text": [
            "Get Carter\n"
          ]
        }
      ]
    },
    {
      "cell_type": "code",
      "source": [
        "Index_of_Close_Match_Movie = df[df.Movie_Title == Close_Match]['Movie_ID'].values[0]\n",
        "print(Index_of_Close_Match_Movie)"
      ],
      "metadata": {
        "colab": {
          "base_uri": "https://localhost:8080/"
        },
        "id": "Ys4D_wbtmp4L",
        "outputId": "55601b53-50a1-45d5-83c5-d9332a90e167"
      },
      "execution_count": 39,
      "outputs": [
        {
          "output_type": "stream",
          "name": "stdout",
          "text": [
            "1688\n"
          ]
        }
      ]
    },
    {
      "cell_type": "code",
      "source": [
        "# getting a list of similar movies\n",
        "Recommendation_Score = list(enumerate(Similarity_score[Index_of_Close_Match_Movie]))\n",
        "print(Recommendation_Score)"
      ],
      "metadata": {
        "colab": {
          "base_uri": "https://localhost:8080/"
        },
        "id": "4Rr0Z_2CnP8m",
        "outputId": "0ebaaba4-b32c-4cbf-cfae-cd9a25a41625"
      },
      "execution_count": 41,
      "outputs": [
        {
          "output_type": "stream",
          "name": "stdout",
          "text": [
            "[(0, 0.04340447180702112), (1, 0.0), (2, 0.008136259328206196), (3, 0.037964635317508946), (4, 0.003142355538662278), (5, 0.0029870686319860094), (6, 0.0), (7, 0.0225746136461791), (8, 0.0032343809149440075), (9, 0.015913252664049513), (10, 0.010105068910745606), (11, 0.012903354399879264), (12, 0.013306343171113238), (13, 0.0), (14, 0.012379694331620561), (15, 0.00986185100223851), (16, 0.0024822987372575232), (17, 0.0), (18, 0.14954410950309519), (19, 0.01031581496857873), (20, 0.003115100901382689), (21, 0.003184852186099482), (22, 0.011677014094980506), (23, 0.003103546055211443), (24, 0.001945147368344037), (25, 0.0200354075162654), (26, 0.00291401917243915), (27, 0.0), (28, 0.013735983142827084), (29, 0.0474687242510517), (30, 0.0), (31, 0.002800917950787625), (32, 0.009376159222977912), (33, 0.03923705197836627), (34, 0.003099030094489842), (35, 0.03336634877639059), (36, 0.0), (37, 0.0259687289540716), (38, 0.015460904388869316), (39, 0.019042444380797087), (40, 0.013192118597808085), (41, 0.0033139127474650447), (42, 0.00413910121488599), (43, 0.009813838232609782), (44, 0.0336007829750364), (45, 0.0954046442079616), (46, 0.0), (47, 0.0), (48, 0.04185628635176013), (49, 0.031642116246461655), (50, 0.003996209496498318), (51, 0.00313342372213085), (52, 0.0028475972750376184), (53, 0.003834497742744378), (54, 0.0), (55, 0.08792729834412943), (56, 0.11283836858186386), (57, 0.0361844116851923), (58, 0.007950792325206095), (59, 0.004169158237031769), (60, 0.04610210505753446), (61, 0.002940329540860219), (62, 0.02032079751930562), (63, 0.008509330003214941), (64, 0.007941807138341047), (65, 0.009403207202823298), (66, 0.0029723979474532173), (67, 0.0397848752441256), (68, 0.003158541779239775), (69, 0.032580902000564495), (70, 0.0), (71, 0.030132585559649473), (72, 0.00919622730325264), (73, 0.05302108594609503), (74, 0.023336978149253878), (75, 0.031857232702209505), (76, 0.0), (77, 0.0), (78, 0.01445469985035499), (79, 0.02011129881060471), (80, 0.00868834551707755), (81, 0.0), (82, 0.03142926261520507), (83, 0.01742562886058128), (84, 0.009284320803804067), (85, 0.03883139876548987), (86, 0.01826878006633229), (87, 0.002875005248407103), (88, 0.007820927368577963), (89, 0.0), (90, 0.0), (91, 0.05578127232032873), (92, 0.0026209383147274765), (93, 0.0), (94, 0.008707822670268794), (95, 0.0), (96, 0.011532508445498097), (97, 0.010934946153166111), (98, 0.0029162379106424177), (99, 0.0), (100, 0.0), (101, 0.02102746773554043), (102, 0.010359538483788877), (103, 0.006084472143232307), (104, 0.020301566392837603), (105, 0.01235790774676788), (106, 0.03754204056671817), (107, 0.00337777518905704), (108, 0.07216806140272783), (109, 0.01065950949676981), (110, 0.013826830795923395), (111, 0.002766589426354429), (112, 0.011996158626634279), (113, 0.015447494054466982), (114, 0.00703146658466774), (115, 0.007182994909902113), (116, 0.00281084380389309), (117, 0.0), (118, 0.0), (119, 0.04958248086642231), (120, 0.003071506228041233), (121, 0.026198477653752435), (122, 0.04480389096842778), (123, 0.013632753287141482), (124, 0.05699543149429326), (125, 0.042800577215577264), (126, 0.002809959026611001), (127, 0.02775505680574472), (128, 0.0), (129, 0.004905405374021926), (130, 0.06676894175752154), (131, 0.03857795087290787), (132, 0.0026403908523145846), (133, 0.0), (134, 0.03334785682022058), (135, 0.018948292212779078), (136, 0.030151865487416888), (137, 0.017704212158676864), (138, 0.009104657142229819), (139, 0.004540168557043621), (140, 0.04191060344236962), (141, 0.004444699831429538), (142, 0.05451597122796678), (143, 0.0), (144, 0.007330442091995888), (145, 0.0), (146, 0.004364920012194577), (147, 0.009250228856191001), (148, 0.008604849030797328), (149, 0.002459362639596205), (150, 0.009282206550917032), (151, 0.0), (152, 0.00920846643659636), (153, 0.015900717078892575), (154, 0.0223962451266392), (155, 0.02789841150584753), (156, 0.01967592165178282), (157, 0.006690351363934435), (158, 0.05494080574418926), (159, 0.023210668777762), (160, 0.0), (161, 0.042696224683305556), (162, 0.06383512921959236), (163, 0.020332026319486413), (164, 0.010173776664754663), (165, 0.018968712459928053), (166, 0.01100456177615261), (167, 0.031542869439726555), (168, 0.01351482371317815), (169, 0.016218119219182883), (170, 0.017183042898501814), (171, 0.009000931803278656), (172, 0.002987650804736031), (173, 0.0423043745585748), (174, 0.0145579304636386), (175, 0.020452135263835387), (176, 0.0030602313924605684), (177, 0.02274277310658587), (178, 0.025099616954750457), (179, 0.00911440370666245), (180, 0.0), (181, 0.029475359983717222), (182, 0.06388132428972096), (183, 0.02895655544323677), (184, 0.03710196920634966), (185, 0.011118162921131604), (186, 0.007929718784526692), (187, 0.0), (188, 0.004020162504329262), (189, 0.009819313954160391), (190, 0.002541487395709215), (191, 0.01692067512940415), (192, 0.013476904343013268), (193, 0.042677311825634584), (194, 0.0023894879561571847), (195, 0.04071974926729606), (196, 0.023540870851998276), (197, 0.013916224171970411), (198, 0.0030217440970196473), (199, 0.0638614137181133), (200, 0.0026315625617136062), (201, 0.009893181288224107), (202, 0.04226834239309594), (203, 0.0028179662407545924), (204, 0.007338979495510401), (205, 0.004284893037090201), (206, 0.00315923112532753), (207, 0.0), (208, 0.01135119844342037), (209, 0.02035695717907285), (210, 0.0032097595070700894), (211, 0.021483719191443314), (212, 0.04207002773583392), (213, 0.0027718835609431857), (214, 0.029300489124730728), (215, 0.016216991602950592), (216, 0.012918261226472811), (217, 0.003944140139917515), (218, 0.0027189656032158265), (219, 0.004117212082551794), (220, 0.020049818235816277), (221, 0.020862880527326204), (222, 0.08507846942208128), (223, 0.009130979741865922), (224, 0.002278623200540583), (225, 0.02021302643244454), (226, 0.05816987692561601), (227, 0.025499344755772542), (228, 0.0166184687015162), (229, 0.0027765628229450877), (230, 0.007511976405663812), (231, 0.04729329932633841), (232, 0.072945280656308), (233, 0.026090167556985105), (234, 0.008160932900290387), (235, 0.003361521336518242), (236, 0.0027974769367176138), (237, 0.007692787200861735), (238, 0.032712607032009254), (239, 0.010057852239814646), (240, 0.008776836946745355), (241, 0.0), (242, 0.009257091471405535), (243, 0.06199240881905379), (244, 0.08392975066655493), (245, 0.004150735288495649), (246, 0.011774110187128976), (247, 0.03228376275944419), (248, 0.007136029117021291), (249, 0.027559663738773246), (250, 0.01061061708635718), (251, 0.025418648767430933), (252, 0.0163033830429779), (253, 0.04012235120249229), (254, 0.0032825953314869205), (255, 0.003118677183740694), (256, 0.002224977289167973), (257, 0.01823154786786614), (258, 0.0), (259, 0.018856014257923537), (260, 0.008993878010032333), (261, 0.00914860472524802), (262, 0.003128697820512858), (263, 0.03804908912340312), (264, 0.0135474998038387), (265, 0.0), (266, 0.030114663208378814), (267, 0.0025238592163443646), (268, 0.0026562682530549605), (269, 0.05344036392486598), (270, 0.0031147247835497487), (271, 0.008194054865067328), (272, 0.0380689838687311), (273, 0.0362802683673573), (274, 0.037490036574303), (275, 0.0), (276, 0.0028081182889566274), (277, 0.023450699223296807), (278, 0.006050190913331888), (279, 0.015453253600508733), (280, 0.02012145743948308), (281, 0.0033620930350944894), (282, 0.010533199038201674), (283, 0.023105573698135984), (284, 0.009043077201962438), (285, 0.0026972941944947517), (286, 0.0025556560713777855), (287, 0.036724669699078866), (288, 0.02265625628896051), (289, 0.0), (290, 0.0), (291, 0.008643194035657173), (292, 0.019573325553249817), (293, 0.026670000300613853), (294, 0.007550017154013505), (295, 0.0), (296, 0.013794604628612617), (297, 0.05031894417884035), (298, 0.06739309607786988), (299, 0.009480771251066543), (300, 0.00734885825251917), (301, 0.01819011242394352), (302, 0.0), (303, 0.0), (304, 0.0), (305, 0.009473098734899005), (306, 0.017473161924656786), (307, 0.010028950756755596), (308, 0.0033303271538491965), (309, 0.023587965645676896), (310, 0.018220842107416025), (311, 0.00379815894596668), (312, 0.0040745776735407096), (313, 0.007994090665370658), (314, 0.0), (315, 0.0), (316, 0.0), (317, 0.016116370187403358), (318, 0.007676913917778667), (319, 0.018854625867498136), (320, 0.0), (321, 0.007486972338599557), (322, 0.007595775960816594), (323, 0.0), (324, 0.038833648604369), (325, 0.04295054539764231), (326, 0.003647266725121783), (327, 0.015425796273665353), (328, 0.0334019959899306), (329, 0.01785486196250903), (330, 0.036481002365768345), (331, 0.008038072213896514), (332, 0.011551518244391018), (333, 0.0), (334, 0.006940964905745989), (335, 0.008766224146218953), (336, 0.02203548566043639), (337, 0.008606317047217728), (338, 0.020994249720323474), (339, 0.003915923979574255), (340, 0.008287877150792032), (341, 0.028725436273491795), (342, 0.054301441935144995), (343, 0.07903726342434696), (344, 0.018484907115458374), (345, 0.013112054781068055), (346, 0.05355224888647373), (347, 0.036038661188567946), (348, 0.012334849538969368), (349, 0.00288848445848311), (350, 0.007647605680639364), (351, 0.08180167902460589), (352, 0.008618278629039551), (353, 0.020489451364651284), (354, 0.015736568290905514), (355, 0.07630182825581444), (356, 0.019243288294176947), (357, 0.02242721929181705), (358, 0.01790074432727422), (359, 0.002733117961380631), (360, 0.0), (361, 0.014361128191836964), (362, 0.0044677675852711944), (363, 0.012850738242603646), (364, 0.0025621672675562304), (365, 0.00449368245668279), (366, 0.0033000084607073973), (367, 0.028330578108839648), (368, 0.016239246957378252), (369, 0.010353987543871904), (370, 0.0029733831373209515), (371, 0.013711416422313938), (372, 0.020445089587600232), (373, 0.002822511406880439), (374, 0.01815944860435988), (375, 0.0), (376, 0.0), (377, 0.036703722033329785), (378, 0.0029909623921104776), (379, 0.0), (380, 0.010893310780731823), (381, 0.007744715988953037), (382, 0.0), (383, 0.0036064583787889367), (384, 0.0), (385, 0.004479588368053377), (386, 0.008032127068298237), (387, 0.011751728358117894), (388, 0.04717828715631907), (389, 0.0), (390, 0.028559343188453833), (391, 0.005182610223484083), (392, 0.014370896974468706), (393, 0.0035835025725650766), (394, 0.0), (395, 0.00319531430791028), (396, 0.0028619559513346033), (397, 0.0), (398, 0.0040747170131292905), (399, 0.030254650383061056), (400, 0.023640757071011365), (401, 0.004101265520274748), (402, 0.01303407682011576), (403, 0.025136576374966135), (404, 0.1058336498294561), (405, 0.0043381234840981055), (406, 0.010908589300685615), (407, 0.03759288077756586), (408, 0.011780830629222173), (409, 0.09451805169219983), (410, 0.039198438999616336), (411, 0.03495274687923869), (412, 0.024228594762880473), (413, 0.04510665992931907), (414, 0.00883135106153477), (415, 0.00427412763249399), (416, 0.018834825648483128), (417, 0.012566575806063863), (418, 0.024340154285534463), (419, 0.0033542453394755354), (420, 0.01019634326823733), (421, 0.010463073499598463), (422, 0.0038233534008823957), (423, 0.031699320240934324), (424, 0.010766524254931954), (425, 0.010757183097678476), (426, 0.008869165549442446), (427, 0.012976665805389039), (428, 0.026774919325573993), (429, 0.003121241452264948), (430, 0.0032055263574557783), (431, 0.008284501946754431), (432, 0.002533612554277866), (433, 0.015055669100376656), (434, 0.0028175341407678414), (435, 0.024060910243481427), (436, 0.00333210286206934), (437, 0.017464386120470816), (438, 0.0), (439, 0.009426496881852117), (440, 0.0), (441, 0.024507091499070988), (442, 0.010331916793771307), (443, 0.0034446986327942874), (444, 0.0033183721336366555), (445, 0.009153013696080854), (446, 0.010430034093501954), (447, 0.003092483390587848), (448, 0.014382502203740682), (449, 0.036506368152235194), (450, 0.10395714457839017), (451, 0.0), (452, 0.03528782805814347), (453, 0.0022773375635163386), (454, 0.03580344286220276), (455, 0.023169276608843506), (456, 0.01172995647089058), (457, 0.0027334287792786295), (458, 0.0033231008682418845), (459, 0.003964385295793223), (460, 0.01887645197767067), (461, 0.00479202082535314), (462, 0.0), (463, 0.009908946907867837), (464, 0.03989861185355614), (465, 0.016803452212249492), (466, 0.032280359818606455), (467, 0.02925022862241845), (468, 0.007218196663112006), (469, 0.015672604277467587), (470, 0.01127658030976562), (471, 0.006560135377884557), (472, 0.05131772254628757), (473, 0.006355380590565701), (474, 0.004251940205013683), (475, 0.07635109618538868), (476, 0.0032691978602061656), (477, 0.021280591183966385), (478, 0.0033705695653529835), (479, 0.03558078799665107), (480, 0.002613370713542724), (481, 0.003238822751802444), (482, 0.011159897127997195), (483, 0.013156226841955306), (484, 0.01264079999055595), (485, 0.03499055959878367), (486, 0.00910605730311414), (487, 0.002850973577660378), (488, 0.002880675284260344), (489, 0.0035626814374022614), (490, 0.03233210875263581), (491, 0.011085414405433685), (492, 0.008853050388334867), (493, 0.003162084530647375), (494, 0.07654258162255945), (495, 0.011020848246363447), (496, 0.0400003135834123), (497, 0.012039205739312013), (498, 0.01289770727642341), (499, 0.0032410854466515897), (500, 0.01849161147621074), (501, 0.0), (502, 0.003117851600535579), (503, 0.003936371395800974), (504, 0.016606845461385893), (505, 0.0066734103127974575), (506, 0.026454539866518075), (507, 0.015499692535866765), (508, 0.04778196498262459), (509, 0.0334843349790057), (510, 0.013194750717669379), (511, 0.02268620432261522), (512, 0.011270241753993564), (513, 0.0), (514, 0.0), (515, 0.006332052797388009), (516, 0.0), (517, 0.021700264509582887), (518, 0.003491440427657641), (519, 0.00944038508166925), (520, 0.028523248624176347), (521, 0.04902142856304567), (522, 0.023160732243224763), (523, 0.028044237598242337), (524, 0.02012977834532822), (525, 0.013456447585054352), (526, 0.0037450463855369285), (527, 0.014571066894830169), (528, 0.03433392451223029), (529, 0.013612497408666819), (530, 0.01866833684892019), (531, 0.009716970042742194), (532, 0.003757583007596279), (533, 0.003349734546393896), (534, 0.002941466133237691), (535, 0.003992777800756904), (536, 0.004306487362530492), (537, 0.042556659838242014), (538, 0.09790407616863549), (539, 0.07059874163880783), (540, 0.08408930038732317), (541, 0.07266427324043645), (542, 0.07024598606756303), (543, 0.07824311813202285), (544, 0.0030222578283938704), (545, 0.011884634770309061), (546, 0.0039043092227254144), (547, 0.04202654338265429), (548, 0.008891974527179804), (549, 0.0087977170376637), (550, 0.0), (551, 0.059779365907681084), (552, 0.0), (553, 0.0354292008560471), (554, 0.0), (555, 0.04388639059174442), (556, 0.0), (557, 0.0), (558, 0.0027462584051361058), (559, 0.0), (560, 0.04206221807458219), (561, 0.040649539691302305), (562, 0.00945316455261289), (563, 0.0026855121443785357), (564, 0.003120115999048645), (565, 0.0), (566, 0.039307422634966886), (567, 0.0), (568, 0.024743332492831678), (569, 0.017376662269123443), (570, 0.0), (571, 0.02267784228030746), (572, 0.0), (573, 0.0), (574, 0.0), (575, 0.03517997815369763), (576, 0.0033572884425391784), (577, 0.012116720313537053), (578, 0.002810817452555722), (579, 0.007121026192058295), (580, 0.0031121064740262574), (581, 0.0026838416754397737), (582, 0.04881162481948376), (583, 0.022926004432635576), (584, 0.0030816167366422872), (585, 0.013014625723537863), (586, 0.004215213705359361), (587, 0.0032753784461950525), (588, 0.01294804796265788), (589, 0.006510368299711265), (590, 0.011484397576111855), (591, 0.0), (592, 0.0), (593, 0.003037676672496182), (594, 0.05757658046715289), (595, 0.022965423064554572), (596, 0.0033369361342597014), (597, 0.03518273202065166), (598, 0.0027748626003566267), (599, 0.009975771866368322), (600, 0.04931733747633758), (601, 0.0), (602, 0.0), (603, 0.010085585042787665), (604, 0.0027390304824205787), (605, 0.006181235111088592), (606, 0.0030753668248547105), (607, 0.0022948994955307835), (608, 0.0026996613731137702), (609, 0.055432284949688805), (610, 0.009427816134280195), (611, 0.004784919839490453), (612, 0.061261298021701355), (613, 0.009346468616037343), (614, 0.014296615371551635), (615, 0.01781304973165409), (616, 0.03363774849259518), (617, 0.023662776874421892), (618, 0.04575570575572132), (619, 0.0), (620, 0.04617769053422323), (621, 0.0), (622, 0.034694555262328626), (623, 0.03467804397845696), (624, 0.0027240882583172243), (625, 0.0), (626, 0.0025238958731830983), (627, 0.004032739932217319), (628, 0.003002695469587576), (629, 0.010155164928557475), (630, 0.004088712886650692), (631, 0.020742892814749163), (632, 0.0036572530511936137), (633, 0.0), (634, 0.0), (635, 0.02912677621640912), (636, 0.003007752424215849), (637, 0.0030840643023390983), (638, 0.0027448989495227655), (639, 0.035411002986100074), (640, 0.015876301597206342), (641, 0.00765645246449079), (642, 0.0025724677247288634), (643, 0.019549345449417027), (644, 0.011836949979677967), (645, 0.002432426151608738), (646, 0.0028640005563429515), (647, 0.0026130821998709836), (648, 0.08184285908993007), (649, 0.003835067112595412), (650, 0.07878768468155439), (651, 0.010322512602071048), (652, 0.003046248929505946), (653, 0.027341525983007285), (654, 0.009994040241918257), (655, 0.07015334074168565), (656, 0.08945861239704611), (657, 0.053299373328247523), (658, 0.0), (659, 0.036293605576056945), (660, 0.003110975651677996), (661, 0.008895254915166243), (662, 0.003923425940634483), (663, 0.03297910683939815), (664, 0.019041648755073293), (665, 0.0346049724484912), (666, 0.01067026050847006), (667, 0.0042543907005658365), (668, 0.007501812973111724), (669, 0.04794919339973149), (670, 0.0036703025139085146), (671, 0.060064052426389875), (672, 0.00626400847589959), (673, 0.003250003464574648), (674, 0.0), (675, 0.013588633827203093), (676, 0.0028873025205909723), (677, 0.11627981515404598), (678, 0.004411448372014484), (679, 0.004663588057149235), (680, 0.013251537847538672), (681, 0.010735395108806688), (682, 0.0), (683, 0.014066999022029725), (684, 0.050493062153494334), (685, 0.019481531491877785), (686, 0.0), (687, 0.015009802234480889), (688, 0.03497925572665644), (689, 0.020063554593861836), (690, 0.012587356106780228), (691, 0.02723954216152274), (692, 0.07630797821563026), (693, 0.0028986671890847606), (694, 0.002800623217092148), (695, 0.0775071155848095), (696, 0.0029977319751602156), (697, 0.04459701443480095), (698, 0.002817756691695165), (699, 0.017054587631505438), (700, 0.010403430780807013), (701, 0.05013600447372706), (702, 0.0037859508212462877), (703, 0.07315981129892758), (704, 0.010253006521624948), (705, 0.009465549535147347), (706, 0.07303493600000922), (707, 0.0308664621062618), (708, 0.004174984449577846), (709, 0.0033884876367054205), (710, 0.010925320035294877), (711, 0.004753187091618098), (712, 0.03487844448707335), (713, 0.0), (714, 0.0), (715, 0.011798429179172322), (716, 0.00312305797711422), (717, 0.012994230040375759), (718, 0.0), (719, 0.031443283255491755), (720, 0.02397523435379124), (721, 0.0034123933844485634), (722, 0.011196274480352264), (723, 0.024081641182165235), (724, 0.0), (725, 0.008066396931966332), (726, 0.01924091164046038), (727, 0.02155839317041509), (728, 0.0032121920220143274), (729, 0.003321036873692239), (730, 0.004166650832189675), (731, 0.030060404987916695), (732, 0.009544661099987481), (733, 0.018985514599021744), (734, 0.010013280450238509), (735, 0.009592355724937175), (736, 0.013619592284913117), (737, 0.06535042665194139), (738, 0.015623017082749591), (739, 0.003398403950302337), (740, 0.004712512533252654), (741, 0.08003259656449849), (742, 0.07373824925301552), (743, 0.03818835214988517), (744, 0.011523300151962484), (745, 0.06118173653744692), (746, 0.0), (747, 0.010571817030134864), (748, 0.018247075727947603), (749, 0.02195600078490067), (750, 0.0030341243091527676), (751, 0.004883054068813357), (752, 0.04759263359084651), (753, 0.0), (754, 0.004335295880231239), (755, 0.03566381445429602), (756, 0.03074195975754916), (757, 0.040657429329976964), (758, 0.08275860394726507), (759, 0.0334121361896014), (760, 0.004642154273344938), (761, 0.002978649629478918), (762, 0.055530086468988826), (763, 0.05319922682167372), (764, 0.00590574839373372), (765, 0.010021479491407349), (766, 0.00989294911420589), (767, 0.01182008435364997), (768, 0.027602927164548013), (769, 0.012297387963284747), (770, 0.00373757135294207), (771, 0.004359583189287095), (772, 0.003882044665624994), (773, 0.013087541473942949), (774, 0.03383131055303904), (775, 0.026311071839354716), (776, 0.0431239792364393), (777, 0.0035794724502686125), (778, 0.02602560279663349), (779, 0.008105551939426378), (780, 0.02189340506080021), (781, 0.08624566758569323), (782, 0.01935879901901043), (783, 0.0031372957374887715), (784, 0.004195773963449426), (785, 0.043918807372964386), (786, 0.003389227242610719), (787, 0.02061519617784011), (788, 0.032055563242257556), (789, 0.015304632055877199), (790, 0.00919055127630919), (791, 0.0031994053750899897), (792, 0.013254587327651222), (793, 0.0042025160457718315), (794, 0.019890901617963766), (795, 0.004782806118438528), (796, 0.0024725717302617363), (797, 0.004223180051991883), (798, 0.020940035352084233), (799, 0.002903298007115633), (800, 0.00961023263164053), (801, 0.0), (802, 0.0), (803, 0.02542504596511182), (804, 0.002678665098326447), (805, 0.011522556627670622), (806, 0.028923015374762585), (807, 0.013954419095730343), (808, 0.042385129217801853), (809, 0.007919127000840149), (810, 0.008859219904527907), (811, 0.0), (812, 0.007293578238583322), (813, 0.02464489693574389), (814, 0.05048566131706774), (815, 0.002660713804997681), (816, 0.0024239944146500453), (817, 0.010346741224623613), (818, 0.0028135317919644625), (819, 0.0), (820, 0.011950581757069263), (821, 0.0194547369369446), (822, 0.03386212899488032), (823, 0.03763532062053976), (824, 0.0271324831280724), (825, 0.0), (826, 0.0031762320519338016), (827, 0.02713019003124791), (828, 0.0028133559254969573), (829, 0.01144658146459827), (830, 0.0031306729461300364), (831, 0.002102487709401263), (832, 0.012669639987852867), (833, 0.007219060202843756), (834, 0.0076508938084982134), (835, 0.007293291291242243), (836, 0.0035673672123818687), (837, 0.0031106310316409373), (838, 0.037533589295537545), (839, 0.004571883396524343), (840, 0.06018724066529006), (841, 0.004443274941482314), (842, 0.004947953147900332), (843, 0.008792691760525245), (844, 0.014734380259482812), (845, 0.0031179076865839933), (846, 0.004143519017865227), (847, 0.027774759906808614), (848, 0.08786849476758173), (849, 0.0040439088484788945), (850, 0.04652523215588207), (851, 0.006153966646406082), (852, 0.05003534090007458), (853, 0.03603696773010957), (854, 0.011891727903374068), (855, 0.0), (856, 0.002658394092628072), (857, 0.0032887791406201678), (858, 0.002010878679805061), (859, 0.0038250724802440157), (860, 0.003450667647274915), (861, 0.049686669645012393), (862, 0.020046875507591533), (863, 0.0027223291792659145), (864, 0.020385371948079142), (865, 0.06066924519927976), (866, 0.03816979697377452), (867, 0.051371599785668964), (868, 0.0027651496150975993), (869, 0.004148933965453956), (870, 0.04874140141627234), (871, 0.0030600526450751436), (872, 0.007520436803584317), (873, 0.045482597937363166), (874, 0.02557505187745075), (875, 0.0), (876, 0.003399366159538624), (877, 0.0), (878, 0.011769110961521886), (879, 0.00732884686563064), (880, 0.032182224307383836), (881, 0.029920108389393234), (882, 0.00840544263536808), (883, 0.015768407127943865), (884, 0.007308632338054394), (885, 0.014806085022870844), (886, 0.006585780200155514), (887, 0.003238304652124808), (888, 0.00330075219547499), (889, 0.0038328551583081635), (890, 0.017215810404486772), (891, 0.009988366376234684), (892, 0.0035056326065077644), (893, 0.0), (894, 0.01234345580882126), (895, 0.11020465622213513), (896, 0.003253473961683311), (897, 0.05022618022803086), (898, 0.020729389627302097), (899, 0.02570748304395755), (900, 0.009996767157009201), (901, 0.0024667764645833444), (902, 0.0), (903, 0.006584809222761974), (904, 0.015925531481646882), (905, 0.004681020322287445), (906, 0.01536293946929082), (907, 0.015180101085242164), (908, 0.04303646703077877), (909, 0.0), (910, 0.02890483883936989), (911, 0.02078825917411306), (912, 0.003558296921147935), (913, 0.010058176303063864), (914, 0.0), (915, 0.009124396685169494), (916, 0.01968331004816214), (917, 0.0026657712062354887), (918, 0.009812969953200888), (919, 0.009636218135167395), (920, 0.003714824490474324), (921, 0.009950780909184597), (922, 0.003341356630023683), (923, 0.006765024862429012), (924, 0.04341914362648826), (925, 0.008077325727005947), (926, 0.003156144263319915), (927, 0.0), (928, 0.009895275812112992), (929, 0.015828768364249353), (930, 0.09548990892328632), (931, 0.013519539222854603), (932, 0.018666631303274433), (933, 0.007174248400773984), (934, 0.03405842642180816), (935, 0.029229324262948934), (936, 0.009620241908668179), (937, 0.003479516050304155), (938, 0.043304173817863376), (939, 0.006625870496178795), (940, 0.03266692020012919), (941, 0.006579409647995076), (942, 0.0024211828426495287), (943, 0.004056278549191384), (944, 0.03042036509095042), (945, 0.013698830842211875), (946, 0.004026859170468983), (947, 0.0040173946907066035), (948, 0.01703450952063343), (949, 0.012717598777211177), (950, 0.0), (951, 0.0059302395285594205), (952, 0.050807440143447236), (953, 0.0023979208513407063), (954, 0.0), (955, 0.03849041916207152), (956, 0.004433521254986681), (957, 0.09503805146383411), (958, 0.01074910536670286), (959, 0.002892744531078335), (960, 0.0), (961, 0.0041867373981177665), (962, 0.028120778357588187), (963, 0.05545851274959678), (964, 0.003373413043610517), (965, 0.004037729002955366), (966, 0.01904801653824116), (967, 0.003288107372375557), (968, 0.016672744156776383), (969, 0.007170075456413979), (970, 0.017947605634244402), (971, 0.03970813779659187), (972, 0.02582788804282389), (973, 0.025605126061215237), (974, 0.04578261268177523), (975, 0.0027880586224343475), (976, 0.022009211963884393), (977, 0.0), (978, 0.01625643843506698), (979, 0.006820901905020272), (980, 0.003078054422131433), (981, 0.01975460688998669), (982, 0.025313249692499748), (983, 0.0417157843149728), (984, 0.03490703349774396), (985, 0.008035833852189762), (986, 0.002975933936331837), (987, 0.0030890388836633427), (988, 0.012376493294102082), (989, 0.002929290913505779), (990, 0.004445241330143205), (991, 0.003196886833484047), (992, 0.0), (993, 0.03358734441647533), (994, 0.024247341396076406), (995, 0.03183180503015711), (996, 0.005710103454739067), (997, 0.0), (998, 0.007963522431228026), (999, 0.007957004843144938), (1000, 0.011207475204932172), (1001, 0.05848737035847029), (1002, 0.028618137989380735), (1003, 0.0), (1004, 0.021385997738543615), (1005, 0.02266787307719714), (1006, 0.05630511762080917), (1007, 0.007395351595051436), (1008, 0.003467462550057835), (1009, 0.009485068643549985), (1010, 0.011442598196829145), (1011, 0.010708801942441382), (1012, 0.035971668186259353), (1013, 0.00427575382237237), (1014, 0.04206952406510064), (1015, 0.011557650336357427), (1016, 0.0), (1017, 0.01039231894617498), (1018, 0.01499536863884007), (1019, 0.012972045674550438), (1020, 0.010257694312446847), (1021, 0.014680755960096874), (1022, 0.013467002332713465), (1023, 0.012018434255252581), (1024, 0.004214641009185463), (1025, 0.012056012417306567), (1026, 0.03973539505933233), (1027, 0.0028478581185807403), (1028, 0.003993757482951726), (1029, 0.021775587399795442), (1030, 0.0028828778374962944), (1031, 0.01008179582665947), (1032, 0.002812936694379295), (1033, 0.04321407600703418), (1034, 0.0028520973198890823), (1035, 0.012105075488478065), (1036, 0.0028088914659063586), (1037, 0.008697473970785389), (1038, 0.00369573016672734), (1039, 0.01724105452739753), (1040, 0.005486658948805017), (1041, 0.04845034658093626), (1042, 0.0024873508767625048), (1043, 0.05447256647982293), (1044, 0.002885052656139868), (1045, 0.0), (1046, 0.008053910825502709), (1047, 0.01409553616903381), (1048, 0.05179931453423314), (1049, 0.03309058548418735), (1050, 0.002537208680919727), (1051, 0.0), (1052, 0.011535668152814076), (1053, 0.003502950769022742), (1054, 0.00895381137805619), (1055, 0.0), (1056, 0.010316860441315037), (1057, 0.0), (1058, 0.0), (1059, 0.0123343445834012), (1060, 0.045800095363268845), (1061, 0.07410193163697698), (1062, 0.030088324728696346), (1063, 0.0), (1064, 0.003608199493612234), (1065, 0.002722067970347035), (1066, 0.017466457458997813), (1067, 0.0), (1068, 0.015902852328720754), (1069, 0.008630395272538215), (1070, 0.0034586063819313506), (1071, 0.04365450891936193), (1072, 0.0029497752615704836), (1073, 0.043552158755576185), (1074, 0.011796397842027528), (1075, 0.011263168988265907), (1076, 0.0), (1077, 0.020610233649129096), (1078, 0.00585012041069946), (1079, 0.006459947338232233), (1080, 0.002681079330763506), (1081, 0.0), (1082, 0.0), (1083, 0.0030987007985704114), (1084, 0.006883373794502894), (1085, 0.004125304272410235), (1086, 0.0), (1087, 0.07023093085973743), (1088, 0.0060050652569291225), (1089, 0.004448934113751087), (1090, 0.08407748734898932), (1091, 0.0), (1092, 0.0), (1093, 0.03252388998542972), (1094, 0.06552937627062382), (1095, 0.023841654570759038), (1096, 0.01040175551849927), (1097, 0.0), (1098, 0.00242855317712897), (1099, 0.08496347497373585), (1100, 0.006908525028432191), (1101, 0.0), (1102, 0.0029558113122139275), (1103, 0.0043605139963590125), (1104, 0.00998056534722474), (1105, 0.023352855270295264), (1106, 0.034519557131254854), (1107, 0.002770947136489829), (1108, 0.03724200839674428), (1109, 0.03330548786355629), (1110, 0.0029273868059724074), (1111, 0.027262157132573878), (1112, 0.006996697167293151), (1113, 0.05354309935125466), (1114, 0.0995809760068005), (1115, 0.0032515059767473462), (1116, 0.008171843303559957), (1117, 0.0436635971536037), (1118, 0.03474412538332013), (1119, 0.0031797320750164442), (1120, 0.04856757087496469), (1121, 0.04090668631469627), (1122, 0.003032083022254698), (1123, 0.0028304600328955837), (1124, 0.015280080742270458), (1125, 0.0038885524270368312), (1126, 0.003995825871888087), (1127, 0.0), (1128, 0.007558385162527283), (1129, 0.06687032563992994), (1130, 0.013256852216920429), (1131, 0.0029881464190135583), (1132, 0.09181476562599514), (1133, 0.004037876358012195), (1134, 0.0), (1135, 0.0), (1136, 0.04917434472720357), (1137, 0.0), (1138, 0.0030126647930566993), (1139, 0.0038061379282909803), (1140, 0.013341771520017452), (1141, 0.01142613961282946), (1142, 0.004239281000845868), (1143, 0.0), (1144, 0.01608422489181723), (1145, 0.004118292151407455), (1146, 0.016626833308242907), (1147, 0.0), (1148, 0.0356517017859781), (1149, 0.0037304405277023343), (1150, 0.010227495509590963), (1151, 0.0), (1152, 0.003751584432296712), (1153, 0.002837214148013072), (1154, 0.0), (1155, 0.04369233193240357), (1156, 0.0033219044802607375), (1157, 0.08101995024453143), (1158, 0.036257977504592066), (1159, 0.0), (1160, 0.002826811612979486), (1161, 0.0026884030920879833), (1162, 0.039612674534085), (1163, 0.0029729582284092806), (1164, 0.016979361337350646), (1165, 0.004191653364190831), (1166, 0.004124869571396403), (1167, 0.0), (1168, 0.014962940810864155), (1169, 0.00822153705276504), (1170, 0.0165256331613705), (1171, 0.008589403999642224), (1172, 0.03743201172382847), (1173, 0.019223766549673223), (1174, 0.08907070055218563), (1175, 0.0030056063102748324), (1176, 0.003040059763364011), (1177, 0.0028054799171716256), (1178, 0.011492731766300144), (1179, 0.012458780654803223), (1180, 0.007538393418172304), (1181, 0.0), (1182, 0.010908640072301265), (1183, 0.0027643698703719416), (1184, 0.0033976273812788165), (1185, 0.009990056335981585), (1186, 0.010941083967632168), (1187, 0.008253451608241313), (1188, 0.0031259320898439583), (1189, 0.0), (1190, 0.0038472267948356665), (1191, 0.022029349324760375), (1192, 0.06216095116035964), (1193, 0.004240297030987238), (1194, 0.01855968172213823), (1195, 0.01782491827016162), (1196, 0.05779169640661708), (1197, 0.0), (1198, 0.004005572457544558), (1199, 0.0061968786258596404), (1200, 0.0036780862099528248), (1201, 0.009165711354182707), (1202, 0.0025261827693247516), (1203, 0.006595680827458395), (1204, 0.028313803923283625), (1205, 0.031466544844949616), (1206, 0.01885913134673469), (1207, 0.0), (1208, 0.047667227903272436), (1209, 0.0024818150341694356), (1210, 0.0740287175099048), (1211, 0.0038343525859436873), (1212, 0.0034909391453577187), (1213, 0.0035546697285030408), (1214, 0.019295304546382813), (1215, 0.03870908160072192), (1216, 0.03216569408816029), (1217, 0.006098656943151939), (1218, 0.00904592513917626), (1219, 0.0026717625733624585), (1220, 0.018208548986001355), (1221, 0.007883359436170677), (1222, 0.003392264972511579), (1223, 0.012508704048782593), (1224, 0.03397954817582659), (1225, 0.0031418383003489554), (1226, 0.00763603469931514), (1227, 0.0040424719462613746), (1228, 0.0), (1229, 0.003109233111130485), (1230, 0.0), (1231, 0.003877641817954716), (1232, 0.007078974740685564), (1233, 0.0), (1234, 0.007438771387846637), (1235, 0.031704497494448564), (1236, 0.0), (1237, 0.00270349341641381), (1238, 0.021097767933281778), (1239, 0.04997829129181902), (1240, 0.0), (1241, 0.018038690515365448), (1242, 0.003701846620433134), (1243, 0.007662101333371966), (1244, 0.004173970130258658), (1245, 0.03164985910183667), (1246, 0.014615272150213094), (1247, 0.0028765413724325074), (1248, 0.0028614256063761866), (1249, 0.042608472805126835), (1250, 0.017526648418901676), (1251, 0.0062161991878616225), (1252, 0.0029506978442651864), (1253, 0.0), (1254, 0.03830014763940908), (1255, 0.01015894313417855), (1256, 0.03082254575782649), (1257, 0.03682492417081745), (1258, 0.0), (1259, 0.026000517464509935), (1260, 0.0045139285083350975), (1261, 0.00680139308832443), (1262, 0.017150162455404596), (1263, 0.0), (1264, 0.0035874739810917437), (1265, 0.0), (1266, 0.017543665431694846), (1267, 0.020535188165052082), (1268, 0.0032395612772924826), (1269, 0.0), (1270, 0.017386038615618438), (1271, 0.0), (1272, 0.0), (1273, 0.011858891707789431), (1274, 0.009005189325229592), (1275, 0.0034364135257478486), (1276, 0.0), (1277, 0.0123440829352541), (1278, 0.06359208822508346), (1279, 0.03596991256494528), (1280, 0.0), (1281, 0.0), (1282, 0.014463444166227133), (1283, 0.0), (1284, 0.006838287173617934), (1285, 0.0), (1286, 0.006886745842350069), (1287, 0.0), (1288, 0.012309418652468502), (1289, 0.003324551295685142), (1290, 0.0026384841047933007), (1291, 0.02131522810397569), (1292, 0.003979298534989818), (1293, 0.018717852892347515), (1294, 0.003057338865391466), (1295, 0.0), (1296, 0.0), (1297, 0.017590176096445597), (1298, 0.00698586732679178), (1299, 0.035396830544398704), (1300, 0.0034216795346971363), (1301, 0.010886112843590754), (1302, 0.06774419682013401), (1303, 0.0024012040158031575), (1304, 0.02599802374224626), (1305, 0.018140379500905447), (1306, 0.021619155106771294), (1307, 0.02510590713449702), (1308, 0.02222161422842712), (1309, 0.00692654582467737), (1310, 0.01757624695450754), (1311, 0.004539669165599199), (1312, 0.02043986317113646), (1313, 0.006922270928006994), (1314, 0.03851762997555712), (1315, 0.0), (1316, 0.006940959711206737), (1317, 0.037818587899620594), (1318, 0.006264990078218501), (1319, 0.030831159899132442), (1320, 0.0031765704537002775), (1321, 0.01557031820564703), (1322, 0.043978147689893506), (1323, 0.003476782725675107), (1324, 0.003176869792188945), (1325, 0.0032280234521825054), (1326, 0.003303354560632559), (1327, 0.011183151073167296), (1328, 0.0), (1329, 0.0635945813007474), (1330, 0.003972327414039218), (1331, 0.003709006006264508), (1332, 0.0), (1333, 0.004315235056520854), (1334, 0.030193970756649986), (1335, 0.003007861767813283), (1336, 0.014205311747232469), (1337, 0.007168836051526903), (1338, 0.012255481113365638), (1339, 0.0031655921592204364), (1340, 0.03782550903120762), (1341, 0.02521728018579487), (1342, 0.0), (1343, 0.05586926576586575), (1344, 0.034345126993659325), (1345, 0.04360150977893595), (1346, 0.009536472978698893), (1347, 0.009158949799804968), (1348, 0.003524765995856282), (1349, 0.014039808630686603), (1350, 0.0029010338704909687), (1351, 0.00918927694179525), (1352, 0.010584428778444307), (1353, 0.0037625054119618515), (1354, 0.017494665961983034), (1355, 0.003049836365227264), (1356, 0.002520719443124809), (1357, 0.0027445585304427113), (1358, 0.049090570364143805), (1359, 0.02018550795984969), (1360, 0.011340554417095645), (1361, 0.043144581274820126), (1362, 0.0030071048966709008), (1363, 0.0038403726392576025), (1364, 0.09205383916450612), (1365, 0.026536702400205826), (1366, 0.02653177228038822), (1367, 0.030645901749770593), (1368, 0.01305319789518595), (1369, 0.022825418838386204), (1370, 0.0060570968455104105), (1371, 0.004495050572529846), (1372, 0.006589675876639405), (1373, 0.013106757535309427), (1374, 0.017208427999714875), (1375, 0.011843031674754742), (1376, 0.018491611239435376), (1377, 0.1085506526341116), (1378, 0.0029756779323608447), (1379, 0.010193272511133403), (1380, 0.03692171752446422), (1381, 0.010881493842365092), (1382, 0.015212831107584103), (1383, 0.0033618853230440245), (1384, 0.008439353528168575), (1385, 0.010705350674859858), (1386, 0.0), (1387, 0.0026885541529330795), (1388, 0.0040641979582045), (1389, 0.00426117000634994), (1390, 0.05491675065350711), (1391, 0.0), (1392, 0.018274250242872467), (1393, 0.0), (1394, 0.014624924346894913), (1395, 0.0281803353652271), (1396, 0.027899595845027922), (1397, 0.0060747869820197715), (1398, 0.0034476235603955623), (1399, 0.0), (1400, 0.0031393603965962757), (1401, 0.020563555912769746), (1402, 0.0887195455396959), (1403, 0.06548516065349155), (1404, 0.011778497881578), (1405, 0.0035575452983052404), (1406, 0.09345626935487517), (1407, 0.008197376113626961), (1408, 0.035740935633747146), (1409, 0.007515274416803227), (1410, 0.00709985897945891), (1411, 0.016311772665745745), (1412, 0.06097801064588042), (1413, 0.030097777897170084), (1414, 0.002656928072808745), (1415, 0.0024400702941398565), (1416, 0.07067434225719264), (1417, 0.008346045173327514), (1418, 0.02643584303416003), (1419, 0.03847291218177293), (1420, 0.040043514465152225), (1421, 0.012012355938671412), (1422, 0.02001216011364749), (1423, 0.09300670994868049), (1424, 0.0046198796460478), (1425, 0.021609880146140552), (1426, 0.010046167935828436), (1427, 0.0057584890513772205), (1428, 0.0), (1429, 0.003580329367813117), (1430, 0.008817027086873578), (1431, 0.009709725745259629), (1432, 0.00421512208503954), (1433, 0.0027707470795437154), (1434, 0.002719096070601305), (1435, 0.0), (1436, 0.0365361073058285), (1437, 0.004585322302434473), (1438, 0.0029494400049924173), (1439, 0.0031183011364608135), (1440, 0.003024183926556624), (1441, 0.004362282278780101), (1442, 0.04145529453368378), (1443, 0.035483078024716355), (1444, 0.004026627242287496), (1445, 0.0042279983388613), (1446, 0.023210747903074206), (1447, 0.013344106227043094), (1448, 0.002751884754044887), (1449, 0.0), (1450, 0.00256649898476565), (1451, 0.0178137047462363), (1452, 0.0), (1453, 0.024721247048364002), (1454, 0.003271172286166297), (1455, 0.05820013765099378), (1456, 0.011565700189780778), (1457, 0.0037684789161866314), (1458, 0.0), (1459, 0.018667282113956976), (1460, 0.0), (1461, 0.021480262651693255), (1462, 0.028962413942586706), (1463, 0.05228028282700316), (1464, 0.01797428623662261), (1465, 0.03590751229522475), (1466, 0.0), (1467, 0.041812202852319534), (1468, 0.011991834872296695), (1469, 0.0533466384297268), (1470, 0.0), (1471, 0.02771228009878253), (1472, 0.031790465421972836), (1473, 0.004098714437763176), (1474, 0.09435444413546434), (1475, 0.042079557617216955), (1476, 0.03717966824850879), (1477, 0.05463118990813969), (1478, 0.0028519206764137136), (1479, 0.0077046965813857395), (1480, 0.0), (1481, 0.0028824964866124257), (1482, 0.07750915400450066), (1483, 0.031331357356065244), (1484, 0.003150346469219954), (1485, 0.003650867528947921), (1486, 0.02339417509095722), (1487, 0.048931510784974555), (1488, 0.011099199598380505), (1489, 0.00789350158717436), (1490, 0.003866333912162042), (1491, 0.004409794017813301), (1492, 0.010177229268870039), (1493, 0.052622537051969044), (1494, 0.034720608303204926), (1495, 0.023411126896197773), (1496, 0.02162345178819633), (1497, 0.037263681776165625), (1498, 0.0033110221183808835), (1499, 0.026709294448090806), (1500, 0.03867114788080894), (1501, 0.02121568506518155), (1502, 0.010013441246986873), (1503, 0.01989483515120227), (1504, 0.0), (1505, 0.011794316253194555), (1506, 0.029573915180111675), (1507, 0.004633944342462827), (1508, 0.007970239182373516), (1509, 0.03184085383099471), (1510, 0.07810539477523858), (1511, 0.01029667176344017), (1512, 0.0), (1513, 0.007317738258488641), (1514, 0.009895012459193775), (1515, 0.01730804509975831), (1516, 0.007234559994421397), (1517, 0.022910012485024493), (1518, 0.03454310061627255), (1519, 0.13950507296400178), (1520, 0.014522993634979628), (1521, 0.011684429981122317), (1522, 0.01915064074934392), (1523, 0.0034571000838825505), (1524, 0.012390478883533661), (1525, 0.01387117184269366), (1526, 0.02029955974779585), (1527, 0.0029146882381501857), (1528, 0.006380486720968108), (1529, 0.0), (1530, 0.007765468746872), (1531, 0.0), (1532, 0.003841118582090071), (1533, 0.007125818363788153), (1534, 0.0), (1535, 0.007973489880214046), (1536, 0.0), (1537, 0.01767299715004419), (1538, 0.036638714036292465), (1539, 0.02520566840469553), (1540, 0.0), (1541, 0.0), (1542, 0.004189623870439141), (1543, 0.06411323438072147), (1544, 0.003884486603809343), (1545, 0.07306398766597531), (1546, 0.008157411779973728), (1547, 0.0034686922658062193), (1548, 0.012002767645815123), (1549, 0.003991614834828941), (1550, 0.07001107109649599), (1551, 0.04879709245305224), (1552, 0.06488850404843821), (1553, 0.026173629535979924), (1554, 0.0), (1555, 0.011599821897651338), (1556, 0.0), (1557, 0.004158102373175378), (1558, 0.0027684785091536355), (1559, 0.0082065503921332), (1560, 0.004560000077755743), (1561, 0.0038895255754259716), (1562, 0.0), (1563, 0.05054105521748218), (1564, 0.013855838513505775), (1565, 0.010650774272772487), (1566, 0.0), (1567, 0.01065304601365966), (1568, 0.039848772813018477), (1569, 0.0036332912581597907), (1570, 0.003132098541649791), (1571, 0.020024851650566017), (1572, 0.03790136848881541), (1573, 0.0), (1574, 0.012574307022055033), (1575, 0.031771187599488444), (1576, 0.0), (1577, 0.01364698173662012), (1578, 0.04788694159926613), (1579, 0.026739205040385895), (1580, 0.003286338542224258), (1581, 0.0), (1582, 0.034199420962742255), (1583, 0.023272705863909216), (1584, 0.025978976838815313), (1585, 0.008281759221862185), (1586, 0.03353512342915067), (1587, 0.013771243077333356), (1588, 0.0), (1589, 0.003963877258969683), (1590, 0.0), (1591, 0.0), (1592, 0.007849158984572793), (1593, 0.003609216766871856), (1594, 0.029098328794414662), (1595, 0.01127638840071845), (1596, 0.00429844557913462), (1597, 0.015901106925315642), (1598, 0.0069344799051288385), (1599, 0.004097073885884371), (1600, 0.0), (1601, 0.003591856717825886), (1602, 0.004198461906208285), (1603, 0.0), (1604, 0.0), (1605, 0.028526815671250566), (1606, 0.0), (1607, 0.0), (1608, 0.01936854939906043), (1609, 0.004318217746518678), (1610, 0.003746552731972268), (1611, 0.004089444698827751), (1612, 0.010646903997599457), (1613, 0.014072146211270307), (1614, 0.004328952983660266), (1615, 0.03609644850187075), (1616, 0.05832581446885016), (1617, 0.012164712664962628), (1618, 0.00391825003080302), (1619, 0.021499374199079928), (1620, 0.011651287619710205), (1621, 0.002935982477926508), (1622, 0.0), (1623, 0.0), (1624, 0.08998189723286844), (1625, 0.0026780410118503405), (1626, 0.012258560005092031), (1627, 0.02436627582341776), (1628, 0.0027250453674750024), (1629, 0.01103668660644795), (1630, 0.017994556412604792), (1631, 0.0), (1632, 0.00909150695933869), (1633, 0.0), (1634, 0.010973060339539443), (1635, 0.0), (1636, 0.03128483142856704), (1637, 0.007535215783091723), (1638, 0.004030883340109621), (1639, 0.0034256876164158586), (1640, 0.04666072967797952), (1641, 0.0027617530253843865), (1642, 0.08204989252310477), (1643, 0.09217453261192943), (1644, 0.011746980140557521), (1645, 0.012037590882273151), (1646, 0.0032559095713575476), (1647, 0.007291599415944425), (1648, 0.016386633635467766), (1649, 0.0), (1650, 0.027499927912319828), (1651, 0.0), (1652, 0.0035893279820422242), (1653, 0.012151104675994853), (1654, 0.07127862925645162), (1655, 0.04910049950963279), (1656, 0.03836103488832758), (1657, 0.0), (1658, 0.016317487187382546), (1659, 0.05179292925532622), (1660, 0.01724712486002264), (1661, 0.0), (1662, 0.016026964940406514), (1663, 0.006617859129698045), (1664, 0.007305589804890442), (1665, 0.0027885215895430775), (1666, 0.021638702434518806), (1667, 0.002744737931218055), (1668, 0.022155719251195312), (1669, 0.011667210795319547), (1670, 0.03095742431276753), (1671, 0.0028834108028517554), (1672, 0.0027263708186832793), (1673, 0.0037671949489491282), (1674, 0.0), (1675, 0.028628182678816488), (1676, 0.0032310028958580325), (1677, 0.02887147223265859), (1678, 0.049562292235885326), (1679, 0.05591896887226612), (1680, 0.0027047973219027546), (1681, 0.010410368348097951), (1682, 0.026170439472896698), (1683, 0.0075171584726286215), (1684, 0.010301479124264701), (1685, 0.011312199143260034), (1686, 0.0), (1687, 0.08533314884353715), (1688, 1.0), (1689, 0.024142688952398458), (1690, 0.04365892075511935), (1691, 0.018722887211406018), (1692, 0.07466891212898644), (1693, 0.006595675262563666), (1694, 0.05122370886205792), (1695, 0.01719373695383499), (1696, 0.09274767960187676), (1697, 0.004165275956558307), (1698, 0.03625739825797913), (1699, 0.0), (1700, 0.021930380581782916), (1701, 0.036041717451826764), (1702, 0.05400100694532668), (1703, 0.0601941895118856), (1704, 0.009665903183824459), (1705, 0.0), (1706, 0.032948465491816535), (1707, 0.026371491345208095), (1708, 0.011483635921393714), (1709, 0.03046143425196303), (1710, 0.019110195737714303), (1711, 0.0037347393758352574), (1712, 0.011428564723455496), (1713, 0.008759118177761111), (1714, 0.02647404457209782), (1715, 0.014156890946885076), (1716, 0.04260242391078989), (1717, 0.033627018456847776), (1718, 0.022266167517356876), (1719, 0.014897560035237562), (1720, 0.0), (1721, 0.01822271797727308), (1722, 0.007093792232410574), (1723, 0.0161428657632878), (1724, 0.0), (1725, 0.010482945756632445), (1726, 0.013882860223964056), (1727, 0.007303855054224091), (1728, 0.0), (1729, 0.02973263328324611), (1730, 0.009747681993197496), (1731, 0.026725912613137948), (1732, 0.004324945791489368), (1733, 0.0409951943069048), (1734, 0.004240057932005353), (1735, 0.004173099482380171), (1736, 0.0031177642117667654), (1737, 0.012544742550168669), (1738, 0.012843322391534542), (1739, 0.002677853026464623), (1740, 0.003038073589786472), (1741, 0.004079318548702735), (1742, 0.011781790654497321), (1743, 0.0637504522204888), (1744, 0.026622154896560585), (1745, 0.0), (1746, 0.05249891233747904), (1747, 0.008320720472235935), (1748, 0.003486868232906039), (1749, 0.0), (1750, 0.0036163935717778216), (1751, 0.013687878440153883), (1752, 0.0033456478886052378), (1753, 0.0), (1754, 0.0032807649323914364), (1755, 0.01804645833604195), (1756, 0.008941865336254897), (1757, 0.05789272184003337), (1758, 0.015644198978496095), (1759, 0.010460882083987742), (1760, 0.0027535449453022416), (1761, 0.007882761822279555), (1762, 0.044468701345123075), (1763, 0.024000657297270377), (1764, 0.0257066101423533), (1765, 0.007265480161799511), (1766, 0.004465421907590671), (1767, 0.0038872409225494202), (1768, 0.012811153937531173), (1769, 0.034074784853599875), (1770, 0.00829427886129017), (1771, 0.003945157492326538), (1772, 0.008228398468068752), (1773, 0.007557576325544542), (1774, 0.00816372481828149), (1775, 0.0), (1776, 0.0026228526062852652), (1777, 0.004157272599381967), (1778, 0.012601285238996597), (1779, 0.01138329987652327), (1780, 0.018594848568395515), (1781, 0.019579390556466313), (1782, 0.03853566745692566), (1783, 0.0038074843932992906), (1784, 0.012284857686461299), (1785, 0.031906872338700557), (1786, 0.004450554039860036), (1787, 0.06451065704899157), (1788, 0.06848576842221597), (1789, 0.0), (1790, 0.014019338245778442), (1791, 0.004307967834343629), (1792, 0.0082553449655848), (1793, 0.018908584308275505), (1794, 0.012379354464872734), (1795, 0.0), (1796, 0.002717337653658312), (1797, 0.0035476160741755155), (1798, 0.021657737363212783), (1799, 0.02921923200360859), (1800, 0.0), (1801, 0.0239387822827716), (1802, 0.008076391332601367), (1803, 0.008838474123181235), (1804, 0.013569941866551884), (1805, 0.003244811687124194), (1806, 0.00441777561529735), (1807, 0.019788428085749894), (1808, 0.011174981673451552), (1809, 0.01554085380164166), (1810, 0.0), (1811, 0.0029542573489094066), (1812, 0.02849885249611675), (1813, 0.002891383044196378), (1814, 0.002742192374186048), (1815, 0.0), (1816, 0.01584305153727082), (1817, 0.017019274273032143), (1818, 0.02911563201569763), (1819, 0.026110899715808805), (1820, 0.0), (1821, 0.02928406752103447), (1822, 0.007415512775498117), (1823, 0.01754651424174923), (1824, 0.03959863849720188), (1825, 0.01814100270735698), (1826, 0.0026930800764969924), (1827, 0.06409768966531773), (1828, 0.010751704071290565), (1829, 0.0), (1830, 0.006224407512214697), (1831, 0.002944702811712637), (1832, 0.0), (1833, 0.012620383554902356), (1834, 0.004011646566099203), (1835, 0.0), (1836, 0.004492946196742272), (1837, 0.004006861281138697), (1838, 0.0), (1839, 0.0038643601495603618), (1840, 0.0), (1841, 0.017885147629017994), (1842, 0.07767049675693613), (1843, 0.02087582960407351), (1844, 0.004442691174034136), (1845, 0.042152991163520434), (1846, 0.0), (1847, 0.034814218111307534), (1848, 0.0075621149262693225), (1849, 0.04301896635502549), (1850, 0.03726274418047413), (1851, 0.017185274310279525), (1852, 0.016957499810850152), (1853, 0.0031523922215465996), (1854, 0.002843492348898027), (1855, 0.0037849307379731454), (1856, 0.004303409545156497), (1857, 0.009334957248443196), (1858, 0.01394271173796108), (1859, 0.009998659844524006), (1860, 0.04151172850486339), (1861, 0.008391994292228784), (1862, 0.003335470657267472), (1863, 0.006661878437734873), (1864, 0.01028367837671343), (1865, 0.0027018082172316125), (1866, 0.0032519729962753948), (1867, 0.03772109818827982), (1868, 0.0075795983431237), (1869, 0.029562288654405394), (1870, 0.07820222579769516), (1871, 0.07644247050515544), (1872, 0.0030122196457307167), (1873, 0.007721331136394279), (1874, 0.003218584209820869), (1875, 0.01852594787715084), (1876, 0.010753325478008887), (1877, 0.01575175416998894), (1878, 0.0607783726493286), (1879, 0.05836705639085888), (1880, 0.003945328325331351), (1881, 0.014150376821590668), (1882, 0.0029180070527507936), (1883, 0.0033361785463364895), (1884, 0.06126033203032203), (1885, 0.0034895630815797987), (1886, 0.009903882132837742), (1887, 0.01412071751860683), (1888, 0.017264918558345083), (1889, 0.004108274011499449), (1890, 0.003304649812898312), (1891, 0.03236778337843575), (1892, 0.0027043485525336673), (1893, 0.021678516604380797), (1894, 0.0), (1895, 0.012744461051035386), (1896, 0.013218793408957409), (1897, 0.04376527307277453), (1898, 0.003783782454072087), (1899, 0.0037724026036527465), (1900, 0.003895904206693559), (1901, 0.08624157336475496), (1902, 0.03857305249561944), (1903, 0.047628845488540156), (1904, 0.0), (1905, 0.0076586367636653895), (1906, 0.004060305932309615), (1907, 0.017768227251485608), (1908, 0.017287386106198916), (1909, 0.00338037322556158), (1910, 0.032170295121139295), (1911, 0.03872150894492575), (1912, 0.0038742352980230526), (1913, 0.03221243433435203), (1914, 0.012714756140242617), (1915, 0.02188385228633273), (1916, 0.0031384199939015218), (1917, 0.004153827641619025), (1918, 0.003145819200393858), (1919, 0.024792565333994415), (1920, 0.037321821260803384), (1921, 0.0026616257213721694), (1922, 0.0030064260938228106), (1923, 0.007801687661339573), (1924, 0.0034024306324281373), (1925, 0.024833057522167912), (1926, 0.004299874002106139), (1927, 0.0), (1928, 0.015294913368894282), (1929, 0.006696886066530846), (1930, 0.0), (1931, 0.0030428859383428947), (1932, 0.030811702163168503), (1933, 0.0), (1934, 0.009546801176116056), (1935, 0.049889186240166784), (1936, 0.04926999672398345), (1937, 0.0), (1938, 0.0033738346531482534), (1939, 0.0053702720214405695), (1940, 0.0334242405735141), (1941, 0.004843264321575876), (1942, 0.04106691430084655), (1943, 0.031006322517710475), (1944, 0.027113008255690844), (1945, 0.007772251381124451), (1946, 0.00306037624785736), (1947, 0.00815483924207911), (1948, 0.030063498318672617), (1949, 0.004195170360776774), (1950, 0.04071592324159161), (1951, 0.029991002361054307), (1952, 0.010210815152361677), (1953, 0.0), (1954, 0.006222743982821402), (1955, 0.06432935055171508), (1956, 0.004093055050983733), (1957, 0.05912447726922451), (1958, 0.0), (1959, 0.02580963086458819), (1960, 0.03496098026306073), (1961, 0.013937225539332656), (1962, 0.0), (1963, 0.0032739877290975327), (1964, 0.019835356531034215), (1965, 0.004226727257854928), (1966, 0.0), (1967, 0.0028932426898394753), (1968, 0.04404950935308447), (1969, 0.012025027301330378), (1970, 0.0), (1971, 0.010561504090415376), (1972, 0.0), (1973, 0.012726815941098108), (1974, 0.003698080849437404), (1975, 0.0), (1976, 0.0), (1977, 0.029070949398668326), (1978, 0.003606642246481288), (1979, 0.0), (1980, 0.0063007339918371786), (1981, 0.033374045118015117), (1982, 0.0297622870166785), (1983, 0.0031017514939036214), (1984, 0.01243451233137355), (1985, 0.02038545744892887), (1986, 0.021008357634059525), (1987, 0.021122692398684365), (1988, 0.023605340092064105), (1989, 0.02362409329543512), (1990, 0.03145963573210976), (1991, 0.0), (1992, 0.003780451038074611), (1993, 0.0), (1994, 0.02576410489457852), (1995, 0.0032024133924586484), (1996, 0.0), (1997, 0.05256055494415712), (1998, 0.0), (1999, 0.0045710164295472075), (2000, 0.037336212442749636), (2001, 0.025053725971795737), (2002, 0.004235293933833199), (2003, 0.013070195103818842), (2004, 0.0027991322004933504), (2005, 0.034563531354919456), (2006, 0.027839982855207793), (2007, 0.003693594813081893), (2008, 0.010397816076426175), (2009, 0.09402058531030234), (2010, 0.002351933357830588), (2011, 0.009722171046341366), (2012, 0.04595902780978738), (2013, 0.02125582419065557), (2014, 0.022886850318945752), (2015, 0.00990136281820576), (2016, 0.012935572103572468), (2017, 0.01935432805062558), (2018, 0.0033006250062908764), (2019, 0.004018822810837547), (2020, 0.014668075861749185), (2021, 0.004380157542531325), (2022, 0.021157749754820522), (2023, 0.011733997891501272), (2024, 0.0028519171012258565), (2025, 0.003338079667030579), (2026, 0.004043361246926638), (2027, 0.05448683857513299), (2028, 0.0), (2029, 0.03255173561282404), (2030, 0.0), (2031, 0.057642523176343635), (2032, 0.04506531835290818), (2033, 0.0036808046644031095), (2034, 0.002453664853552065), (2035, 0.023743039897926074), (2036, 0.0437491915926012), (2037, 0.03039214077586885), (2038, 0.026622041081316685), (2039, 0.0025051689755465558), (2040, 0.011812033240637664), (2041, 0.004103873395438548), (2042, 0.004222566000172938), (2043, 0.029424537735714913), (2044, 0.0), (2045, 0.06056849255160878), (2046, 0.013512014323822957), (2047, 0.04194719345183877), (2048, 0.0030653351233241363), (2049, 0.016248367619529525), (2050, 0.0038585181838617397), (2051, 0.04586088674554931), (2052, 0.018161374089545646), (2053, 0.08734970380330753), (2054, 0.0), (2055, 0.08323526476334978), (2056, 0.020470155732104242), (2057, 0.0), (2058, 0.02772667211783946), (2059, 0.003529166178856585), (2060, 0.006953454272919305), (2061, 0.02222477777584), (2062, 0.025832263031341927), (2063, 0.0036685919992474427), (2064, 0.008662156601457497), (2065, 0.04887039497093902), (2066, 0.0), (2067, 0.002996113138147955), (2068, 0.006675189657146698), (2069, 0.0029261387713693083), (2070, 0.017255927746252193), (2071, 0.021407479524758105), (2072, 0.01291169937957398), (2073, 0.0030352890616599654), (2074, 0.023551980835196728), (2075, 0.003902345072005668), (2076, 0.013922062721303332), (2077, 0.0049350441894230246), (2078, 0.0075413398199340185), (2079, 0.03928164956383499), (2080, 0.0028774834132620267), (2081, 0.0040508583989058026), (2082, 0.004389952877252963), (2083, 0.0031167381626246255), (2084, 0.0), (2085, 0.0), (2086, 0.014409010325458292), (2087, 0.014415272637283176), (2088, 0.0031202873668576183), (2089, 0.0034995254840827954), (2090, 0.004223292481242306), (2091, 0.00301965969024169), (2092, 0.004156923868913879), (2093, 0.003742492870678055), (2094, 0.01627254109102788), (2095, 0.0074496769155190145), (2096, 0.011396180738629944), (2097, 0.0032408822545691718), (2098, 0.010059583248064271), (2099, 0.056708336647360906), (2100, 0.0), (2101, 0.012869434052895132), (2102, 0.05046001851614716), (2103, 0.019644166232188426), (2104, 0.0031806318666826507), (2105, 0.0031713506238838555), (2106, 0.00836641737567934), (2107, 0.0038544902908438524), (2108, 0.0077969769882861445), (2109, 0.041385409545283934), (2110, 0.0070774159374532635), (2111, 0.01084485720368246), (2112, 0.022266692192591697), (2113, 0.034195453280749084), (2114, 0.03544796289043616), (2115, 0.0), (2116, 0.08940614495343208), (2117, 0.00285673620133325), (2118, 0.011794727128324519), (2119, 0.0071557224358589295), (2120, 0.0), (2121, 0.010178857478542249), (2122, 0.007091697839534535), (2123, 0.03379596795615474), (2124, 0.03613681401522745), (2125, 0.003700946933643778), (2126, 0.012850362367177836), (2127, 0.010460520350602295), (2128, 0.013303750812351332), (2129, 0.0027596254478803517), (2130, 0.0), (2131, 0.04436231275249049), (2132, 0.002488090072520176), (2133, 0.08241017668161166), (2134, 0.003331247154736688), (2135, 0.0), (2136, 0.0), (2137, 0.0099564022978168), (2138, 0.03454728497814036), (2139, 0.008899475115836573), (2140, 0.0038476759655694174), (2141, 0.002846616941411895), (2142, 0.00347344044046576), (2143, 0.12146128207098977), (2144, 0.08972938784085446), (2145, 0.037732010926765036), (2146, 0.006003340719411016), (2147, 0.014360011307067858), (2148, 0.011475401869767433), (2149, 0.030507444032398762), (2150, 0.0348469388762939), (2151, 0.011804147273959988), (2152, 0.0), (2153, 0.0040686958716925235), (2154, 0.013695212923299246), (2155, 0.07223870620914208), (2156, 0.07080273302496701), (2157, 0.005906874968224302), (2158, 0.004718118571906262), (2159, 0.003284063835070193), (2160, 0.02891172645783252), (2161, 0.07967479899687785), (2162, 0.09356458722695939), (2163, 0.02543456069782367), (2164, 0.0045293144151590855), (2165, 0.0), (2166, 0.006615821075935913), (2167, 0.046641370476861836), (2168, 0.025306753681531242), (2169, 0.012541054015135458), (2170, 0.003784230691154327), (2171, 0.0), (2172, 0.0), (2173, 0.0029326818735583167), (2174, 0.010597983358283818), (2175, 0.03339143664721929), (2176, 0.0032876995867525973), (2177, 0.016303933580127657), (2178, 0.00922323113725633), (2179, 0.0038014418856696696), (2180, 0.010839174188612582), (2181, 0.0), (2182, 0.0), (2183, 0.003752459585339164), (2184, 0.06658248068205205), (2185, 0.010535457542402076), (2186, 0.0045866819944721995), (2187, 0.04088400940084984), (2188, 0.029118990370041353), (2189, 0.041287999040112024), (2190, 0.04005822815713385), (2191, 0.029282206444947417), (2192, 0.06357774380122028), (2193, 0.024441111064375364), (2194, 0.004196911818709611), (2195, 0.012427653461719425), (2196, 0.0031494437929497033), (2197, 0.006524106509088017), (2198, 0.017228760486575484), (2199, 0.009144298686809993), (2200, 0.004135191010591377), (2201, 0.006534779428931851), (2202, 0.062087155394781254), (2203, 0.029868679955907626), (2204, 0.011468517689733095), (2205, 0.00722035530748491), (2206, 0.0), (2207, 0.003704680352028179), (2208, 0.004288880579283623), (2209, 0.016408255445084324), (2210, 0.012668958792078144), (2211, 0.04515828118904082), (2212, 0.002971751021651704), (2213, 0.0026558497492724853), (2214, 0.003238137438836853), (2215, 0.021598980341838995), (2216, 0.03094644319761395), (2217, 0.004236277037849211), (2218, 0.01504046001799217), (2219, 0.002986349857122464), (2220, 0.0), (2221, 0.031067327645578083), (2222, 0.013974057691702735), (2223, 0.007987235284369391), (2224, 0.02082169397910185), (2225, 0.0037063848976885993), (2226, 0.0029121621915408694), (2227, 0.0033624979652118196), (2228, 0.005237325248727105), (2229, 0.03450758561372207), (2230, 0.0030585752161665885), (2231, 0.0), (2232, 0.0), (2233, 0.010405919634894798), (2234, 0.00831219485515776), (2235, 0.0), (2236, 0.03058317127556468), (2237, 0.01925446866043016), (2238, 0.0871462232096987), (2239, 0.03527287257668023), (2240, 0.031260829981381875), (2241, 0.014068323454341846), (2242, 0.006677037429405004), (2243, 0.0), (2244, 0.008483618582568679), (2245, 0.009158646917901959), (2246, 0.05796470845516449), (2247, 0.0), (2248, 0.002677471641527849), (2249, 0.004231834621984815), (2250, 0.012433611827315916), (2251, 0.004143787116664334), (2252, 0.0204333157665678), (2253, 0.034080735291155934), (2254, 0.0350377406977613), (2255, 0.0038423881076459685), (2256, 0.03370775536694994), (2257, 0.0038343897188699134), (2258, 0.004387965056172737), (2259, 0.009857543769217676), (2260, 0.007514714947354355), (2261, 0.03427933181132239), (2262, 0.03475484922659785), (2263, 0.01017701574794674), (2264, 0.03461504073589323), (2265, 0.013379894115275546), (2266, 0.0036671244906264187), (2267, 0.0), (2268, 0.012034102037685917), (2269, 0.0034565494902970787), (2270, 0.031707437600237136), (2271, 0.00382958316311972), (2272, 0.0037586617917561727), (2273, 0.0), (2274, 0.00372333920446524), (2275, 0.0), (2276, 0.007923407261395697), (2277, 0.02045034070202508), (2278, 0.009619787659423753), (2279, 0.002901805725725473), (2280, 0.03233779822620732), (2281, 0.005368548052624379), (2282, 0.005199068611256399), (2283, 0.010105051957694655), (2284, 0.0070626873563804), (2285, 0.045475274801094145), (2286, 0.003806025368082201), (2287, 0.018306661051034952), (2288, 0.0031501648651226987), (2289, 0.0029575838754529447), (2290, 0.004129374827904982), (2291, 0.014732425022112815), (2292, 0.007154693658813564), (2293, 0.003246308877855522), (2294, 0.021519489382494816), (2295, 0.003025557733656948), (2296, 0.03240636189054451), (2297, 0.003966423342527314), (2298, 0.003993149340435251), (2299, 0.004762475127165202), (2300, 0.0), (2301, 0.06838346743508318), (2302, 0.007978921221105807), (2303, 0.022843451802880773), (2304, 0.00904257888520882), (2305, 0.004628134251801397), (2306, 0.01352732552753679), (2307, 0.004150702513426694), (2308, 0.005064165746181697), (2309, 0.03933090782253815), (2310, 0.003981941123856736), (2311, 0.012726389335381944), (2312, 0.005825860489174816), (2313, 0.03314970319938874), (2314, 0.0748290091120135), (2315, 0.003729819637791355), (2316, 0.0), (2317, 0.011529325912557533), (2318, 0.022027511179023414), (2319, 0.0030938920271027966), (2320, 0.0302132536266324), (2321, 0.003059826190515882), (2322, 0.013178492273245745), (2323, 0.031509307925682385), (2324, 0.007685153447877256), (2325, 0.004200866838571856), (2326, 0.007445785100468447), (2327, 0.012613574265092872), (2328, 0.0), (2329, 0.013269877252244424), (2330, 0.041398681599798856), (2331, 0.0033201613313981163), (2332, 0.0), (2333, 0.004817114726824571), (2334, 0.012825258419288702), (2335, 0.04169882917496027), (2336, 0.004023865119620386), (2337, 0.0), (2338, 0.019824938071944367), (2339, 0.024126764749795554), (2340, 0.007042187705238814), (2341, 0.0), (2342, 0.0), (2343, 0.0), (2344, 0.0029843977548433703), (2345, 0.02755774112715425), (2346, 0.0033861948279075692), (2347, 0.0027377730487705932), (2348, 0.006616773428439228), (2349, 0.004123594312763659), (2350, 0.0038269817569285655), (2351, 0.04770133782234764), (2352, 0.0), (2353, 0.004166292223196667), (2354, 0.002981176565606976), (2355, 0.0024829180078690632), (2356, 0.0033293037391867036), (2357, 0.004593895699475886), (2358, 0.0), (2359, 0.002485776215453074), (2360, 0.003576265304052847), (2361, 0.0031589853899868904), (2362, 0.0027300193574266306), (2363, 0.01671890378111726), (2364, 0.0032535283048705775), (2365, 0.0), (2366, 0.003588639782049321), (2367, 0.07283218838023868), (2368, 0.00482299564103775), (2369, 0.0), (2370, 0.0031027810245024337), (2371, 0.004383528732943127), (2372, 0.0), (2373, 0.0033747020834714756), (2374, 0.0030183025252469536), (2375, 0.007717412191693727), (2376, 0.04026651066053973), (2377, 0.050507563518694155), (2378, 0.003504900379829869), (2379, 0.010138086470954703), (2380, 0.031883174713778), (2381, 0.004511662367483961), (2382, 0.002551199802777327), (2383, 0.0), (2384, 0.004506824108168724), (2385, 0.007398864222696427), (2386, 0.0030448671998681647), (2387, 0.007009509227977445), (2388, 0.007312753162346886), (2389, 0.0036095398145414674), (2390, 0.0032648648869259846), (2391, 0.06836772310107536), (2392, 0.0038885869560740804), (2393, 0.06651069004809411), (2394, 0.00740203870508807), (2395, 0.005597471661120507), (2396, 0.033763630262748125), (2397, 0.007144423725722297), (2398, 0.0071591155581719745), (2399, 0.006484425336340031), (2400, 0.0033685103890072105), (2401, 0.0028944195856233043), (2402, 0.006361801600916511), (2403, 0.016986923285591475), (2404, 0.009554701038887201), (2405, 0.0339591572713843), (2406, 0.003498266614771224), (2407, 0.00411680244556103), (2408, 0.0), (2409, 0.012885205038052228), (2410, 0.007706400025436946), (2411, 0.04155413705967734), (2412, 0.02728654731906605), (2413, 0.0), (2414, 0.009558295253298568), (2415, 0.0036138458262078327), (2416, 0.03833421850508577), (2417, 0.01251863372182121), (2418, 0.021384524186547925), (2419, 0.05417928158987737), (2420, 0.004532670595435513), (2421, 0.038796566770533704), (2422, 0.05298813923791198), (2423, 0.008852968215214568), (2424, 0.003667829569148114), (2425, 0.0038598648977443807), (2426, 0.010600012655682086), (2427, 0.02548810702701656), (2428, 0.003286706760091448), (2429, 0.0), (2430, 0.022262678362950795), (2431, 0.044463332708229976), (2432, 0.00913995953002343), (2433, 0.0035436233984757243), (2434, 0.00839800112938685), (2435, 0.003995879227682758), (2436, 0.027070764349925797), (2437, 0.003380409807139156), (2438, 0.04603182750275261), (2439, 0.009655346370546027), (2440, 0.010158701713216908), (2441, 0.0056884967859395855), (2442, 0.0), (2443, 0.023381124514844642), (2444, 0.0137999628164731), (2445, 0.027219160472167506), (2446, 0.015331708902231558), (2447, 0.01068705475436359), (2448, 0.0038894540652464715), (2449, 0.004072784752032753), (2450, 0.0037617570734528667), (2451, 0.0), (2452, 0.004439386641791844), (2453, 0.025759111055899994), (2454, 0.0035962724500752637), (2455, 0.005136172481825619), (2456, 0.004176533621015572), (2457, 0.07181259963525309), (2458, 0.014743387558773972), (2459, 0.00362496468382297), (2460, 0.025356077915745227), (2461, 0.006811126554501128), (2462, 0.0), (2463, 0.019830387836276487), (2464, 0.007704314549821134), (2465, 0.0039000215018568677), (2466, 0.003058575256816551), (2467, 0.006777524911048525), (2468, 0.0047280508145579455), (2469, 0.03160316635865363), (2470, 0.010709527711054411), (2471, 0.0), (2472, 0.0296671859210757), (2473, 0.010182634673483116), (2474, 0.03594603730268248), (2475, 0.003202798587165017), (2476, 0.0), (2477, 0.003217724964799763), (2478, 0.008064246018157138), (2479, 0.00451869995105723), (2480, 0.01704820121710328), (2481, 0.023224093185732556), (2482, 0.030733177927970534), (2483, 0.005336605107414479), (2484, 0.003982066713720313), (2485, 0.03183629488266656), (2486, 0.015446401030256077), (2487, 0.02152836982061461), (2488, 0.008585060234357431), (2489, 0.003035084528608608), (2490, 0.010124922162672554), (2491, 0.012473415559527756), (2492, 0.026152047465497933), (2493, 0.004466042416491155), (2494, 0.06110236192542175), (2495, 0.007024164334853412), (2496, 0.0027851448032582323), (2497, 0.012494904859054082), (2498, 0.0186804278123144), (2499, 0.00860487722314545), (2500, 0.005645858437178487), (2501, 0.09508862724068452), (2502, 0.07015109545894699), (2503, 0.017051954022087243), (2504, 0.013208975043242473), (2505, 0.011874097582441803), (2506, 0.0), (2507, 0.007631016370446815), (2508, 0.0033494886263710677), (2509, 0.04574195870501112), (2510, 0.046090252316666185), (2511, 0.014023059403056452), (2512, 0.0069743778061656814), (2513, 0.0478455941766506), (2514, 0.012154592039470806), (2515, 0.005023888263171061), (2516, 0.02641298423978144), (2517, 0.00733280795865912), (2518, 0.05132780641091135), (2519, 0.004174026604313278), (2520, 0.0025817540475836344), (2521, 0.0), (2522, 0.0031740915281377874), (2523, 0.006994019421966279), (2524, 0.012431321650059382), (2525, 0.011733360054350356), (2526, 0.031080883744290796), (2527, 0.0025614852729742843), (2528, 0.0027657218436243393), (2529, 0.010197250762843623), (2530, 0.003785277168390853), (2531, 0.017203352229192587), (2532, 0.010704904438614481), (2533, 0.0029954026914140687), (2534, 0.11458385221161331), (2535, 0.00778590636898894), (2536, 0.005286043190178579), (2537, 0.00963663466165129), (2538, 0.0017819527633960955), (2539, 0.029271672635107146), (2540, 0.0028384618959341476), (2541, 0.02125632445742177), (2542, 0.0036626300266306548), (2543, 0.03127908170372348), (2544, 0.0), (2545, 0.011139306479137813), (2546, 0.017184141540245182), (2547, 0.01248670586357898), (2548, 0.0037390601400180074), (2549, 0.0), (2550, 0.03635787228347966), (2551, 0.004111601438990183), (2552, 0.011649783827065939), (2553, 0.05110874538344475), (2554, 0.0070866584667611515), (2555, 0.006773415565482552), (2556, 0.04679154858813162), (2557, 0.003693656189174078), (2558, 0.00297859950036954), (2559, 0.003915054737635607), (2560, 0.04835714214844259), (2561, 0.007328797957689318), (2562, 0.042525357051207496), (2563, 0.01668501447262953), (2564, 0.005027201168620544), (2565, 0.042819246595343696), (2566, 0.008556200989684489), (2567, 0.0), (2568, 0.024673728237733165), (2569, 0.08119441282875504), (2570, 0.00826795397042476), (2571, 0.012038670111284532), (2572, 0.038236455574003354), (2573, 0.0), (2574, 0.0), (2575, 0.004422845715494047), (2576, 0.0), (2577, 0.0), (2578, 0.023860386922863703), (2579, 0.003338270866441174), (2580, 0.002659641446693465), (2581, 0.0169059626965978), (2582, 0.04708356825377627), (2583, 0.0), (2584, 0.03369212138850054), (2585, 0.03274298252762617), (2586, 0.004099993415030901), (2587, 0.05141777629717508), (2588, 0.004334375997743866), (2589, 0.0), (2590, 0.0037669648517544736), (2591, 0.006302312471598531), (2592, 0.007776889608009211), (2593, 0.002747752725032916), (2594, 0.003790234750702338), (2595, 0.0032302519818068164), (2596, 0.0), (2597, 0.006682143611548564), (2598, 0.0028177091919720336), (2599, 0.0), (2600, 0.0051052847712585656), (2601, 0.015370728193763311), (2602, 0.002471166116920294), (2603, 0.08733971158407451), (2604, 0.004403768366169793), (2605, 0.03519948715941078), (2606, 0.0029987758916012043), (2607, 0.009583638687009404), (2608, 0.04044172209242504), (2609, 0.013290649075930758), (2610, 0.14814907036157246), (2611, 0.010689997931914604), (2612, 0.012034214937268856), (2613, 0.003508577250670716), (2614, 0.006467578216855608), (2615, 0.012567398217134457), (2616, 0.022499243418799806), (2617, 0.002625756585064695), (2618, 0.0), (2619, 0.013332683791636412), (2620, 0.0038613639129227943), (2621, 0.009302119500054318), (2622, 0.008044908068044516), (2623, 0.003371551467280573), (2624, 0.003258802261081182), (2625, 0.036104588369340544), (2626, 0.004441133224329386), (2627, 0.007979877288678033), (2628, 0.0038987243593381475), (2629, 0.0033807550276942246), (2630, 0.0), (2631, 0.012847715171407096), (2632, 0.028959414574077184), (2633, 0.025427866291528718), (2634, 0.002782786795000472), (2635, 0.03571570883642646), (2636, 0.03371948540871586), (2637, 0.036944646220552345), (2638, 0.022921993280325723), (2639, 0.003970278297185569), (2640, 0.021108485556716655), (2641, 0.0), (2642, 0.01590386692312992), (2643, 0.003851726867581465), (2644, 0.0320846913747454), (2645, 0.01603608206557116), (2646, 0.003251434686398579), (2647, 0.012620356652162597), (2648, 0.004172601249478598), (2649, 0.004206836737943739), (2650, 0.0030942758939895803), (2651, 0.002817735940617998), (2652, 0.0030108624376564137), (2653, 0.014222436765729495), (2654, 0.02767230178819293), (2655, 0.003946790894682292), (2656, 0.029053778146205227), (2657, 0.005927394354685155), (2658, 0.0), (2659, 0.005828875056461638), (2660, 0.035995550362510696), (2661, 0.007541124170245158), (2662, 0.0089198852220985), (2663, 0.007912207230804479), (2664, 0.003175071614206703), (2665, 0.04706630528567914), (2666, 0.012436701093787516), (2667, 0.005514032992802069), (2668, 0.03051434789576357), (2669, 0.005984350317699202), (2670, 0.0), (2671, 0.0029721426699166405), (2672, 0.015163716417528617), (2673, 0.016575864909133414), (2674, 0.0027415147219421415), (2675, 0.036072281323338826), (2676, 0.00464016625454604), (2677, 0.003942676980200394), (2678, 0.011440622110267232), (2679, 0.0028181820188617956), (2680, 0.025572681943631236), (2681, 0.0038903663249019228), (2682, 0.00884688610904268), (2683, 0.0), (2684, 0.005860118046125978), (2685, 0.004106728890524148), (2686, 0.10820522934227689), (2687, 0.006911278300038381), (2688, 0.016707319214564413), (2689, 0.010051758776026362), (2690, 0.027628656386455144), (2691, 0.01789042824386515), (2692, 0.00928447679177188), (2693, 0.003911786426877251), (2694, 0.003967137116922566), (2695, 0.02806139928205583), (2696, 0.008166039368548133), (2697, 0.026730125666693083), (2698, 0.019655796089863807), (2699, 0.003775197135142754), (2700, 0.0), (2701, 0.006549192486961174), (2702, 0.008028831173792342), (2703, 0.05219846031770157), (2704, 0.031628762241874595), (2705, 0.003224745263684685), (2706, 0.023026619814141808), (2707, 0.0034953968846093857), (2708, 0.007862567923308283), (2709, 0.0040483376258868), (2710, 0.0), (2711, 0.0), (2712, 0.0341203928401688), (2713, 0.009289298824274206), (2714, 0.003151942969388144), (2715, 0.005327188418575381), (2716, 0.0028686698085319644), (2717, 0.0), (2718, 0.0), (2719, 0.010062894087130151), (2720, 0.01934669186343352), (2721, 0.0061039396499067405), (2722, 0.009861596029355248), (2723, 0.0031940608202068927), (2724, 0.04787845400797078), (2725, 0.10332110676940055), (2726, 0.01632185276467387), (2727, 0.0048670913258682166), (2728, 0.00639414827983214), (2729, 0.028866836105250655), (2730, 0.05308063174420915), (2731, 0.009429432871676486), (2732, 0.035461855445170457), (2733, 0.0), (2734, 0.03348265793716937), (2735, 0.002749776656533012), (2736, 0.0), (2737, 0.006765788152329678), (2738, 0.044122610124783496), (2739, 0.013674309428122693), (2740, 0.05612460078933335), (2741, 0.006325037105555818), (2742, 0.007161814668125063), (2743, 0.0025534052168626957), (2744, 0.015274866315009414), (2745, 0.02408316842709042), (2746, 0.007142574691847613), (2747, 0.00959323349753658), (2748, 0.007638864845672298), (2749, 0.00862983176341111), (2750, 0.0), (2751, 0.007314873229926596), (2752, 0.0028485096855459784), (2753, 0.0026236892806556335), (2754, 0.031956606275204004), (2755, 0.017454801845525707), (2756, 0.004871383507751309), (2757, 0.004558368838027842), (2758, 0.005966090131642171), (2759, 0.0075163443260206535), (2760, 0.0022858932397667405), (2761, 0.010722778100714678), (2762, 0.0), (2763, 0.08923848089668748), (2764, 0.01000814649891487), (2765, 0.04906276331782569), (2766, 0.017411158606636314), (2767, 0.0023235158125305124), (2768, 0.004233497678497855), (2769, 0.0173962390278713), (2770, 0.003346254786890449), (2771, 0.0025270964082520723), (2772, 0.003527911905344981), (2773, 0.0), (2774, 0.037372465365928864), (2775, 0.0040431001899183545), (2776, 0.011924113552260581), (2777, 0.018667068533154477), (2778, 0.003601172289829111), (2779, 0.002843045895037034), (2780, 0.0397882381061779), (2781, 0.004876660415481172), (2782, 0.007819741032952309), (2783, 0.0029971824212388283), (2784, 0.012736069503383138), (2785, 0.010856713772596342), (2786, 0.007522759948554503), (2787, 0.0038478221061639126), (2788, 0.009653573117051143), (2789, 0.01429359121992271), (2790, 0.009969866256473954), (2791, 0.017392527027744725), (2792, 0.08963629024021448), (2793, 0.019020624127324515), (2794, 0.004189319623590091), (2795, 0.003761088212467951), (2796, 0.008039208986923601), (2797, 0.008598261049621607), (2798, 0.03011526391256159), (2799, 0.03774026107443561), (2800, 0.0028137549012242336), (2801, 0.008134156450987931), (2802, 0.023330680724650693), (2803, 0.009730072097009051), (2804, 0.004047815690213393), (2805, 0.011830398003592863), (2806, 0.0), (2807, 0.013272317021579874), (2808, 0.019548432157640596), (2809, 0.01625055093252812), (2810, 0.004535175195633699), (2811, 0.0044313783701994845), (2812, 0.02282617696521794), (2813, 0.08206914630424889), (2814, 0.030030517414030736), (2815, 0.0), (2816, 0.021979672934810006), (2817, 0.01442593715644026), (2818, 0.06367019961199395), (2819, 0.0), (2820, 0.010286318057647431), (2821, 0.003161688135505405), (2822, 0.03105571912413876), (2823, 0.09573939597786107), (2824, 0.0), (2825, 0.003997534395172186), (2826, 0.07425280526611366), (2827, 0.0), (2828, 0.0), (2829, 0.012961746902687546), (2830, 0.0033145629150270876), (2831, 0.010704187897106164), (2832, 0.009218979443481438), (2833, 0.003606959785872758), (2834, 0.020479199241352677), (2835, 0.0), (2836, 0.004015119812806058), (2837, 0.0), (2838, 0.00897751544019956), (2839, 0.0), (2840, 0.013897416130870468), (2841, 0.017552708877202054), (2842, 0.026252231933897856), (2843, 0.04140595905247517), (2844, 0.0401566552717952), (2845, 0.0027411766853485792), (2846, 0.008219726054566095), (2847, 0.0), (2848, 0.0036352799206201517), (2849, 0.0031485354017213867), (2850, 0.0), (2851, 0.0), (2852, 0.009037885838026045), (2853, 0.0029632856456710856), (2854, 0.013838594007154946), (2855, 0.011472791037813936), (2856, 0.004156349861654533), (2857, 0.04809528917186293), (2858, 0.009956958115648529), (2859, 0.01912658778849579), (2860, 0.0), (2861, 0.00394755074057128), (2862, 0.06573428597149254), (2863, 0.003070760591392845), (2864, 0.0), (2865, 0.04719300839236323), (2866, 0.003765495527131253), (2867, 0.03559510084175872), (2868, 0.017028588291544588), (2869, 0.0), (2870, 0.004037321171561566), (2871, 0.023504896076294295), (2872, 0.06894398680501738), (2873, 0.02412684349143918), (2874, 0.019715473600147432), (2875, 0.005143096109824298), (2876, 0.06929303395112357), (2877, 0.0033972786284658506), (2878, 0.07440101173900622), (2879, 0.0036269939402215922), (2880, 0.055538734494818366), (2881, 0.0033730125093476833), (2882, 0.007633567792659199), (2883, 0.004030230449924042), (2884, 0.008109290952861413), (2885, 0.0), (2886, 0.0028413761383644506), (2887, 0.0030177017580457154), (2888, 0.003226098805002766), (2889, 0.00409981005213548), (2890, 0.0032863162817469045), (2891, 0.005731926148911848), (2892, 0.011828039353192429), (2893, 0.012555158546648924), (2894, 0.0030562345022938694), (2895, 0.0035648265655331855), (2896, 0.03424193660936821), (2897, 0.012922365138496827), (2898, 0.0), (2899, 0.011713381750527692), (2900, 0.012420884301766886), (2901, 0.0038237489918162373), (2902, 0.11130838900289955), (2903, 0.003339857006185883), (2904, 0.03396069157261895), (2905, 0.0), (2906, 0.036919475267984926), (2907, 0.002762097127505884), (2908, 0.008592068672696166), (2909, 0.0029045942799015615), (2910, 0.012191586478179906), (2911, 0.012968252677920317), (2912, 0.00680204671764257), (2913, 0.0033191011687363735), (2914, 0.007944565013962093), (2915, 0.011627140479785573), (2916, 0.0033359231112918726), (2917, 0.0144973060150584), (2918, 0.0), (2919, 0.0030766444219195387), (2920, 0.011400897618670556), (2921, 0.0), (2922, 0.00550597412775258), (2923, 0.004012738242702725), (2924, 0.04131328859048578), (2925, 0.005640172507162021), (2926, 0.00734662518185481), (2927, 0.0), (2928, 0.0052253411498878995), (2929, 0.015336715567587427), (2930, 0.0044491302310774115), (2931, 0.04991777242523258), (2932, 0.003937669411027271), (2933, 0.020569103890490454), (2934, 0.0029999057253700203), (2935, 0.006850757402275824), (2936, 0.012103320020832618), (2937, 0.004276582403642773), (2938, 0.008876901040607673), (2939, 0.005039907171032168), (2940, 0.017643436767974228), (2941, 0.0052002902031277965), (2942, 0.017457189463834788), (2943, 0.050280846164289975), (2944, 0.03559800012946103), (2945, 0.006876372939517117), (2946, 0.0029309390877682437), (2947, 0.0), (2948, 0.005269683664857881), (2949, 0.0031821470024852227), (2950, 0.0), (2951, 0.029809039902082758), (2952, 0.0), (2953, 0.0031523655182519156), (2954, 0.015072371488978737), (2955, 0.0), (2956, 0.0), (2957, 0.0036435312139830294), (2958, 0.0), (2959, 0.0), (2960, 0.0), (2961, 0.0029315053604146235), (2962, 0.021897520285945323), (2963, 0.04477546578826777), (2964, 0.021558097191497667), (2965, 0.002829079703379413), (2966, 0.0036204594110763326), (2967, 0.0), (2968, 0.05842508347623067), (2969, 0.023129907306081807), (2970, 0.05928097735162225), (2971, 0.0035209667817935344), (2972, 0.04284287677027949), (2973, 0.007937747605489993), (2974, 0.0033437250732917256), (2975, 0.14399537556532074), (2976, 0.006292839481420825), (2977, 0.02065648986498907), (2978, 0.004400034994789236), (2979, 0.004396363913093826), (2980, 0.01048603405507267), (2981, 0.02533393307639026), (2982, 0.03311140381808865), (2983, 0.041200010084300756), (2984, 0.0), (2985, 0.06526759631334168), (2986, 0.008309227361623657), (2987, 0.03645357757027119), (2988, 0.011027474923018551), (2989, 0.004149873072263056), (2990, 0.03355771370108299), (2991, 0.0), (2992, 0.08707645379038949), (2993, 0.0035921897045653626), (2994, 0.004072812732697107), (2995, 0.002822597363801412), (2996, 0.024147965324584984), (2997, 0.0028149564191738367), (2998, 0.004471065354669755), (2999, 0.006984951553678023), (3000, 0.033430417408691335), (3001, 0.02929432978377096), (3002, 0.0), (3003, 0.0078036407247740365), (3004, 0.003668238127663643), (3005, 0.0), (3006, 0.0), (3007, 0.0031816486049669706), (3008, 0.008623489553660137), (3009, 0.005666217138962905), (3010, 0.021159455842315975), (3011, 0.009156530246282515), (3012, 0.003339020148828144), (3013, 0.003359657515502946), (3014, 0.0028115109240842134), (3015, 0.03612127668843082), (3016, 0.01136577102284587), (3017, 0.0048078222885267275), (3018, 0.014128570198115281), (3019, 0.003467006361464152), (3020, 0.008528020534950631), (3021, 0.0), (3022, 0.022062777338104585), (3023, 0.007298077514955722), (3024, 0.002463663893181269), (3025, 0.0), (3026, 0.007761238647788327), (3027, 0.019745454125087), (3028, 0.01204118062536205), (3029, 0.0), (3030, 0.004034575027428161), (3031, 0.003638038660434512), (3032, 0.0033335835475682358), (3033, 0.02123053737945358), (3034, 0.004072909615476173), (3035, 0.0028352299311411064), (3036, 0.022684539639396883), (3037, 0.007415053192078914), (3038, 0.004233020588418434), (3039, 0.024037953686411262), (3040, 0.00981024240785644), (3041, 0.004271282547475551), (3042, 0.009518142249506022), (3043, 0.0033714522921454845), (3044, 0.007657332244549373), (3045, 0.0), (3046, 0.0197867994675123), (3047, 0.0), (3048, 0.0), (3049, 0.0), (3050, 0.006436021751683342), (3051, 0.004248223753597048), (3052, 0.004067921555413674), (3053, 0.009099614613470353), (3054, 0.004862354906737226), (3055, 0.004052581537938449), (3056, 0.0024672208255629817), (3057, 0.011689234896604398), (3058, 0.0), (3059, 0.0), (3060, 0.004113322371601709), (3061, 0.004230861822165638), (3062, 0.007788106616360006), (3063, 0.02572992510881295), (3064, 0.0032406474217784387), (3065, 0.009081650292885012), (3066, 0.020754370610857498), (3067, 0.010562441810193463), (3068, 0.0), (3069, 0.023300313777175553), (3070, 0.003614711070765359), (3071, 0.01546143212408909), (3072, 0.0034614731961523683), (3073, 0.02270361875310359), (3074, 0.008618651212528042), (3075, 0.0028924488677249693), (3076, 0.003897642107459811), (3077, 0.031297909718418046), (3078, 0.00519985859487314), (3079, 0.0), (3080, 0.0045104442978139625), (3081, 0.0035049433935748645), (3082, 0.0035990409042025552), (3083, 0.01257645251679974), (3084, 0.007450560106613886), (3085, 0.043208006690839906), (3086, 0.0032172597593898007), (3087, 0.005105180846411153), (3088, 0.006017346351752698), (3089, 0.004916562055471801), (3090, 0.04176664974559522), (3091, 0.002492802470083238), (3092, 0.0), (3093, 0.002930973462189051), (3094, 0.012510408686061032), (3095, 0.011478791017409671), (3096, 0.009294150883029262), (3097, 0.0454407833432868), (3098, 0.03136665033817236), (3099, 0.0), (3100, 0.027717627817710172), (3101, 0.05914297728143648), (3102, 0.0041242294906062025), (3103, 0.010018552203199488), (3104, 0.004037101129446689), (3105, 0.0), (3106, 0.004033764383650994), (3107, 0.0), (3108, 0.0770359682490695), (3109, 0.00430968699537362), (3110, 0.02349059612519101), (3111, 0.03771017253960874), (3112, 0.0032024986276404568), (3113, 0.007164920477687853), (3114, 0.053443626680944226), (3115, 0.006299518705063932), (3116, 0.003272691642448958), (3117, 0.0), (3118, 0.0), (3119, 0.004082954787746586), (3120, 0.025947920853199143), (3121, 0.033542884759385216), (3122, 0.04923980721972286), (3123, 0.0036326817541684963), (3124, 0.0), (3125, 0.01252205604549587), (3126, 0.0), (3127, 0.013104649933515842), (3128, 0.0037542081693424066), (3129, 0.016293553902601645), (3130, 0.0), (3131, 0.05125676791344459), (3132, 0.0), (3133, 0.008912758442957937), (3134, 0.0), (3135, 0.0), (3136, 0.0), (3137, 0.013039909071905515), (3138, 0.0), (3139, 0.00994577336624375), (3140, 0.0037480633014959418), (3141, 0.02216969931792106), (3142, 0.01870495171278701), (3143, 0.0), (3144, 0.01986407114437752), (3145, 0.012319217570265882), (3146, 0.007857567552401398), (3147, 0.010306849125356279), (3148, 0.003371970774846428), (3149, 0.013049494386639543), (3150, 0.017270868421191455), (3151, 0.019217361106193286), (3152, 0.023142471854035715), (3153, 0.0030667750061837066), (3154, 0.0036451611440333235), (3155, 0.007072839195493391), (3156, 0.0), (3157, 0.011900656087953028), (3158, 0.04418674191511081), (3159, 0.0036859790399607338), (3160, 0.0), (3161, 0.0), (3162, 0.004219605502714371), (3163, 0.0), (3164, 0.01798907508637617), (3165, 0.0034206989362570205), (3166, 0.009744209756372003), (3167, 0.028278211173466544), (3168, 0.004556582252632223), (3169, 0.004148391683075342), (3170, 0.0028332863025103887), (3171, 0.0028329971613682164), (3172, 0.01575306301379447), (3173, 0.03215526907975882), (3174, 0.01242724240794802), (3175, 0.004336187037633737), (3176, 0.0), (3177, 0.0038439609371391454), (3178, 0.011106560335261334), (3179, 0.0), (3180, 0.0), (3181, 0.025075220770466228), (3182, 0.011278180170554581), (3183, 0.007692470588858651), (3184, 0.003198805208904495), (3185, 0.0), (3186, 0.0033768843509093217), (3187, 0.007392386566828507), (3188, 0.051471846331516365), (3189, 0.004251472883053239), (3190, 0.004689009095164942), (3191, 0.0), (3192, 0.04422379393438269), (3193, 0.00890743774990476), (3194, 0.036775913938972726), (3195, 0.002930838882539192), (3196, 0.003339615824098701), (3197, 0.003677552035817912), (3198, 0.058712523003329284), (3199, 0.009649328707412363), (3200, 0.043237607904208046), (3201, 0.01690401796849943), (3202, 0.0), (3203, 0.004873441598273629), (3204, 0.0054168819318649595), (3205, 0.04805763452015617), (3206, 0.003603327885447303), (3207, 0.00444685209543879), (3208, 0.0), (3209, 0.0041385227022635055), (3210, 0.0030040843268839363), (3211, 0.018998504839253853), (3212, 0.024516169825527196), (3213, 0.0), (3214, 0.006706496846793966), (3215, 0.055183915968924906), (3216, 0.0029636800640250992), (3217, 0.005214637496709044), (3218, 0.025821821873003914), (3219, 0.04856636762610348), (3220, 0.006865569532772016), (3221, 0.015131488848488025), (3222, 0.02224347217251272), (3223, 0.021719443306473848), (3224, 0.007313667672691274), (3225, 0.0030519104284056167), (3226, 0.028388524950805752), (3227, 0.0030028881018161293), (3228, 0.060493107632763984), (3229, 0.004202665542105961), (3230, 0.014385512887192892), (3231, 0.012114991675457017), (3232, 0.03146211229325455), (3233, 0.012818862892733141), (3234, 0.05123263680716566), (3235, 0.03480729245530053), (3236, 0.004303838475044275), (3237, 0.019926216001825377), (3238, 0.02236601823781054), (3239, 0.013958422936719091), (3240, 0.02237308722859079), (3241, 0.003107040130082786), (3242, 0.003126804948556077), (3243, 0.0027893764200955617), (3244, 0.010773069903121343), (3245, 0.00408853592376545), (3246, 0.02321959686798644), (3247, 0.0), (3248, 0.0033214680803900646), (3249, 0.00878598784287406), (3250, 0.0037951694092984664), (3251, 0.0), (3252, 0.019881324994163223), (3253, 0.02214543996954957), (3254, 0.04339685517962693), (3255, 0.0), (3256, 0.013708943363210798), (3257, 0.0084645171479524), (3258, 0.00763870534052782), (3259, 0.01426780265436119), (3260, 0.016195683413291154), (3261, 0.0), (3262, 0.0038320830088075927), (3263, 0.0), (3264, 0.021302052574753372), (3265, 0.03583353337817022), (3266, 0.0055977301660227255), (3267, 0.0063741120040145035), (3268, 0.0028424989253461237), (3269, 0.003221557244316533), (3270, 0.013440911732574414), (3271, 0.022208216270106697), (3272, 0.0), (3273, 0.003315641328018395), (3274, 0.0033556164764617863), (3275, 0.003480919408731653), (3276, 0.004495723374112299), (3277, 0.014245193279649345), (3278, 0.0027080362661398324), (3279, 0.0), (3280, 0.008828164244924792), (3281, 0.0), (3282, 0.04339218352741), (3283, 0.0168136891864899), (3284, 0.0790032762461364), (3285, 0.002238941214331488), (3286, 0.003928741199190332), (3287, 0.03485871465760784), (3288, 0.011506550917648673), (3289, 0.007199188111914893), (3290, 0.007229258803606431), (3291, 0.004002195139798941), (3292, 0.0038878059235483396), (3293, 0.011793813465002488), (3294, 0.05084374282937501), (3295, 0.012311775724178855), (3296, 0.0033873145294046774), (3297, 0.02183976162755743), (3298, 0.0028768754942947398), (3299, 0.05719703253446177), (3300, 0.0027987622286909327), (3301, 0.0023321853490279308), (3302, 0.0036286709169047757), (3303, 0.042288655376164885), (3304, 0.006360852855873015), (3305, 0.0), (3306, 0.011423563938951742), (3307, 0.003459482421769327), (3308, 0.008316533087430782), (3309, 0.015094005688064214), (3310, 0.004221438015683253), (3311, 0.04428856670305859), (3312, 0.011013495153595938), (3313, 0.002431482269068525), (3314, 0.0031586114578542835), (3315, 0.00671065036516498), (3316, 0.03585302325663964), (3317, 0.0413956927484654), (3318, 0.02569058086851447), (3319, 0.0075669027425597874), (3320, 0.012706599997653003), (3321, 0.07257242613232878), (3322, 0.003832990255286482), (3323, 0.023548280323909588), (3324, 0.004755667673407211), (3325, 0.005321024388205607), (3326, 0.003154316017222525), (3327, 0.019681939729310486), (3328, 0.01442270654655737), (3329, 0.013474010042800234), (3330, 0.012418073638006052), (3331, 0.0024826059696443294), (3332, 0.004095036539410558), (3333, 0.0), (3334, 0.0), (3335, 0.003009111724215814), (3336, 0.011215436263283458), (3337, 0.008105515559650852), (3338, 0.0), (3339, 0.0), (3340, 0.0), (3341, 0.0029865473360632944), (3342, 0.01157061668089081), (3343, 0.04542099772991835), (3344, 0.025186158865190853), (3345, 0.022140491501630204), (3346, 0.0591258419082441), (3347, 0.023523304192574156), (3348, 0.006798303149270582), (3349, 0.0072880813278875375), (3350, 0.003992138509296891), (3351, 0.007331642135164532), (3352, 0.010646850770299109), (3353, 0.033945211661710314), (3354, 0.003749600540513459), (3355, 0.0034263284660025596), (3356, 0.0071518577289736915), (3357, 0.008731877239909556), (3358, 0.00361565649057891), (3359, 0.0034659489558513923), (3360, 0.02477207139089127), (3361, 0.008976150995738178), (3362, 0.051687890054861525), (3363, 0.0037142992396657776), (3364, 0.043161899087263395), (3365, 0.00878719757030011), (3366, 0.00390810918801097), (3367, 0.0), (3368, 0.009257748880250117), (3369, 0.0027471057846707187), (3370, 0.0028908522316075666), (3371, 0.00448261477523413), (3372, 0.0031278228406910985), (3373, 0.007906542180422868), (3374, 0.012366074035294198), (3375, 0.0039228454028581135), (3376, 0.010640376986911764), (3377, 0.0), (3378, 0.014117313298506035), (3379, 0.00291985925140009), (3380, 0.002643746652001325), (3381, 0.0029426452718358353), (3382, 0.007330115969906358), (3383, 0.004581983709852872), (3384, 0.020160054419677328), (3385, 0.0), (3386, 0.04569974798289998), (3387, 0.008518116618223772), (3388, 0.007401385040102756), (3389, 0.022276043287386155), (3390, 0.002837601818179018), (3391, 0.006639706034399901), (3392, 0.001978870429707732), (3393, 0.014196989277753567), (3394, 0.0), (3395, 0.024975816283868944), (3396, 0.0034352084167378386), (3397, 0.020651144829706418), (3398, 0.027263315541319416), (3399, 0.01884802940438142), (3400, 0.0039573466527391635), (3401, 0.0), (3402, 0.006845507071632482), (3403, 0.01922436233985292), (3404, 0.0), (3405, 0.0), (3406, 0.0031430641694745027), (3407, 0.06539073459177425), (3408, 0.008123633846397563), (3409, 0.025301776609023628), (3410, 0.09477041144333297), (3411, 0.08657689967933985), (3412, 0.03658209685165437), (3413, 0.008437607060529529), (3414, 0.02456264697199316), (3415, 0.004235018079907021), (3416, 0.03627778043362607), (3417, 0.003280148925274456), (3418, 0.044920525811750794), (3419, 0.003436945823764533), (3420, 0.04062192722578907), (3421, 0.02218946348121096), (3422, 0.004268224738935295), (3423, 0.012233936429065683), (3424, 0.03560068196231682), (3425, 0.003450833436878652), (3426, 0.00717559231635016), (3427, 0.0), (3428, 0.03372600344480769), (3429, 0.017355710568981195), (3430, 0.013739972616829129), (3431, 0.002391588705694475), (3432, 0.02945551566367495), (3433, 0.002804258396653764), (3434, 0.003168415346274175), (3435, 0.09567100999433303), (3436, 0.0029973555548715547), (3437, 0.09121124574967678), (3438, 0.010122934674307098), (3439, 0.005248607951027319), (3440, 0.0), (3441, 0.0029537460919131266), (3442, 0.004292281555764345), (3443, 0.003991322012716824), (3444, 0.050897016329340516), (3445, 0.04240436948257034), (3446, 0.009738253786228215), (3447, 0.027621719348234854), (3448, 0.058118619008416715), (3449, 0.007590952216834948), (3450, 0.014471610357872564), (3451, 0.0), (3452, 0.07005201909187464), (3453, 0.0), (3454, 0.018551048460162877), (3455, 0.0027345751021927924), (3456, 0.03117269551494408), (3457, 0.01833263147132832), (3458, 0.026814187487563507), (3459, 0.008616182857663763), (3460, 0.03723604079976124), (3461, 0.014420903050600033), (3462, 0.004096824591177229), (3463, 0.009781572638934661), (3464, 0.014338216514976444), (3465, 0.009006668419636755), (3466, 0.024031098779413982), (3467, 0.021148542142922853), (3468, 0.0), (3469, 0.010618991228349802), (3470, 0.0), (3471, 0.002367983647912428), (3472, 0.0), (3473, 0.0), (3474, 0.0027061996232302966), (3475, 0.0065778261813747955), (3476, 0.0), (3477, 0.016368370216267483), (3478, 0.0029782142593896806), (3479, 0.0093814267166289), (3480, 0.0), (3481, 0.02896037846129613), (3482, 0.0), (3483, 0.04273773657330385), (3484, 0.007885746140594096), (3485, 0.0705411144098854), (3486, 0.0), (3487, 0.002863448337170438), (3488, 0.0), (3489, 0.004171163366510089), (3490, 0.0038859528450209484), (3491, 0.012509427169822314), (3492, 0.037940531867750114), (3493, 0.007352547927368315), (3494, 0.004072550897843053), (3495, 0.0), (3496, 0.007540435379785014), (3497, 0.03567474525642395), (3498, 0.027235323903006956), (3499, 0.0029257538599486888), (3500, 0.006517312584711452), (3501, 0.0030273242468243297), (3502, 0.011477253691210394), (3503, 0.00673607752073684), (3504, 0.019323306233190875), (3505, 0.0), (3506, 0.03287605469714004), (3507, 0.08034465345206487), (3508, 0.019164750998514897), (3509, 0.028320122981784907), (3510, 0.0043624574417667214), (3511, 0.0031349701775144822), (3512, 0.010771896677021185), (3513, 0.004239705382914928), (3514, 0.0073336376713328735), (3515, 0.029005209969399058), (3516, 0.013551672652711828), (3517, 0.007273516698059297), (3518, 0.0382602130798149), (3519, 0.03203274741109628), (3520, 0.0), (3521, 0.0036690104210436907), (3522, 0.0), (3523, 0.004269329820029616), (3524, 0.012579614377237527), (3525, 0.0), (3526, 0.016893193374613827), (3527, 0.024663737769143396), (3528, 0.0), (3529, 0.004446572044798251), (3530, 0.03326873891970197), (3531, 0.02822024099247547), (3532, 0.0), (3533, 0.0), (3534, 0.00491837182292399), (3535, 0.0), (3536, 0.05172093429824993), (3537, 0.008713175692443651), (3538, 0.013162203038718425), (3539, 0.004311155690223677), (3540, 0.003473608712508829), (3541, 0.022584974345046666), (3542, 0.0030471504074069946), (3543, 0.0037616656045948277), (3544, 0.008550963766201129), (3545, 0.004016498007393298), (3546, 0.00929649477527798), (3547, 0.0), (3548, 0.0024491233266997225), (3549, 0.013991541942435536), (3550, 0.0366208441480661), (3551, 0.042524527260451195), (3552, 0.011425093244007152), (3553, 0.01059665305455992), (3554, 0.004898478672999676), (3555, 0.0), (3556, 0.0026629074374572128), (3557, 0.012219105667427444), (3558, 0.01699229001203728), (3559, 0.009857247851250563), (3560, 0.0033462916243907266), (3561, 0.039872253929247266), (3562, 0.013031240867698236), (3563, 0.050067559143253525), (3564, 0.01250885255043617), (3565, 0.0362201591513559), (3566, 0.01615277615688647), (3567, 0.009084912782488715), (3568, 0.009093863692199148), (3569, 0.02799419447699539), (3570, 0.05319137567576759), (3571, 0.015458980626387547), (3572, 0.004480122343655841), (3573, 0.0), (3574, 0.0031078737573403117), (3575, 0.005675170537714768), (3576, 0.0), (3577, 0.020400027859723342), (3578, 0.011968460854961257), (3579, 0.047936093488855185), (3580, 0.003964602519372946), (3581, 0.004448363477887346), (3582, 0.07218072560890047), (3583, 0.0315116141203238), (3584, 0.004345873833476472), (3585, 0.00788800749588502), (3586, 0.010204824043112706), (3587, 0.014036391022225021), (3588, 0.0), (3589, 0.0037316028752880756), (3590, 0.003163600556449842), (3591, 0.031813023128942394), (3592, 0.005031049959830873), (3593, 0.0033245754036510247), (3594, 0.01712806277013673), (3595, 0.003871633282999179), (3596, 0.010581430987447104), (3597, 0.0), (3598, 0.0857301498783222), (3599, 0.05627161863418824), (3600, 0.0), (3601, 0.007491821632256667), (3602, 0.0), (3603, 0.00412380717736731), (3604, 0.03259134894718098), (3605, 0.0), (3606, 0.033189631305029096), (3607, 0.0), (3608, 0.001939854249321805), (3609, 0.0), (3610, 0.015978633814043568), (3611, 0.0033839121368450793), (3612, 0.012465273029786374), (3613, 0.0036734212527106827), (3614, 0.0026956913022340516), (3615, 0.002804548305064784), (3616, 0.0683128975164301), (3617, 0.0), (3618, 0.013207974922483243), (3619, 0.0), (3620, 0.003626541160604046), (3621, 0.008266122010201337), (3622, 0.007585930751051416), (3623, 0.0030722717025198263), (3624, 0.002950609925958041), (3625, 0.0), (3626, 0.012664364151406322), (3627, 0.0027555998683501896), (3628, 0.004425071105610502), (3629, 0.002557725064286412), (3630, 0.006985215754300674), (3631, 0.0), (3632, 0.012020627669643005), (3633, 0.020608962349384464), (3634, 0.07401981373303168), (3635, 0.0040265605842921505), (3636, 0.024588521471038682), (3637, 0.044502148271250146), (3638, 0.047361507049247256), (3639, 0.003408470054249053), (3640, 0.0033213910207299468), (3641, 0.015942198291480015), (3642, 0.003229536755930022), (3643, 0.020494912377015236), (3644, 0.01329210827618868), (3645, 0.023800411606673337), (3646, 0.03929364730240213), (3647, 0.0029301730368043507), (3648, 0.052681204859480024), (3649, 0.004590620930666112), (3650, 0.013708293004239754), (3651, 0.04819892260282316), (3652, 0.004471242342737234), (3653, 0.04220720472062484), (3654, 0.039951153259552896), (3655, 0.03977232115353597), (3656, 0.09558773737880995), (3657, 0.0025132644960451623), (3658, 0.011368416194827157), (3659, 0.0), (3660, 0.002871988758567152), (3661, 0.023008591469170003), (3662, 0.03046605901890689), (3663, 0.0), (3664, 0.0), (3665, 0.01646780314980036), (3666, 0.0030923094464696296), (3667, 0.01770097526429989), (3668, 0.010546834797011097), (3669, 0.0025238923059117953), (3670, 0.0030036683539587526), (3671, 0.005037084188897806), (3672, 0.004231968615801735), (3673, 0.006996335354429152), (3674, 0.011420075068738956), (3675, 0.0035501515451655166), (3676, 0.004089284344767633), (3677, 0.02408623521105251), (3678, 0.02186583478239216), (3679, 0.0), (3680, 0.0033677707512522028), (3681, 0.01501860132991227), (3682, 0.0), (3683, 0.0041421513054188735), (3684, 0.011741159537360435), (3685, 0.003969849417905652), (3686, 0.004810634340032062), (3687, 0.003719811035861795), (3688, 0.004483788549751405), (3689, 0.05155916852919369), (3690, 0.019380886164974867), (3691, 0.022703730248278247), (3692, 0.0032066528400649824), (3693, 0.0), (3694, 0.003223105018108542), (3695, 0.0), (3696, 0.046654185018616734), (3697, 0.042333925003219114), (3698, 0.021427701973322676), (3699, 0.0030419274333231836), (3700, 0.0), (3701, 0.012774341637309776), (3702, 0.0), (3703, 0.03116798783819524), (3704, 0.0032184092225923254), (3705, 0.0026949320010514733), (3706, 0.0029065194349564066), (3707, 0.0030311382612190118), (3708, 0.0), (3709, 0.034122487493747744), (3710, 0.0), (3711, 0.01747306693518024), (3712, 0.01281518788273656), (3713, 0.014337117126395696), (3714, 0.026079578371572765), (3715, 0.005221647050153652), (3716, 0.003636940618632571), (3717, 0.0), (3718, 0.008792728114545114), (3719, 0.002906897165972305), (3720, 0.00915065697676075), (3721, 0.0), (3722, 0.035379676501324064), (3723, 0.0), (3724, 0.010054349396266477), (3725, 0.0027730616988399137), (3726, 0.0), (3727, 0.0029528659181075915), (3728, 0.015760415696817482), (3729, 0.0034514766927740584), (3730, 0.014789188978592894), (3731, 0.01466481602678783), (3732, 0.03141510303860153), (3733, 0.021744984896420474), (3734, 0.0028089679074680086), (3735, 0.03731305962407246), (3736, 0.034315325961080674), (3737, 0.0033255360972091414), (3738, 0.0584966440850914), (3739, 0.016688563862008576), (3740, 0.038576155094599024), (3741, 0.05112553152427145), (3742, 0.0027203608833097814), (3743, 0.019622725580640054), (3744, 0.0), (3745, 0.037144496344844194), (3746, 0.00933442761153543), (3747, 0.008147095864529257), (3748, 0.018379528992434477), (3749, 0.0032472360883730542), (3750, 0.0), (3751, 0.024375406230229532), (3752, 0.022664521563135774), (3753, 0.0037277819322260423), (3754, 0.008146720816501966), (3755, 0.0062084611365405325), (3756, 0.019516876297646906), (3757, 0.0032126313613554287), (3758, 0.004839766938655455), (3759, 0.004632940677894929), (3760, 0.0), (3761, 0.0), (3762, 0.003879985718099123), (3763, 0.06297251417984408), (3764, 0.007997203720970656), (3765, 0.025245658875860895), (3766, 0.0035516062142175605), (3767, 0.013538802700957333), (3768, 0.0), (3769, 0.0), (3770, 0.0031143657393417163), (3771, 0.0032257707145961177), (3772, 0.007994184140241955), (3773, 0.0), (3774, 0.02733452642464214), (3775, 0.0), (3776, 0.008121018471514491), (3777, 0.0131653643021884), (3778, 0.012942979805425591), (3779, 0.003596284822932829), (3780, 0.013304371337974373), (3781, 0.003191012671606015), (3782, 0.07699114009741068), (3783, 0.0), (3784, 0.019202484027341305), (3785, 0.0), (3786, 0.034462109731940374), (3787, 0.0), (3788, 0.0), (3789, 0.0047789481228163126), (3790, 0.004205890402817342), (3791, 0.004617364082463923), (3792, 0.033103325948850244), (3793, 0.0), (3794, 0.0), (3795, 0.002664089851728832), (3796, 0.005596722358070361), (3797, 0.011831607824992776), (3798, 0.0), (3799, 0.002823103076635904), (3800, 0.005338745954511724), (3801, 0.04307497831952159), (3802, 0.0), (3803, 0.011836785581955472), (3804, 0.032810459965497904), (3805, 0.004034809629644349), (3806, 0.0), (3807, 0.002962591809095111), (3808, 0.004492900757661121), (3809, 0.024446043165688852), (3810, 0.009662312395758935), (3811, 0.006622356240359685), (3812, 0.004118701179528909), (3813, 0.0032495314373525964), (3814, 0.0), (3815, 0.07226447215189422), (3816, 0.03131818881443981), (3817, 0.010548189934619473), (3818, 0.013416538441382757), (3819, 0.031481247448100574), (3820, 0.06434483259908812), (3821, 0.04914571021604643), (3822, 0.027195678978778493), (3823, 0.0178310249173295), (3824, 0.0038622152951902017), (3825, 0.024087211355306917), (3826, 0.019394972667615154), (3827, 0.002920062775105469), (3828, 0.0037665335216408038), (3829, 0.00993876147779118), (3830, 0.0), (3831, 0.010398228594485984), (3832, 0.013515818991931772), (3833, 0.0), (3834, 0.031748889362881956), (3835, 0.00643942976096161), (3836, 0.00394650370180398), (3837, 0.03949933935983627), (3838, 0.0), (3839, 0.013594306016977873), (3840, 0.0), (3841, 0.011174385755724422), (3842, 0.003683116917946589), (3843, 0.0), (3844, 0.005070845780422146), (3845, 0.007327193464325385), (3846, 0.0), (3847, 0.0), (3848, 0.037315890935727465), (3849, 0.0), (3850, 0.0), (3851, 0.004633100980562475), (3852, 0.00826216246210161), (3853, 0.02700315581560788), (3854, 0.011522823613001384), (3855, 0.014006469317873612), (3856, 0.003502069389673152), (3857, 0.013839827573323138), (3858, 0.015513925801304432), (3859, 0.0038274926314777902), (3860, 0.0), (3861, 0.0035831440171236), (3862, 0.003110425610935661), (3863, 0.0026762126126154235), (3864, 0.01109807709596347), (3865, 0.09488301574401041), (3866, 0.01902758375567376), (3867, 0.0033832575791928627), (3868, 0.05256271347937585), (3869, 0.0), (3870, 0.014143649423882255), (3871, 0.0), (3872, 0.0), (3873, 0.003184544085605393), (3874, 0.003641862124971097), (3875, 0.06317812553963317), (3876, 0.02997155871214368), (3877, 0.013873442668578265), (3878, 0.04291360508820088), (3879, 0.031648982220384564), (3880, 0.009328064715856123), (3881, 0.0), (3882, 0.007393294837142402), (3883, 0.0033948108514719622), (3884, 0.03798894935071297), (3885, 0.003681182321350056), (3886, 0.01299271198994488), (3887, 0.0), (3888, 0.0069506625027689044), (3889, 0.007618490544724963), (3890, 0.02905858048484368), (3891, 0.04450651600507059), (3892, 0.009131974845763956), (3893, 0.003217355245510771), (3894, 0.08899940631026713), (3895, 0.0026071019468085835), (3896, 0.0039019802034332435), (3897, 0.01005357978659744), (3898, 0.0028262124312703795), (3899, 0.00904690303404607), (3900, 0.0028638198482653678), (3901, 0.0035917192799112835), (3902, 0.003098749364420769), (3903, 0.044830272382941946), (3904, 0.0031855068511205988), (3905, 0.004280395592333529), (3906, 0.027574918898410194), (3907, 0.04710158453424948), (3908, 0.0), (3909, 0.019819169682013124), (3910, 0.002614675325323731), (3911, 0.05066719672164777), (3912, 0.004134168002191611), (3913, 0.0027494780722284303), (3914, 0.023684891894103742), (3915, 0.035464656396047546), (3916, 0.00344808990793101), (3917, 0.011986383508448472), (3918, 0.0), (3919, 0.025319474618509523), (3920, 0.012906636389293506), (3921, 0.02651583329558005), (3922, 0.00867191357503215), (3923, 0.0037181675108882884), (3924, 0.024120842193572543), (3925, 0.004432982269059582), (3926, 0.02127670974851165), (3927, 0.016791974776442536), (3928, 0.010408426622992953), (3929, 0.0), (3930, 0.014006163031187178), (3931, 0.04269734724555688), (3932, 0.005493787344430845), (3933, 0.0036069895973280686), (3934, 0.008594218202417684), (3935, 0.003509371115228533), (3936, 0.00511912230421303), (3937, 0.0), (3938, 0.0), (3939, 0.00396663058124033), (3940, 0.02740579880599456), (3941, 0.006582953177490207), (3942, 0.0), (3943, 0.00434959279550836), (3944, 0.007643593845712669), (3945, 0.008672235123854448), (3946, 0.005981891907847962), (3947, 0.0), (3948, 0.0331695759551916), (3949, 0.005562529155621764), (3950, 0.008996461627447994), (3951, 0.023539815460511003), (3952, 0.008055913165117142), (3953, 0.028729955685025843), (3954, 0.01009080010903586), (3955, 0.041334807161400186), (3956, 0.03779307029295904), (3957, 0.016628565409314795), (3958, 0.0), (3959, 0.01290579984566895), (3960, 0.014126344965423475), (3961, 0.0032872102275311476), (3962, 0.00788955280059572), (3963, 0.03013662944286142), (3964, 0.004519349828664483), (3965, 0.02911095857384468), (3966, 0.008843549087468575), (3967, 0.012238939039342953), (3968, 0.0), (3969, 0.018463633120137164), (3970, 0.018138208619279027), (3971, 0.003263333533483104), (3972, 0.0), (3973, 0.020000350849859294), (3974, 0.0026805613620767173), (3975, 0.0), (3976, 0.0), (3977, 0.02756974603455796), (3978, 0.03949326506046074), (3979, 0.0), (3980, 0.007606963140882939), (3981, 0.0), (3982, 0.0), (3983, 0.058768452833878514), (3984, 0.007387778201156792), (3985, 0.0), (3986, 0.048788255386087866), (3987, 0.0031720007918974373), (3988, 0.005093441657336964), (3989, 0.0), (3990, 0.004110783645244468), (3991, 0.0), (3992, 0.04026725551812143), (3993, 0.0), (3994, 0.009214808229503432), (3995, 0.02164938036723884), (3996, 0.004824809967336543), (3997, 0.0), (3998, 0.02046522110019801), (3999, 0.0036671132610453525), (4000, 0.0029540688038012628), (4001, 0.059422810315439445), (4002, 0.01447086263827485), (4003, 0.004470027764035641), (4004, 0.033112690372928834), (4005, 0.0031823049318604737), (4006, 0.03498844540960522), (4007, 0.10801487786463063), (4008, 0.012204941992947579), (4009, 0.015888838004440072), (4010, 0.004669183477193797), (4011, 0.0027969880335501273), (4012, 0.016587490094249823), (4013, 0.013566153082853576), (4014, 0.0030133489620844858), (4015, 0.025922697985650375), (4016, 0.05431162757693894), (4017, 0.0040414648218357494), (4018, 0.006897993961191994), (4019, 0.0038607237689449896), (4020, 0.032032198201749296), (4021, 0.0), (4022, 0.0), (4023, 0.008295894517494603), (4024, 0.003216160985998292), (4025, 0.03496510020109542), (4026, 0.008916780541374915), (4027, 0.0042729588115914775), (4028, 0.025380246661939034), (4029, 0.0039656176504449915), (4030, 0.0034858855847791728), (4031, 0.015815034629946025), (4032, 0.04566947213721135), (4033, 0.03102978996068811), (4034, 0.0), (4035, 0.010232751821612157), (4036, 0.006863847660098436), (4037, 0.0038334000161527816), (4038, 0.013321331489336676), (4039, 0.0), (4040, 0.005221665872423147), (4041, 0.0), (4042, 0.003289378206068276), (4043, 0.08204556402909119), (4044, 0.0), (4045, 0.0), (4046, 0.003264920435874012), (4047, 0.037504768931172563), (4048, 0.003260358093093688), (4049, 0.007129398109701132), (4050, 0.0), (4051, 0.007837191150275284), (4052, 0.015576809831941887), (4053, 0.0027024033680789167), (4054, 0.038912378495141155), (4055, 0.024062750009964145), (4056, 0.03523984305481848), (4057, 0.015284714887538048), (4058, 0.0050332817555020695), (4059, 0.04152010192101273), (4060, 0.03243942499207832), (4061, 0.03356062278681611), (4062, 0.024435130392674476), (4063, 0.0), (4064, 0.015008110259080987), (4065, 0.0), (4066, 0.006169104710777181), (4067, 0.0), (4068, 0.04562894005634958), (4069, 0.0028766292221400194), (4070, 0.018968093300118262), (4071, 0.0038287764585348736), (4072, 0.0), (4073, 0.028358346489445206), (4074, 0.03791709052488761), (4075, 0.0034750831904883403), (4076, 0.010215360832669685), (4077, 0.0470745435415179), (4078, 0.0), (4079, 0.0030873406356084184), (4080, 0.002670343646330785), (4081, 0.002994691127677194), (4082, 0.03370619053490613), (4083, 0.0031092830531647335), (4084, 0.005203334538143546), (4085, 0.0028345818791975412), (4086, 0.004378844324733793), (4087, 0.0032375295866061303), (4088, 0.0), (4089, 0.003100976207999002), (4090, 0.030816253446587276), (4091, 0.0104189593205945), (4092, 0.0033703227573835077), (4093, 0.004139342750705254), (4094, 0.08599276035446014), (4095, 0.05940888222362091), (4096, 0.0), (4097, 0.004431421122007537), (4098, 0.0030527946664991486), (4099, 0.04675698901652608), (4100, 0.0), (4101, 0.003250560155465681), (4102, 0.00891933405182765), (4103, 0.0), (4104, 0.006226691117907877), (4105, 0.004542194244813722), (4106, 0.023884743737756443), (4107, 0.0036774572696869176), (4108, 0.015138208734137692), (4109, 0.012241298666278443), (4110, 0.023677361128498192), (4111, 0.0075201683962039054), (4112, 0.013205453583057213), (4113, 0.007802491465531998), (4114, 0.0), (4115, 0.005460034702199243), (4116, 0.003246922541837128), (4117, 0.008018944188516248), (4118, 0.02481472968751917), (4119, 0.021078128487712944), (4120, 0.010569609258360337), (4121, 0.015387305544171954), (4122, 0.0), (4123, 0.0031446031765756366), (4124, 0.011790413863115313), (4125, 0.03502177345546738), (4126, 0.0034655645755981464), (4127, 0.004911896736288138), (4128, 0.03828679912123097), (4129, 0.002882695920501811), (4130, 0.003255161809931632), (4131, 0.004330354383597696), (4132, 0.0075613947818221495), (4133, 0.003247403867947784), (4134, 0.01058587552976532), (4135, 0.016741222711470855), (4136, 0.012980532873192941), (4137, 0.012574882324065362), (4138, 0.0033011299338010173), (4139, 0.0028759238074762624), (4140, 0.007675398205295074), (4141, 0.0164105575841111), (4142, 0.04174453265705961), (4143, 0.011200662104491567), (4144, 0.0), (4145, 0.003498424989143995), (4146, 0.0), (4147, 0.03397966261523928), (4148, 0.0), (4149, 0.008182171257554641), (4150, 0.0), (4151, 0.005116969102972177), (4152, 0.011888334567266463), (4153, 0.0), (4154, 0.0026911464315644003), (4155, 0.04025182976570845), (4156, 0.07734899272299064), (4157, 0.009292165764819645), (4158, 0.014764989411880956), (4159, 0.0), (4160, 0.0033391327431328073), (4161, 0.0032039621850681495), (4162, 0.0), (4163, 0.00345288322575569), (4164, 0.0), (4165, 0.0), (4166, 0.005224182353181665), (4167, 0.0), (4168, 0.02135640555790327), (4169, 0.03478038071198364), (4170, 0.0), (4171, 0.02977734023500144), (4172, 0.003937238125016815), (4173, 0.00432952541608811), (4174, 0.015193435908695797), (4175, 0.003171238690414939), (4176, 0.011457605191664087), (4177, 0.0), (4178, 0.0031271760863714674), (4179, 0.0), (4180, 0.004276240658417712), (4181, 0.0), (4182, 0.0111818402595901), (4183, 0.0028885726136806435), (4184, 0.0040630911095606275), (4185, 0.06413934342038752), (4186, 0.003704217892642272), (4187, 0.0033792601847186187), (4188, 0.0), (4189, 0.020635956601475318), (4190, 0.004826118734817778), (4191, 0.0036654299727193226), (4192, 0.0453879141074635), (4193, 0.0), (4194, 0.011614042641484473), (4195, 0.029077516372245104), (4196, 0.00839909930160316), (4197, 0.040245520422295344), (4198, 0.005343209234406301), (4199, 0.005020051688762793), (4200, 0.005808014733483304), (4201, 0.03396594610853704), (4202, 0.004164384352990396), (4203, 0.06247063849986612), (4204, 0.03462966253276315), (4205, 0.034958781170319406), (4206, 0.030466029228578443), (4207, 0.004391611964547175), (4208, 0.02612869712920009), (4209, 0.0036494383170239176), (4210, 0.021546453455318658), (4211, 0.0), (4212, 0.0), (4213, 0.006679808765266018), (4214, 0.029470936288541316), (4215, 0.0), (4216, 0.0), (4217, 0.024425573552210762), (4218, 0.013233423601519492), (4219, 0.0), (4220, 0.002627302790522563), (4221, 0.003981860868290329), (4222, 0.009421244549172033), (4223, 0.006202629276769525), (4224, 0.03668946310054259), (4225, 0.003126310742290362), (4226, 0.02322321773192893), (4227, 0.0), (4228, 0.002942308961916165), (4229, 0.0), (4230, 0.0038159964712739408), (4231, 0.0031769524137217945), (4232, 0.002589135409656158), (4233, 0.00857192868821221), (4234, 0.0356065920484191), (4235, 0.0), (4236, 0.007133784511265228), (4237, 0.003602584577262264), (4238, 0.0), (4239, 0.0055905858851183834), (4240, 0.04274403983591985), (4241, 0.009377928184708905), (4242, 0.01548002333796872), (4243, 0.00339045576920625), (4244, 0.0034118930589247354), (4245, 0.003199819417960579), (4246, 0.006651279792356373), (4247, 0.00261761678864214), (4248, 0.0), (4249, 0.0030728886966651277), (4250, 0.0), (4251, 0.0), (4252, 0.01301657314995365), (4253, 0.035887595067193995), (4254, 0.006595945617315377), (4255, 0.010838619174938929), (4256, 0.004294177748574261), (4257, 0.022816671194413007), (4258, 0.03556863491301099), (4259, 0.04076264005929946), (4260, 0.004276989990662239), (4261, 0.0), (4262, 0.012936422647476343), (4263, 0.007737166425261639), (4264, 0.0), (4265, 0.020070474804742278), (4266, 0.0030052173105400105), (4267, 0.02519628048207284), (4268, 0.0029661791910090855), (4269, 0.01336556734455829), (4270, 0.0), (4271, 0.011733201212583571), (4272, 0.04436951783781143), (4273, 0.0030476423423223997), (4274, 0.0), (4275, 0.0), (4276, 0.0), (4277, 0.002727904698971848), (4278, 0.0), (4279, 0.009067731104519978), (4280, 0.0035295802543209996), (4281, 0.010959345841864651), (4282, 0.0289270582343961), (4283, 0.012701545797758399), (4284, 0.012226078363937302), (4285, 0.004748738120543598), (4286, 0.003148772312988436), (4287, 0.007257479028517731), (4288, 0.00606002874350292), (4289, 0.0), (4290, 0.01711654670432569), (4291, 0.004040905178187197), (4292, 0.008934028920787337), (4293, 0.007838803594022885), (4294, 0.0), (4295, 0.04067186603054829), (4296, 0.002594145307756293), (4297, 0.02108682121675485), (4298, 0.003653707567086437), (4299, 0.034085696372582144), (4300, 0.0040782083262985245), (4301, 0.0022095967476142716), (4302, 0.0), (4303, 0.11659735788754917), (4304, 0.032936448882395136), (4305, 0.0037592392933183403), (4306, 0.0036820221289496006), (4307, 0.0), (4308, 0.0077036724298285494), (4309, 0.00290681860462404), (4310, 0.0), (4311, 0.005707258919498278), (4312, 0.0203752948290072), (4313, 0.0), (4314, 0.0039018613300548593), (4315, 0.0043093006435575695), (4316, 0.0), (4317, 0.0045886475299466035), (4318, 0.0031470365236618033), (4319, 0.004159222966561601), (4320, 0.002970643935708134), (4321, 0.04240426837430146), (4322, 0.0), (4323, 0.034385290246823394), (4324, 0.004485964537747755), (4325, 0.11712098645323568), (4326, 0.0027304835140620873), (4327, 0.003943625369301387), (4328, 0.05454608038078615), (4329, 0.004154977891676091), (4330, 0.012467457509798326), (4331, 0.0), (4332, 0.052140242535667), (4333, 0.0033512250003143026), (4334, 0.003078134152083056), (4335, 0.03718322598298087), (4336, 0.010327459502745495), (4337, 0.008564881665202723), (4338, 0.010357009374374252), (4339, 0.008661754497689586), (4340, 0.0030802260650141964), (4341, 0.004800113482269777), (4342, 0.015845994810306192), (4343, 0.0026342733614153355), (4344, 0.02535082654403434), (4345, 0.0028249619489741696), (4346, 0.0046947002249848845), (4347, 0.008660464433418436), (4348, 0.038746822604858296), (4349, 0.0029285052801988733), (4350, 0.0026843872712413314), (4351, 0.022780471731219387), (4352, 0.0), (4353, 0.011748857313442856), (4354, 0.024959921491431666), (4355, 0.0031727941767327244), (4356, 0.03412915217672316), (4357, 0.007488140546830812), (4358, 0.0035702182504382582), (4359, 0.02178330690558116), (4360, 0.0), (4361, 0.0030985157131382278), (4362, 0.002916123642383342), (4363, 0.03492102089324253), (4364, 0.0), (4365, 0.0), (4366, 0.0), (4367, 0.011396457714157423), (4368, 0.014023673897347629), (4369, 0.0034263651809248075), (4370, 0.004321787462870399), (4371, 0.015804859840706707), (4372, 0.02592552272508912), (4373, 0.03180125687979387), (4374, 0.020828961032103147), (4375, 0.0254333842471922), (4376, 0.009721721418354465), (4377, 0.0), (4378, 0.02777248088919156), (4379, 0.012910272368901948), (4380, 0.0), (4381, 0.0028872555906480223), (4382, 0.006792719665132228), (4383, 0.0), (4384, 0.034373313705011094), (4385, 0.006713831385745127), (4386, 0.002568575260404409), (4387, 0.012149920833797252), (4388, 0.02184504660712893), (4389, 0.0), (4390, 0.02746975759423927), (4391, 0.003009769960025296), (4392, 0.021988303067442556), (4393, 0.0), (4394, 0.0163801940705813), (4395, 0.016058828310417144), (4396, 0.0033320417946905707), (4397, 0.003314526899832161), (4398, 0.0034413868975985804), (4399, 0.020737538139154153), (4400, 0.003796544808928254), (4401, 0.003327458011519816), (4402, 0.011521844229304736), (4403, 0.03633176974980065), (4404, 0.0041342387234293435), (4405, 0.026967640223662923), (4406, 0.010029822183983959), (4407, 0.0038955715951891103), (4408, 0.004858404601109124), (4409, 0.0313894784940212), (4410, 0.031227126862730825), (4411, 0.0025514350716701936), (4412, 0.003488721152336776), (4413, 0.00438766046931641), (4414, 0.03561854592600035), (4415, 0.0), (4416, 0.0035056414859123935), (4417, 0.0), (4418, 0.0587344594285866), (4419, 0.0431651064778171), (4420, 0.038695916383800495), (4421, 0.004224151678705106), (4422, 0.007259395738341843), (4423, 0.003861915544636537), (4424, 0.029722340443723957), (4425, 0.0), (4426, 0.0034915612513138432), (4427, 0.0029748647028453898), (4428, 0.01183189713867402), (4429, 0.002585855693961452), (4430, 0.0031181593950945262), (4431, 0.023466508422491414), (4432, 0.0026067453632751493), (4433, 0.030854179396081635), (4434, 0.0038763983957217315), (4435, 0.002992415417274726), (4436, 0.01854271165064137), (4437, 0.010919854855403073), (4438, 0.009090875470016711), (4439, 0.0), (4440, 0.04174442055135341), (4441, 0.03617378053925789), (4442, 0.01601119613142225), (4443, 0.003648369716677265), (4444, 0.01632258056351455), (4445, 0.002235768785718784), (4446, 0.040256746479088334), (4447, 0.0036712582447649927), (4448, 0.0172389359750806), (4449, 0.03562734769097217), (4450, 0.00840562592215299), (4451, 0.004774402297784114), (4452, 0.004576995601037963), (4453, 0.004518167601946615), (4454, 0.015608026416455884), (4455, 0.0), (4456, 0.0), (4457, 0.004031662636228847), (4458, 0.0035519746773469705), (4459, 0.025665538859602783), (4460, 0.047752117459198454), (4461, 0.002867085230582053), (4462, 0.010715705632095998), (4463, 0.037428343304456185), (4464, 0.0), (4465, 0.0034132484651647615), (4466, 0.0), (4467, 0.017762622962106338), (4468, 0.0), (4469, 0.0037210788740289886), (4470, 0.003070500660503241), (4471, 0.00315819068335891), (4472, 0.01204497963161559), (4473, 0.014376594609863675), (4474, 0.03730630624950709), (4475, 0.0026781484867294315), (4476, 0.0025484572898034773), (4477, 0.014557437521735552), (4478, 0.0), (4479, 0.0027429682046357573), (4480, 0.0056976134556014635), (4481, 0.009059830376817039), (4482, 0.009404742376547068), (4483, 0.004827174338608998), (4484, 0.009366027549684013), (4485, 0.0), (4486, 0.022018255387599543), (4487, 0.0029341640759629915), (4488, 0.0), (4489, 0.00745044095017516), (4490, 0.0035319267873623115), (4491, 0.0), (4492, 0.014533139633934065), (4493, 0.0), (4494, 0.003364504308564041), (4495, 0.06031743619859539), (4496, 0.004631733957621235), (4497, 0.0031180413503910584), (4498, 0.006632535928960413), (4499, 0.0), (4500, 0.0), (4501, 0.024105840027723337), (4502, 0.0027200802597802166), (4503, 0.012566783935705228), (4504, 0.012026262718597537), (4505, 0.003152424023807225), (4506, 0.029761975308711774), (4507, 0.008068754109305548), (4508, 0.0), (4509, 0.0), (4510, 0.0), (4511, 0.020065489467278243), (4512, 0.0), (4513, 0.0), (4514, 0.004894620080379714), (4515, 0.010551591522173541), (4516, 0.0034151105360908456), (4517, 0.0029962219847646868), (4518, 0.0), (4519, 0.0032464160711775836), (4520, 0.0029482337134223505), (4521, 0.003717355392467298), (4522, 0.007655434660724958), (4523, 0.01191981641662777), (4524, 0.020520542774896944), (4525, 0.0), (4526, 0.0), (4527, 0.0), (4528, 0.09462076516990355), (4529, 0.003993167681712687), (4530, 0.006870191260338108), (4531, 0.013809188218905501), (4532, 0.027957260359271492), (4533, 0.003048032087628698), (4534, 0.0), (4535, 0.00333341740349674), (4536, 0.0028453583161884683), (4537, 0.03244929877782073), (4538, 0.0), (4539, 0.025046489162599318), (4540, 0.0032000823560287914), (4541, 0.015487970608869467), (4542, 0.004000763451814463), (4543, 0.027545723607812087), (4544, 0.0037152638351659975), (4545, 0.003222885625275258), (4546, 0.003849642911400014), (4547, 0.0), (4548, 0.008888750316581637), (4549, 0.010519042142691528), (4550, 0.04844868990164547), (4551, 0.024283957661974796), (4552, 0.004194396895442991), (4553, 0.0), (4554, 0.01270945388201484), (4555, 0.010587370397525426), (4556, 0.01266223530139996), (4557, 0.004292432482439493), (4558, 0.037215089599882886), (4559, 0.0), (4560, 0.004303372105347531), (4561, 0.0), (4562, 0.005027026222288102), (4563, 0.0030539356463448767), (4564, 0.020453647864953524), (4565, 0.0), (4566, 0.0031395231772527966), (4567, 0.002846392982542388), (4568, 0.03724386931926625), (4569, 0.0), (4570, 0.004837245733039835), (4571, 0.01116254428851313), (4572, 0.0036551330783139435), (4573, 0.002887121861886915), (4574, 0.0031888302427785444), (4575, 0.0031511499614958203), (4576, 0.05448035708053063), (4577, 0.0037154866444137845), (4578, 0.0), (4579, 0.003210135613236203), (4580, 0.004515569044418319), (4581, 0.0), (4582, 0.0), (4583, 0.0), (4584, 0.0035013161710966377), (4585, 0.0), (4586, 0.0), (4587, 0.0), (4588, 0.0), (4589, 0.025683149513956907), (4590, 0.011157666330984709), (4591, 0.002769894491111159), (4592, 0.013486985562300973), (4593, 0.0033116730897283196), (4594, 0.014676826626756716), (4595, 0.0), (4596, 0.06003147846118121), (4597, 0.0), (4598, 0.0023364906228657834), (4599, 0.053362076993071675), (4600, 0.01238083166832158), (4601, 0.08084133246323753), (4602, 0.0032675804745309176), (4603, 0.013748046212443216), (4604, 0.012527814077561868), (4605, 0.011876378514513806), (4606, 0.0037704028962646584), (4607, 0.004324691187843356), (4608, 0.002642873914893753), (4609, 0.004074394865122204), (4610, 0.012369528003852378), (4611, 0.003969696876363182), (4612, 0.015512156346535435), (4613, 0.01003807052543907), (4614, 0.030160954035712527), (4615, 0.0), (4616, 0.00275113263536819), (4617, 0.004073251135039267), (4618, 0.0), (4619, 0.0032859591219993618), (4620, 0.0027211447204773527), (4621, 0.031729337754041735), (4622, 0.004295369933457996), (4623, 0.0), (4624, 0.023009568040688988), (4625, 0.003092311976028683), (4626, 0.0024078561481121366), (4627, 0.006027724089585196), (4628, 0.008353390190010395), (4629, 0.012998686276427009), (4630, 0.028626485793727115), (4631, 0.004914004502148112), (4632, 0.0035111391444487567), (4633, 0.008255668895427965), (4634, 0.04663309842387263), (4635, 0.013487376599047324), (4636, 0.005923996215480643), (4637, 0.028312076428271445), (4638, 0.002716725273859226), (4639, 0.0), (4640, 0.0029837151913656235), (4641, 0.0029093505662145473), (4642, 0.0), (4643, 0.0030634783995928025), (4644, 0.0), (4645, 0.0), (4646, 0.012089935122918779), (4647, 0.012233626408415734), (4648, 0.004184954031176559), (4649, 0.018527191245870107), (4650, 0.04549581721279864), (4651, 0.0), (4652, 0.04596652642375823), (4653, 0.0), (4654, 0.0), (4655, 0.03455367700397959), (4656, 0.0), (4657, 0.003203069552525822), (4658, 0.028511244940871424), (4659, 0.010232520453587458), (4660, 0.04796258559941117), (4661, 0.002639927291374595), (4662, 0.0), (4663, 0.0), (4664, 0.0), (4665, 0.0), (4666, 0.0), (4667, 0.003784226423662892), (4668, 0.002934534232380883), (4669, 0.003243666550339337), (4670, 0.022855392283256372), (4671, 0.0), (4672, 0.0), (4673, 0.002884532933254823), (4674, 0.01762378225718735), (4675, 0.03036671922799937), (4676, 0.0), (4677, 0.028810851693948255), (4678, 0.0), (4679, 0.01929120771892578), (4680, 0.003184283001557228), (4681, 0.0), (4682, 0.02588680929043169), (4683, 0.0), (4684, 0.0), (4685, 0.019806560934912038), (4686, 0.012536475286648462), (4687, 0.04119790191845088), (4688, 0.032414039500927944), (4689, 0.008652431281678507), (4690, 0.03061421178318359), (4691, 0.0), (4692, 0.03558196524053152), (4693, 0.002892945842829145), (4694, 0.0034993074629423586), (4695, 0.018122611840614016), (4696, 0.0039016961532812337), (4697, 0.030166372759497708), (4698, 0.0), (4699, 0.03216164830832056), (4700, 0.049421273090903425), (4701, 0.0035495332255852273), (4702, 0.0041090881190707145), (4703, 0.0), (4704, 0.004068596271048878), (4705, 0.004258064386548527), (4706, 0.007804463336759455), (4707, 0.0), (4708, 0.0), (4709, 0.0), (4710, 0.05233730408440846), (4711, 0.004775987749125687), (4712, 0.03647825502213857), (4713, 0.003447616472080448), (4714, 0.0), (4715, 0.04251168757186085), (4716, 0.0), (4717, 0.008294749224363168), (4718, 0.003340155186563594), (4719, 0.013605450665538088), (4720, 0.004911507106742426), (4721, 0.005036346349293255), (4722, 0.0032286920167197276), (4723, 0.0036413569796032398), (4724, 0.003671254457269442), (4725, 0.004939791142980137), (4726, 0.006291204654145415), (4727, 0.0), (4728, 0.0), (4729, 0.0028607256131328775), (4730, 0.0), (4731, 0.0033719583024369674), (4732, 0.040911459473292805), (4733, 0.0024849786037111853), (4734, 0.030158214203107603), (4735, 0.0035242072669319758), (4736, 0.0), (4737, 0.06944045523848315), (4738, 0.01175493756772928), (4739, 0.02180302912270262), (4740, 0.0), (4741, 0.0), (4742, 0.0), (4743, 0.0029058968041782013), (4744, 0.005694671933149365), (4745, 0.0), (4746, 0.004589698004270569), (4747, 0.0), (4748, 0.03916600592569956), (4749, 0.003996860329739612), (4750, 0.0), (4751, 0.0), (4752, 0.008925545965325438), (4753, 0.0033959808456510802), (4754, 0.0), (4755, 0.009539828876446556), (4756, 0.007291463718893609), (4757, 0.02943226403354704), (4758, 0.0), (4759, 0.0)]\n"
          ]
        }
      ]
    },
    {
      "cell_type": "code",
      "source": [
        "len(Recommendation_Score)"
      ],
      "metadata": {
        "colab": {
          "base_uri": "https://localhost:8080/"
        },
        "id": "bdeKEJVfnv_X",
        "outputId": "3a58d32d-102d-4577-ba0c-c00fac8b8c4a"
      },
      "execution_count": 42,
      "outputs": [
        {
          "output_type": "execute_result",
          "data": {
            "text/plain": [
              "4760"
            ]
          },
          "metadata": {},
          "execution_count": 42
        }
      ]
    },
    {
      "cell_type": "markdown",
      "source": [
        "### **Get All Movies Sort Based on Recommendation Score wrt Favourite Movie**"
      ],
      "metadata": {
        "id": "ttJirRnqn5MT"
      }
    },
    {
      "cell_type": "code",
      "source": [
        "# sorting the movies based on their similarity score\n",
        "\n",
        "Sorted_Similar_Movies = sorted(Recommendation_Score, key = lambda x:x[1], reverse = True)\n",
        "print(Sorted_Similar_Movies)"
      ],
      "metadata": {
        "colab": {
          "base_uri": "https://localhost:8080/"
        },
        "id": "VlysgYaOoEpT",
        "outputId": "5080ed44-fe1b-4d52-921e-8eba5f6796dd"
      },
      "execution_count": 43,
      "outputs": [
        {
          "output_type": "stream",
          "name": "stdout",
          "text": [
            "[(1688, 1.0), (18, 0.14954410950309519), (2610, 0.14814907036157246), (2975, 0.14399537556532074), (1519, 0.13950507296400178), (2143, 0.12146128207098977), (4325, 0.11712098645323568), (4303, 0.11659735788754917), (677, 0.11627981515404598), (2534, 0.11458385221161331), (56, 0.11283836858186386), (2902, 0.11130838900289955), (895, 0.11020465622213513), (1377, 0.1085506526341116), (2686, 0.10820522934227689), (4007, 0.10801487786463063), (404, 0.1058336498294561), (450, 0.10395714457839017), (2725, 0.10332110676940055), (1114, 0.0995809760068005), (538, 0.09790407616863549), (2823, 0.09573939597786107), (3435, 0.09567100999433303), (3656, 0.09558773737880995), (930, 0.09548990892328632), (45, 0.0954046442079616), (2501, 0.09508862724068452), (957, 0.09503805146383411), (3865, 0.09488301574401041), (3410, 0.09477041144333297), (4528, 0.09462076516990355), (409, 0.09451805169219983), (1474, 0.09435444413546434), (2009, 0.09402058531030234), (2162, 0.09356458722695939), (1406, 0.09345626935487517), (1423, 0.09300670994868049), (1696, 0.09274767960187676), (1643, 0.09217453261192943), (1364, 0.09205383916450612), (1132, 0.09181476562599514), (3437, 0.09121124574967678), (1624, 0.08998189723286844), (2144, 0.08972938784085446), (2792, 0.08963629024021448), (656, 0.08945861239704611), (2116, 0.08940614495343208), (2763, 0.08923848089668748), (1174, 0.08907070055218563), (3894, 0.08899940631026713), (1402, 0.0887195455396959), (55, 0.08792729834412943), (848, 0.08786849476758173), (2053, 0.08734970380330753), (2603, 0.08733971158407451), (2238, 0.0871462232096987), (2992, 0.08707645379038949), (3411, 0.08657689967933985), (781, 0.08624566758569323), (1901, 0.08624157336475496), (4094, 0.08599276035446014), (3598, 0.0857301498783222), (1687, 0.08533314884353715), (222, 0.08507846942208128), (1099, 0.08496347497373585), (540, 0.08408930038732317), (1090, 0.08407748734898932), (244, 0.08392975066655493), (2055, 0.08323526476334978), (758, 0.08275860394726507), (2133, 0.08241017668161166), (2813, 0.08206914630424889), (1642, 0.08204989252310477), (4043, 0.08204556402909119), (648, 0.08184285908993007), (351, 0.08180167902460589), (2569, 0.08119441282875504), (1157, 0.08101995024453143), (4601, 0.08084133246323753), (3507, 0.08034465345206487), (741, 0.08003259656449849), (2161, 0.07967479899687785), (343, 0.07903726342434696), (3284, 0.0790032762461364), (650, 0.07878768468155439), (543, 0.07824311813202285), (1870, 0.07820222579769516), (1510, 0.07810539477523858), (1842, 0.07767049675693613), (1482, 0.07750915400450066), (695, 0.0775071155848095), (4156, 0.07734899272299064), (3108, 0.0770359682490695), (3782, 0.07699114009741068), (494, 0.07654258162255945), (1871, 0.07644247050515544), (475, 0.07635109618538868), (692, 0.07630797821563026), (355, 0.07630182825581444), (2314, 0.0748290091120135), (1692, 0.07466891212898644), (2878, 0.07440101173900622), (2826, 0.07425280526611366), (1061, 0.07410193163697698), (1210, 0.0740287175099048), (3634, 0.07401981373303168), (742, 0.07373824925301552), (703, 0.07315981129892758), (1545, 0.07306398766597531), (706, 0.07303493600000922), (232, 0.072945280656308), (2367, 0.07283218838023868), (541, 0.07266427324043645), (3321, 0.07257242613232878), (3815, 0.07226447215189422), (2155, 0.07223870620914208), (3582, 0.07218072560890047), (108, 0.07216806140272783), (2457, 0.07181259963525309), (1654, 0.07127862925645162), (2156, 0.07080273302496701), (1416, 0.07067434225719264), (539, 0.07059874163880783), (3485, 0.0705411144098854), (542, 0.07024598606756303), (1087, 0.07023093085973743), (655, 0.07015334074168565), (2502, 0.07015109545894699), (3452, 0.07005201909187464), (1550, 0.07001107109649599), (4737, 0.06944045523848315), (2876, 0.06929303395112357), (2872, 0.06894398680501738), (1788, 0.06848576842221597), (2301, 0.06838346743508318), (2391, 0.06836772310107536), (3616, 0.0683128975164301), (1302, 0.06774419682013401), (298, 0.06739309607786988), (1129, 0.06687032563992994), (130, 0.06676894175752154), (2184, 0.06658248068205205), (2393, 0.06651069004809411), (2862, 0.06573428597149254), (1094, 0.06552937627062382), (1403, 0.06548516065349155), (3407, 0.06539073459177425), (737, 0.06535042665194139), (2985, 0.06526759631334168), (1552, 0.06488850404843821), (1787, 0.06451065704899157), (3820, 0.06434483259908812), (1955, 0.06432935055171508), (4185, 0.06413934342038752), (1543, 0.06411323438072147), (1827, 0.06409768966531773), (182, 0.06388132428972096), (199, 0.0638614137181133), (162, 0.06383512921959236), (1743, 0.0637504522204888), (2818, 0.06367019961199395), (1329, 0.0635945813007474), (1278, 0.06359208822508346), (2192, 0.06357774380122028), (3875, 0.06317812553963317), (3763, 0.06297251417984408), (4203, 0.06247063849986612), (1192, 0.06216095116035964), (2202, 0.062087155394781254), (243, 0.06199240881905379), (612, 0.061261298021701355), (1884, 0.06126033203032203), (745, 0.06118173653744692), (2494, 0.06110236192542175), (1412, 0.06097801064588042), (1878, 0.0607783726493286), (865, 0.06066924519927976), (2045, 0.06056849255160878), (3228, 0.060493107632763984), (4495, 0.06031743619859539), (1703, 0.0601941895118856), (840, 0.06018724066529006), (671, 0.060064052426389875), (4596, 0.06003147846118121), (551, 0.059779365907681084), (4001, 0.059422810315439445), (4095, 0.05940888222362091), (2970, 0.05928097735162225), (3101, 0.05914297728143648), (3346, 0.0591258419082441), (1957, 0.05912447726922451), (3983, 0.058768452833878514), (4418, 0.0587344594285866), (3198, 0.058712523003329284), (3738, 0.0584966440850914), (1001, 0.05848737035847029), (2968, 0.05842508347623067), (1879, 0.05836705639085888), (1616, 0.05832581446885016), (1455, 0.05820013765099378), (226, 0.05816987692561601), (3448, 0.058118619008416715), (2246, 0.05796470845516449), (1757, 0.05789272184003337), (1196, 0.05779169640661708), (2031, 0.057642523176343635), (594, 0.05757658046715289), (3299, 0.05719703253446177), (124, 0.05699543149429326), (2099, 0.056708336647360906), (1006, 0.05630511762080917), (3599, 0.05627161863418824), (2740, 0.05612460078933335), (1679, 0.05591896887226612), (1343, 0.05586926576586575), (91, 0.05578127232032873), (2880, 0.055538734494818366), (762, 0.055530086468988826), (963, 0.05545851274959678), (609, 0.055432284949688805), (3215, 0.055183915968924906), (158, 0.05494080574418926), (1390, 0.05491675065350711), (1477, 0.05463118990813969), (4328, 0.05454608038078615), (142, 0.05451597122796678), (2027, 0.05448683857513299), (4576, 0.05448035708053063), (1043, 0.05447256647982293), (4016, 0.05431162757693894), (342, 0.054301441935144995), (2419, 0.05417928158987737), (1702, 0.05400100694532668), (346, 0.05355224888647373), (1113, 0.05354309935125466), (3114, 0.053443626680944226), (269, 0.05344036392486598), (4599, 0.053362076993071675), (1469, 0.0533466384297268), (657, 0.053299373328247523), (763, 0.05319922682167372), (3570, 0.05319137567576759), (2730, 0.05308063174420915), (73, 0.05302108594609503), (2422, 0.05298813923791198), (3648, 0.052681204859480024), (1493, 0.052622537051969044), (3868, 0.05256271347937585), (1997, 0.05256055494415712), (1746, 0.05249891233747904), (4710, 0.05233730408440846), (1463, 0.05228028282700316), (2703, 0.05219846031770157), (4332, 0.052140242535667), (1048, 0.05179931453423314), (1659, 0.05179292925532622), (3536, 0.05172093429824993), (3362, 0.051687890054861525), (3689, 0.05155916852919369), (3188, 0.051471846331516365), (2587, 0.05141777629717508), (867, 0.051371599785668964), (2518, 0.05132780641091135), (472, 0.05131772254628757), (3131, 0.05125676791344459), (3234, 0.05123263680716566), (1694, 0.05122370886205792), (3741, 0.05112553152427145), (2553, 0.05110874538344475), (3444, 0.050897016329340516), (3294, 0.05084374282937501), (952, 0.050807440143447236), (3911, 0.05066719672164777), (1563, 0.05054105521748218), (2377, 0.050507563518694155), (684, 0.050493062153494334), (814, 0.05048566131706774), (2102, 0.05046001851614716), (297, 0.05031894417884035), (2943, 0.050280846164289975), (897, 0.05022618022803086), (701, 0.05013600447372706), (3563, 0.050067559143253525), (852, 0.05003534090007458), (1239, 0.04997829129181902), (2931, 0.04991777242523258), (1935, 0.049889186240166784), (861, 0.049686669645012393), (119, 0.04958248086642231), (1678, 0.049562292235885326), (4700, 0.049421273090903425), (600, 0.04931733747633758), (1936, 0.04926999672398345), (3122, 0.04923980721972286), (1136, 0.04917434472720357), (3821, 0.04914571021604643), (1655, 0.04910049950963279), (1358, 0.049090570364143805), (2765, 0.04906276331782569), (521, 0.04902142856304567), (1487, 0.048931510784974555), (2065, 0.04887039497093902), (582, 0.04881162481948376), (1551, 0.04879709245305224), (3986, 0.048788255386087866), (870, 0.04874140141627234), (1120, 0.04856757087496469), (3219, 0.04856636762610348), (1041, 0.04845034658093626), (4550, 0.04844868990164547), (2560, 0.04835714214844259), (3651, 0.04819892260282316), (2857, 0.04809528917186293), (3205, 0.04805763452015617), (4660, 0.04796258559941117), (669, 0.04794919339973149), (3579, 0.047936093488855185), (1578, 0.04788694159926613), (2724, 0.04787845400797078), (2513, 0.0478455941766506), (508, 0.04778196498262459), (4460, 0.047752117459198454), (2351, 0.04770133782234764), (1208, 0.047667227903272436), (1903, 0.047628845488540156), (752, 0.04759263359084651), (29, 0.0474687242510517), (3638, 0.047361507049247256), (231, 0.04729329932633841), (2865, 0.04719300839236323), (388, 0.04717828715631907), (3907, 0.04710158453424948), (2582, 0.04708356825377627), (4077, 0.0470745435415179), (2665, 0.04706630528567914), (2556, 0.04679154858813162), (4099, 0.04675698901652608), (1640, 0.04666072967797952), (3696, 0.046654185018616734), (2167, 0.046641370476861836), (4634, 0.04663309842387263), (850, 0.04652523215588207), (620, 0.04617769053422323), (60, 0.04610210505753446), (2510, 0.046090252316666185), (2438, 0.04603182750275261), (4652, 0.04596652642375823), (2012, 0.04595902780978738), (2051, 0.04586088674554931), (1060, 0.045800095363268845), (974, 0.04578261268177523), (618, 0.04575570575572132), (2509, 0.04574195870501112), (3386, 0.04569974798289998), (4032, 0.04566947213721135), (4068, 0.04562894005634958), (4650, 0.04549581721279864), (873, 0.045482597937363166), (2285, 0.045475274801094145), (3097, 0.0454407833432868), (3343, 0.04542099772991835), (4192, 0.0453879141074635), (2211, 0.04515828118904082), (413, 0.04510665992931907), (2032, 0.04506531835290818), (3418, 0.044920525811750794), (3903, 0.044830272382941946), (122, 0.04480389096842778), (2963, 0.04477546578826777), (697, 0.04459701443480095), (3891, 0.04450651600507059), (3637, 0.044502148271250146), (1762, 0.044468701345123075), (2431, 0.044463332708229976), (4272, 0.04436951783781143), (2131, 0.04436231275249049), (3311, 0.04428856670305859), (3192, 0.04422379393438269), (3158, 0.04418674191511081), (2738, 0.044122610124783496), (1968, 0.04404950935308447), (1322, 0.043978147689893506), (785, 0.043918807372964386), (555, 0.04388639059174442), (1897, 0.04376527307277453), (2036, 0.0437491915926012), (1155, 0.04369233193240357), (1117, 0.0436635971536037), (1690, 0.04365892075511935), (1071, 0.04365450891936193), (1345, 0.04360150977893595), (1073, 0.043552158755576185), (924, 0.04341914362648826), (0, 0.04340447180702112), (3254, 0.04339685517962693), (3282, 0.04339218352741), (938, 0.043304173817863376), (3200, 0.043237607904208046), (1033, 0.04321407600703418), (3085, 0.043208006690839906), (4419, 0.0431651064778171), (3364, 0.043161899087263395), (1361, 0.043144581274820126), (776, 0.0431239792364393), (3801, 0.04307497831952159), (908, 0.04303646703077877), (1849, 0.04301896635502549), (325, 0.04295054539764231), (3878, 0.04291360508820088), (2972, 0.04284287677027949), (2565, 0.042819246595343696), (125, 0.042800577215577264), (4240, 0.04274403983591985), (3483, 0.04273773657330385), (3931, 0.04269734724555688), (161, 0.042696224683305556), (193, 0.042677311825634584), (1249, 0.042608472805126835), (1716, 0.04260242391078989), (537, 0.042556659838242014), (2562, 0.042525357051207496), (3551, 0.042524527260451195), (4715, 0.04251168757186085), (3445, 0.04240436948257034), (4321, 0.04240426837430146), (808, 0.042385129217801853), (3697, 0.042333925003219114), (173, 0.0423043745585748), (3303, 0.042288655376164885), (202, 0.04226834239309594), (3653, 0.04220720472062484), (1845, 0.042152991163520434), (1475, 0.042079557617216955), (212, 0.04207002773583392), (1014, 0.04206952406510064), (560, 0.04206221807458219), (547, 0.04202654338265429), (2047, 0.04194719345183877), (140, 0.04191060344236962), (48, 0.04185628635176013), (1467, 0.041812202852319534), (3090, 0.04176664974559522), (4142, 0.04174453265705961), (4440, 0.04174442055135341), (983, 0.0417157843149728), (2335, 0.04169882917496027), (2411, 0.04155413705967734), (4059, 0.04152010192101273), (1860, 0.04151172850486339), (1442, 0.04145529453368378), (2843, 0.04140595905247517), (2330, 0.041398681599798856), (3317, 0.0413956927484654), (2109, 0.041385409545283934), (3955, 0.041334807161400186), (2924, 0.04131328859048578), (2189, 0.041287999040112024), (2983, 0.041200010084300756), (4687, 0.04119790191845088), (1942, 0.04106691430084655), (1733, 0.0409951943069048), (4732, 0.040911459473292805), (1121, 0.04090668631469627), (2187, 0.04088400940084984), (4259, 0.04076264005929946), (195, 0.04071974926729606), (1950, 0.04071592324159161), (4295, 0.04067186603054829), (757, 0.040657429329976964), (561, 0.040649539691302305), (3420, 0.04062192722578907), (2608, 0.04044172209242504), (3992, 0.04026725551812143), (2376, 0.04026651066053973), (4446, 0.040256746479088334), (4155, 0.04025182976570845), (4197, 0.040245520422295344), (2844, 0.0401566552717952), (253, 0.04012235120249229), (2190, 0.04005822815713385), (1420, 0.040043514465152225), (496, 0.0400003135834123), (3654, 0.039951153259552896), (464, 0.03989861185355614), (3561, 0.039872253929247266), (1568, 0.039848772813018477), (2780, 0.0397882381061779), (67, 0.0397848752441256), (3655, 0.03977232115353597), (1026, 0.03973539505933233), (971, 0.03970813779659187), (1162, 0.039612674534085), (1824, 0.03959863849720188), (3837, 0.03949933935983627), (3978, 0.03949326506046074), (2309, 0.03933090782253815), (566, 0.039307422634966886), (3646, 0.03929364730240213), (2079, 0.03928164956383499), (33, 0.03923705197836627), (410, 0.039198438999616336), (4748, 0.03916600592569956), (4054, 0.038912378495141155), (324, 0.038833648604369), (85, 0.03883139876548987), (2421, 0.038796566770533704), (4348, 0.038746822604858296), (1911, 0.03872150894492575), (1215, 0.03870908160072192), (4420, 0.038695916383800495), (1500, 0.03867114788080894), (131, 0.03857795087290787), (3740, 0.038576155094599024), (1902, 0.03857305249561944), (1782, 0.03853566745692566), (1314, 0.03851762997555712), (955, 0.03849041916207152), (1419, 0.03847291218177293), (1656, 0.03836103488832758), (2416, 0.03833421850508577), (1254, 0.03830014763940908), (4128, 0.03828679912123097), (3518, 0.0382602130798149), (2572, 0.038236455574003354), (743, 0.03818835214988517), (866, 0.03816979697377452), (272, 0.0380689838687311), (263, 0.03804908912340312), (3884, 0.03798894935071297), (3, 0.037964635317508946), (3492, 0.037940531867750114), (4074, 0.03791709052488761), (1572, 0.03790136848881541), (1340, 0.03782550903120762), (1317, 0.037818587899620594), (3956, 0.03779307029295904), (2799, 0.03774026107443561), (2145, 0.037732010926765036), (1867, 0.03772109818827982), (3111, 0.03771017253960874), (823, 0.03763532062053976), (407, 0.03759288077756586), (106, 0.03754204056671817), (838, 0.037533589295537545), (4047, 0.037504768931172563), (274, 0.037490036574303), (1172, 0.03743201172382847), (4463, 0.037428343304456185), (2774, 0.037372465365928864), (2000, 0.037336212442749636), (1920, 0.037321821260803384), (3848, 0.037315890935727465), (3735, 0.03731305962407246), (4474, 0.03730630624950709), (1497, 0.037263681776165625), (1850, 0.03726274418047413), (4568, 0.03724386931926625), (1108, 0.03724200839674428), (3460, 0.03723604079976124), (4558, 0.037215089599882886), (4335, 0.03718322598298087), (1476, 0.03717966824850879), (3745, 0.037144496344844194), (184, 0.03710196920634966), (2637, 0.036944646220552345), (1380, 0.03692171752446422), (2906, 0.036919475267984926), (1257, 0.03682492417081745), (3194, 0.036775913938972726), (287, 0.036724669699078866), (377, 0.036703722033329785), (4224, 0.03668946310054259), (1538, 0.036638714036292465), (3550, 0.0366208441480661), (3412, 0.03658209685165437), (1436, 0.0365361073058285), (449, 0.036506368152235194), (330, 0.036481002365768345), (4712, 0.03647825502213857), (2987, 0.03645357757027119), (2550, 0.03635787228347966), (4403, 0.03633176974980065), (659, 0.036293605576056945), (273, 0.0362802683673573), (3416, 0.03627778043362607), (1158, 0.036257977504592066), (1698, 0.03625739825797913), (3565, 0.0362201591513559), (57, 0.0361844116851923), (4441, 0.03617378053925789), (2124, 0.03613681401522745), (3015, 0.03612127668843082), (2625, 0.036104588369340544), (1615, 0.03609644850187075), (2675, 0.036072281323338826), (1701, 0.036041717451826764), (347, 0.036038661188567946), (853, 0.03603696773010957), (2660, 0.035995550362510696), (1012, 0.035971668186259353), (1279, 0.03596991256494528), (2474, 0.03594603730268248), (1465, 0.03590751229522475), (4253, 0.035887595067193995), (3316, 0.03585302325663964), (3265, 0.03583353337817022), (454, 0.03580344286220276), (1408, 0.035740935633747146), (2635, 0.03571570883642646), (3497, 0.03567474525642395), (755, 0.03566381445429602), (1148, 0.0356517017859781), (4449, 0.03562734769097217), (4414, 0.03561854592600035), (4234, 0.0356065920484191), (3424, 0.03560068196231682), (2944, 0.03559800012946103), (2867, 0.03559510084175872), (4692, 0.03558196524053152), (479, 0.03558078799665107), (4258, 0.03556863491301099), (1443, 0.035483078024716355), (3915, 0.035464656396047546), (2732, 0.035461855445170457), (2114, 0.03544796289043616), (553, 0.0354292008560471), (639, 0.035411002986100074), (1299, 0.035396830544398704), (3722, 0.035379676501324064), (452, 0.03528782805814347), (2239, 0.03527287257668023), (4056, 0.03523984305481848), (2605, 0.03519948715941078), (597, 0.03518273202065166), (575, 0.03517997815369763), (2254, 0.0350377406977613), (4125, 0.03502177345546738), (485, 0.03499055959878367), (4006, 0.03498844540960522), (688, 0.03497925572665644), (4025, 0.03496510020109542), (1960, 0.03496098026306073), (4205, 0.034958781170319406), (411, 0.03495274687923869), (4363, 0.03492102089324253), (984, 0.03490703349774396), (712, 0.03487844448707335), (3287, 0.03485871465760784), (2150, 0.0348469388762939), (1847, 0.034814218111307534), (3235, 0.03480729245530053), (4169, 0.03478038071198364), (2262, 0.03475484922659785), (1118, 0.03474412538332013), (1494, 0.034720608303204926), (622, 0.034694555262328626), (623, 0.03467804397845696), (4204, 0.03462966253276315), (2264, 0.03461504073589323), (665, 0.0346049724484912), (2005, 0.034563531354919456), (4655, 0.03455367700397959), (2138, 0.03454728497814036), (1518, 0.03454310061627255), (1106, 0.034519557131254854), (2229, 0.03450758561372207), (3786, 0.034462109731940374), (4323, 0.034385290246823394), (4384, 0.034373313705011094), (1344, 0.034345126993659325), (528, 0.03433392451223029), (3736, 0.034315325961080674), (2261, 0.03427933181132239), (2896, 0.03424193660936821), (1582, 0.034199420962742255), (2113, 0.034195453280749084), (4356, 0.03412915217672316), (3709, 0.034122487493747744), (2712, 0.0341203928401688), (4299, 0.034085696372582144), (2253, 0.034080735291155934), (1769, 0.034074784853599875), (934, 0.03405842642180816), (4147, 0.03397966261523928), (1224, 0.03397954817582659), (4201, 0.03396594610853704), (2904, 0.03396069157261895), (2405, 0.0339591572713843), (3353, 0.033945211661710314), (822, 0.03386212899488032), (774, 0.03383131055303904), (2123, 0.03379596795615474), (2396, 0.033763630262748125), (3428, 0.03372600344480769), (2636, 0.03371948540871586), (2256, 0.03370775536694994), (4082, 0.03370619053490613), (2584, 0.03369212138850054), (616, 0.03363774849259518), (1717, 0.033627018456847776), (44, 0.0336007829750364), (993, 0.03358734441647533), (4061, 0.03356062278681611), (2990, 0.03355771370108299), (3121, 0.033542884759385216), (1586, 0.03353512342915067), (509, 0.0334843349790057), (2734, 0.03348265793716937), (3000, 0.033430417408691335), (1940, 0.0334242405735141), (759, 0.0334121361896014), (328, 0.0334019959899306), (2175, 0.03339143664721929), (1981, 0.033374045118015117), (35, 0.03336634877639059), (134, 0.03334785682022058), (1109, 0.03330548786355629), (3530, 0.03326873891970197), (3606, 0.033189631305029096), (3948, 0.0331695759551916), (2313, 0.03314970319938874), (4004, 0.033112690372928834), (2982, 0.03311140381808865), (3792, 0.033103325948850244), (1049, 0.03309058548418735), (663, 0.03297910683939815), (1706, 0.032948465491816535), (4304, 0.032936448882395136), (3506, 0.03287605469714004), (3804, 0.032810459965497904), (2585, 0.03274298252762617), (238, 0.032712607032009254), (940, 0.03266692020012919), (3604, 0.03259134894718098), (69, 0.032580902000564495), (2029, 0.03255173561282404), (1093, 0.03252388998542972), (4537, 0.03244929877782073), (4060, 0.03243942499207832), (4688, 0.032414039500927944), (2296, 0.03240636189054451), (1891, 0.03236778337843575), (2280, 0.03233779822620732), (490, 0.03233210875263581), (247, 0.03228376275944419), (466, 0.032280359818606455), (1913, 0.03221243433435203), (880, 0.032182224307383836), (1910, 0.032170295121139295), (1216, 0.03216569408816029), (4699, 0.03216164830832056), (3173, 0.03215526907975882), (2644, 0.0320846913747454), (788, 0.032055563242257556), (3519, 0.03203274741109628), (4020, 0.032032198201749296), (2754, 0.031956606275204004), (1785, 0.031906872338700557), (2380, 0.031883174713778), (75, 0.031857232702209505), (1509, 0.03184085383099471), (2485, 0.03183629488266656), (995, 0.03183180503015711), (3591, 0.031813023128942394), (4373, 0.03180125687979387), (1472, 0.031790465421972836), (1575, 0.031771187599488444), (3834, 0.031748889362881956), (4621, 0.031729337754041735), (2270, 0.031707437600237136), (1235, 0.031704497494448564), (423, 0.031699320240934324), (1245, 0.03164985910183667), (3879, 0.031648982220384564), (49, 0.031642116246461655), (2704, 0.031628762241874595), (2469, 0.03160316635865363), (167, 0.031542869439726555), (3583, 0.0315116141203238), (2323, 0.031509307925682385), (3819, 0.031481247448100574), (1205, 0.031466544844949616), (3232, 0.03146211229325455), (1990, 0.03145963573210976), (719, 0.031443283255491755), (82, 0.03142926261520507), (3732, 0.03141510303860153), (4409, 0.0313894784940212), (3098, 0.03136665033817236), (1483, 0.031331357356065244), (3816, 0.03131818881443981), (3077, 0.031297909718418046), (1636, 0.03128483142856704), (2543, 0.03127908170372348), (2240, 0.031260829981381875), (4410, 0.031227126862730825), (3456, 0.03117269551494408), (3703, 0.03116798783819524), (2526, 0.031080883744290796), (2221, 0.031067327645578083), (2822, 0.03105571912413876), (4033, 0.03102978996068811), (1943, 0.031006322517710475), (1670, 0.03095742431276753), (2216, 0.03094644319761395), (707, 0.0308664621062618), (4433, 0.030854179396081635), (1319, 0.030831159899132442), (1256, 0.03082254575782649), (4090, 0.030816253446587276), (1932, 0.030811702163168503), (756, 0.03074195975754916), (2482, 0.030733177927970534), (1367, 0.030645901749770593), (4690, 0.03061421178318359), (2236, 0.03058317127556468), (2668, 0.03051434789576357), (2149, 0.030507444032398762), (3662, 0.03046605901890689), (4206, 0.030466029228578443), (1709, 0.03046143425196303), (944, 0.03042036509095042), (2037, 0.03039214077586885), (4675, 0.03036671922799937), (399, 0.030254650383061056), (2320, 0.0302132536266324), (1334, 0.030193970756649986), (4697, 0.030166372759497708), (4614, 0.030160954035712527), (4734, 0.030158214203107603), (136, 0.030151865487416888), (3963, 0.03013662944286142), (71, 0.030132585559649473), (2798, 0.03011526391256159), (266, 0.030114663208378814), (1413, 0.030097777897170084), (1062, 0.030088324728696346), (1948, 0.030063498318672617), (731, 0.030060404987916695), (2814, 0.030030517414030736), (1951, 0.029991002361054307), (3876, 0.02997155871214368), (881, 0.029920108389393234), (2203, 0.029868679955907626), (2951, 0.029809039902082758), (4171, 0.02977734023500144), (1982, 0.0297622870166785), (4506, 0.029761975308711774), (1729, 0.02973263328324611), (4424, 0.029722340443723957), (2472, 0.0296671859210757), (1506, 0.029573915180111675), (1869, 0.029562288654405394), (181, 0.029475359983717222), (4214, 0.029470936288541316), (3432, 0.02945551566367495), (4757, 0.02943226403354704), (2043, 0.029424537735714913), (214, 0.029300489124730728), (3001, 0.02929432978377096), (1821, 0.02928406752103447), (2191, 0.029282206444947417), (2539, 0.029271672635107146), (467, 0.02925022862241845), (935, 0.029229324262948934), (1799, 0.02921923200360859), (635, 0.02912677621640912), (2188, 0.029118990370041353), (1818, 0.02911563201569763), (3965, 0.02911095857384468), (1594, 0.029098328794414662), (4195, 0.029077516372245104), (1977, 0.029070949398668326), (3890, 0.02905858048484368), (2656, 0.029053778146205227), (3515, 0.029005209969399058), (1462, 0.028962413942586706), (3481, 0.02896037846129613), (2632, 0.028959414574077184), (183, 0.02895655544323677), (4282, 0.0289270582343961), (806, 0.028923015374762585), (2160, 0.02891172645783252), (910, 0.02890483883936989), (1677, 0.02887147223265859), (2729, 0.028866836105250655), (4677, 0.028810851693948255), (3953, 0.028729955685025843), (341, 0.028725436273491795), (1675, 0.028628182678816488), (4630, 0.028626485793727115), (1002, 0.028618137989380735), (390, 0.028559343188453833), (1605, 0.028526815671250566), (520, 0.028523248624176347), (4658, 0.028511244940871424), (1812, 0.02849885249611675), (3226, 0.028388524950805752), (4073, 0.028358346489445206), (367, 0.028330578108839648), (3509, 0.028320122981784907), (1204, 0.028313803923283625), (4637, 0.028312076428271445), (3167, 0.028278211173466544), (3531, 0.02822024099247547), (1395, 0.0281803353652271), (962, 0.028120778357588187), (2695, 0.02806139928205583), (523, 0.028044237598242337), (3569, 0.02799419447699539), (4532, 0.027957260359271492), (1396, 0.027899595845027922), (155, 0.02789841150584753), (2006, 0.027839982855207793), (847, 0.027774759906808614), (4378, 0.02777248088919156), (127, 0.02775505680574472), (2058, 0.02772667211783946), (3100, 0.027717627817710172), (1471, 0.02771228009878253), (2654, 0.02767230178819293), (2690, 0.027628656386455144), (3447, 0.027621719348234854), (768, 0.027602927164548013), (3906, 0.027574918898410194), (3977, 0.02756974603455796), (249, 0.027559663738773246), (2345, 0.02755774112715425), (4543, 0.027545723607812087), (1650, 0.027499927912319828), (4390, 0.02746975759423927), (3940, 0.02740579880599456), (653, 0.027341525983007285), (3774, 0.02733452642464214), (2412, 0.02728654731906605), (3398, 0.027263315541319416), (1111, 0.027262157132573878), (691, 0.02723954216152274), (3498, 0.027235323903006956), (2445, 0.027219160472167506), (3822, 0.027195678978778493), (824, 0.0271324831280724), (827, 0.02713019003124791), (1944, 0.027113008255690844), (2436, 0.027070764349925797), (3853, 0.02700315581560788), (4405, 0.026967640223662923), (3458, 0.026814187487563507), (428, 0.026774919325573993), (1579, 0.026739205040385895), (2697, 0.026730125666693083), (1731, 0.026725912613137948), (1499, 0.026709294448090806), (293, 0.026670000300613853), (1744, 0.026622154896560585), (2038, 0.026622041081316685), (1365, 0.026536702400205826), (1366, 0.02653177228038822), (3921, 0.02651583329558005), (1714, 0.02647404457209782), (506, 0.026454539866518075), (1418, 0.02643584303416003), (2516, 0.02641298423978144), (1707, 0.026371491345208095), (775, 0.026311071839354716), (2842, 0.026252231933897856), (121, 0.026198477653752435), (1553, 0.026173629535979924), (1682, 0.026170439472896698), (2492, 0.026152047465497933), (4208, 0.02612869712920009), (1819, 0.026110899715808805), (233, 0.026090167556985105), (3714, 0.026079578371572765), (778, 0.02602560279663349), (1259, 0.026000517464509935), (1304, 0.02599802374224626), (1584, 0.025978976838815313), (37, 0.0259687289540716), (3120, 0.025947920853199143), (4372, 0.02592552272508912), (4015, 0.025922697985650375), (4682, 0.02588680929043169), (2062, 0.025832263031341927), (972, 0.02582788804282389), (3218, 0.025821821873003914), (1959, 0.02580963086458819), (1994, 0.02576410489457852), (2453, 0.025759111055899994), (3063, 0.02572992510881295), (899, 0.02570748304395755), (1764, 0.0257066101423533), (3318, 0.02569058086851447), (4589, 0.025683149513956907), (4459, 0.025665538859602783), (973, 0.025605126061215237), (874, 0.02557505187745075), (2680, 0.025572681943631236), (227, 0.025499344755772542), (2427, 0.02548810702701656), (2163, 0.02543456069782367), (4375, 0.0254333842471922), (2633, 0.025427866291528718), (803, 0.02542504596511182), (251, 0.025418648767430933), (4028, 0.025380246661939034), (2460, 0.025356077915745227), (4344, 0.02535082654403434), (2981, 0.02533393307639026), (3919, 0.025319474618509523), (982, 0.025313249692499748), (2168, 0.025306753681531242), (3409, 0.025301776609023628), (3765, 0.025245658875860895), (1341, 0.02521728018579487), (1539, 0.02520566840469553), (4267, 0.02519628048207284), (3344, 0.025186158865190853), (403, 0.025136576374966135), (1307, 0.02510590713449702), (178, 0.025099616954750457), (3181, 0.025075220770466228), (2001, 0.025053725971795737), (4539, 0.025046489162599318), (3395, 0.024975816283868944), (4354, 0.024959921491431666), (1925, 0.024833057522167912), (4118, 0.02481472968751917), (1919, 0.024792565333994415), (3360, 0.02477207139089127), (568, 0.024743332492831678), (1453, 0.024721247048364002), (2568, 0.024673728237733165), (3527, 0.024663737769143396), (813, 0.02464489693574389), (3636, 0.024588521471038682), (3414, 0.02456264697199316), (3212, 0.024516169825527196), (441, 0.024507091499070988), (3809, 0.024446043165688852), (2193, 0.024441111064375364), (4062, 0.024435130392674476), (4217, 0.024425573552210762), (3751, 0.024375406230229532), (1627, 0.02436627582341776), (418, 0.024340154285534463), (4551, 0.024283957661974796), (994, 0.024247341396076406), (412, 0.024228594762880473), (2996, 0.024147965324584984), (1689, 0.024142688952398458), (2873, 0.02412684349143918), (2339, 0.024126764749795554), (3924, 0.024120842193572543), (4501, 0.024105840027723337), (3825, 0.024087211355306917), (3677, 0.02408623521105251), (2745, 0.02408316842709042), (723, 0.024081641182165235), (4055, 0.024062750009964145), (435, 0.024060910243481427), (3039, 0.024037953686411262), (3466, 0.024031098779413982), (1763, 0.024000657297270377), (720, 0.02397523435379124), (1801, 0.0239387822827716), (4106, 0.023884743737756443), (2578, 0.023860386922863703), (1095, 0.023841654570759038), (3645, 0.023800411606673337), (2035, 0.023743039897926074), (3914, 0.023684891894103742), (4110, 0.023677361128498192), (617, 0.023662776874421892), (400, 0.023640757071011365), (1989, 0.02362409329543512), (1988, 0.023605340092064105), (309, 0.023587965645676896), (2074, 0.023551980835196728), (3323, 0.023548280323909588), (196, 0.023540870851998276), (3951, 0.023539815460511003), (3347, 0.023523304192574156), (2871, 0.023504896076294295), (3110, 0.02349059612519101), (4431, 0.023466508422491414), (277, 0.023450699223296807), (1495, 0.023411126896197773), (1486, 0.02339417509095722), (2443, 0.023381124514844642), (1105, 0.023352855270295264), (74, 0.023336978149253878), (2802, 0.023330680724650693), (3069, 0.023300313777175553), (1583, 0.023272705863909216), (2481, 0.023224093185732556), (4226, 0.02322321773192893), (3246, 0.02321959686798644), (1446, 0.023210747903074206), (159, 0.023210668777762), (455, 0.023169276608843506), (522, 0.023160732243224763), (3152, 0.023142471854035715), (2969, 0.023129907306081807), (283, 0.023105573698135984), (2706, 0.023026619814141808), (4624, 0.023009568040688988), (3661, 0.023008591469170003), (595, 0.022965423064554572), (583, 0.022926004432635576), (2638, 0.022921993280325723), (1517, 0.022910012485024493), (2014, 0.022886850318945752), (4670, 0.022855392283256372), (2303, 0.022843451802880773), (2812, 0.02282617696521794), (1369, 0.022825418838386204), (4257, 0.022816671194413007), (4351, 0.022780471731219387), (177, 0.02274277310658587), (3691, 0.022703730248278247), (3073, 0.02270361875310359), (511, 0.02268620432261522), (3036, 0.022684539639396883), (571, 0.02267784228030746), (1005, 0.02266787307719714), (3752, 0.022664521563135774), (288, 0.02265625628896051), (3541, 0.022584974345046666), (7, 0.0225746136461791), (2616, 0.022499243418799806), (357, 0.02242721929181705), (154, 0.0223962451266392), (3240, 0.02237308722859079), (3238, 0.02236601823781054), (3389, 0.022276043287386155), (2112, 0.022266692192591697), (1718, 0.022266167517356876), (2430, 0.022262678362950795), (3222, 0.02224347217251272), (2061, 0.02222477777584), (1308, 0.02222161422842712), (3271, 0.022208216270106697), (3421, 0.02218946348121096), (3141, 0.02216969931792106), (1668, 0.022155719251195312), (3253, 0.02214543996954957), (3345, 0.022140491501630204), (3022, 0.022062777338104585), (336, 0.02203548566043639), (1191, 0.022029349324760375), (2318, 0.022027511179023414), (4486, 0.022018255387599543), (976, 0.022009211963884393), (4392, 0.021988303067442556), (2816, 0.021979672934810006), (749, 0.02195600078490067), (1700, 0.021930380581782916), (2962, 0.021897520285945323), (780, 0.02189340506080021), (1915, 0.02188385228633273), (3678, 0.02186583478239216), (4388, 0.02184504660712893), (3297, 0.02183976162755743), (4739, 0.02180302912270262), (4359, 0.02178330690558116), (1029, 0.021775587399795442), (3733, 0.021744984896420474), (3223, 0.021719443306473848), (517, 0.021700264509582887), (1893, 0.021678516604380797), (1798, 0.021657737363212783), (3995, 0.02164938036723884), (1666, 0.021638702434518806), (1496, 0.02162345178819633), (1306, 0.021619155106771294), (1425, 0.021609880146140552), (2215, 0.021598980341838995), (727, 0.02155839317041509), (2964, 0.021558097191497667), (4210, 0.021546453455318658), (2487, 0.02152836982061461), (2294, 0.021519489382494816), (1619, 0.021499374199079928), (211, 0.021483719191443314), (1461, 0.021480262651693255), (3698, 0.021427701973322676), (2071, 0.021407479524758105), (1004, 0.021385997738543615), (2418, 0.021384524186547925), (4168, 0.02135640555790327), (1291, 0.02131522810397569), (3264, 0.021302052574753372), (477, 0.021280591183966385), (3926, 0.02127670974851165), (2541, 0.02125632445742177), (2013, 0.02125582419065557), (3033, 0.02123053737945358), (1501, 0.02121568506518155), (3010, 0.021159455842315975), (2022, 0.021157749754820522), (3467, 0.021148542142922853), (1987, 0.021122692398684365), (2640, 0.021108485556716655), (1238, 0.021097767933281778), (4297, 0.02108682121675485), (4119, 0.021078128487712944), (101, 0.02102746773554043), (1986, 0.021008357634059525), (338, 0.020994249720323474), (798, 0.020940035352084233), (1843, 0.02087582960407351), (221, 0.020862880527326204), (4374, 0.020828961032103147), (2224, 0.02082169397910185), (911, 0.02078825917411306), (3066, 0.020754370610857498), (631, 0.020742892814749163), (4399, 0.020737538139154153), (898, 0.020729389627302097), (2977, 0.02065648986498907), (3397, 0.020651144829706418), (4189, 0.020635956601475318), (787, 0.02061519617784011), (1077, 0.020610233649129096), (3633, 0.020608962349384464), (2933, 0.020569103890490454), (1401, 0.020563555912769746), (1267, 0.020535188165052082), (4524, 0.020520542774896944), (3643, 0.020494912377015236), (353, 0.020489451364651284), (2834, 0.020479199241352677), (2056, 0.020470155732104242), (3998, 0.02046522110019801), (4564, 0.020453647864953524), (175, 0.020452135263835387), (2277, 0.02045034070202508), (372, 0.020445089587600232), (1312, 0.02043986317113646), (2252, 0.0204333157665678), (3577, 0.020400027859723342), (1985, 0.02038545744892887), (864, 0.020385371948079142), (4312, 0.0203752948290072), (209, 0.02035695717907285), (163, 0.020332026319486413), (62, 0.02032079751930562), (104, 0.020301566392837603), (1526, 0.02029955974779585), (225, 0.02021302643244454), (1359, 0.02018550795984969), (3384, 0.020160054419677328), (524, 0.02012977834532822), (280, 0.02012145743948308), (79, 0.02011129881060471), (4265, 0.020070474804742278), (4511, 0.020065489467278243), (689, 0.020063554593861836), (220, 0.020049818235816277), (862, 0.020046875507591533), (25, 0.0200354075162654), (1571, 0.020024851650566017), (1422, 0.02001216011364749), (3973, 0.020000350849859294), (3237, 0.019926216001825377), (1503, 0.01989483515120227), (794, 0.019890901617963766), (3252, 0.019881324994163223), (3144, 0.01986407114437752), (1964, 0.019835356531034215), (2463, 0.019830387836276487), (2338, 0.019824938071944367), (3909, 0.019819169682013124), (4685, 0.019806560934912038), (1807, 0.019788428085749894), (3046, 0.0197867994675123), (981, 0.01975460688998669), (3027, 0.019745454125087), (2874, 0.019715473600147432), (916, 0.01968331004816214), (3327, 0.019681939729310486), (156, 0.01967592165178282), (2698, 0.019655796089863807), (2103, 0.019644166232188426), (3743, 0.019622725580640054), (1781, 0.019579390556466313), (292, 0.019573325553249817), (643, 0.019549345449417027), (2808, 0.019548432157640596), (3756, 0.019516876297646906), (685, 0.019481531491877785), (821, 0.0194547369369446), (3826, 0.019394972667615154), (3690, 0.019380886164974867), (1608, 0.01936854939906043), (782, 0.01935879901901043), (2017, 0.01935432805062558), (2720, 0.01934669186343352), (3504, 0.019323306233190875), (1214, 0.019295304546382813), (4679, 0.01929120771892578), (2237, 0.01925446866043016), (356, 0.019243288294176947), (726, 0.01924091164046038), (3403, 0.01922436233985292), (1173, 0.019223766549673223), (3151, 0.019217361106193286), (3784, 0.019202484027341305), (3508, 0.019164750998514897), (1522, 0.01915064074934392), (2859, 0.01912658778849579), (1710, 0.019110195737714303), (966, 0.01904801653824116), (39, 0.019042444380797087), (664, 0.019041648755073293), (3866, 0.01902758375567376), (2793, 0.019020624127324515), (3211, 0.018998504839253853), (733, 0.018985514599021744), (165, 0.018968712459928053), (4070, 0.018968093300118262), (135, 0.018948292212779078), (1793, 0.018908584308275505), (460, 0.01887645197767067), (1206, 0.01885913134673469), (259, 0.018856014257923537), (319, 0.018854625867498136), (3399, 0.01884802940438142), (416, 0.018834825648483128), (1691, 0.018722887211406018), (1293, 0.018717852892347515), (3142, 0.01870495171278701), (2498, 0.0186804278123144), (530, 0.01866833684892019), (1459, 0.018667282113956976), (2777, 0.018667068533154477), (932, 0.018666631303274433), (1780, 0.018594848568395515), (1194, 0.01855968172213823), (3454, 0.018551048460162877), (4436, 0.01854271165064137), (4649, 0.018527191245870107), (1875, 0.01852594787715084), (500, 0.01849161147621074), (1376, 0.018491611239435376), (344, 0.018484907115458374), (3969, 0.018463633120137164), (3748, 0.018379528992434477), (3457, 0.01833263147132832), (2287, 0.018306661051034952), (1392, 0.018274250242872467), (86, 0.01826878006633229), (748, 0.018247075727947603), (257, 0.01823154786786614), (1721, 0.01822271797727308), (310, 0.018220842107416025), (1220, 0.018208548986001355), (301, 0.01819011242394352), (2052, 0.018161374089545646), (374, 0.01815944860435988), (1825, 0.01814100270735698), (1305, 0.018140379500905447), (3970, 0.018138208619279027), (4695, 0.018122611840614016), (1755, 0.01804645833604195), (1241, 0.018038690515365448), (1630, 0.017994556412604792), (3164, 0.01798907508637617), (1464, 0.01797428623662261), (970, 0.017947605634244402), (358, 0.01790074432727422), (2691, 0.01789042824386515), (1841, 0.017885147629017994), (329, 0.01785486196250903), (3823, 0.0178310249173295), (1195, 0.01782491827016162), (1451, 0.0178137047462363), (615, 0.01781304973165409), (1907, 0.017768227251485608), (4467, 0.017762622962106338), (137, 0.017704212158676864), (3667, 0.01770097526429989), (1537, 0.01767299715004419), (2940, 0.017643436767974228), (4674, 0.01762378225718735), (1297, 0.017590176096445597), (1310, 0.01757624695450754), (2841, 0.017552708877202054), (1823, 0.01754651424174923), (1266, 0.017543665431694846), (1250, 0.017526648418901676), (1354, 0.017494665961983034), (306, 0.017473161924656786), (3711, 0.01747306693518024), (1066, 0.017466457458997813), (437, 0.017464386120470816), (2942, 0.017457189463834788), (2755, 0.017454801845525707), (83, 0.01742562886058128), (2766, 0.017411158606636314), (2769, 0.0173962390278713), (2791, 0.017392527027744725), (1270, 0.017386038615618438), (569, 0.017376662269123443), (3429, 0.017355710568981195), (1515, 0.01730804509975831), (1908, 0.017287386106198916), (3150, 0.017270868421191455), (1888, 0.017264918558345083), (2070, 0.017255927746252193), (1660, 0.01724712486002264), (1039, 0.01724105452739753), (4448, 0.0172389359750806), (2198, 0.017228760486575484), (890, 0.017215810404486772), (1374, 0.017208427999714875), (2531, 0.017203352229192587), (1695, 0.01719373695383499), (1851, 0.017185274310279525), (2546, 0.017184141540245182), (170, 0.017183042898501814), (1262, 0.017150162455404596), (3594, 0.01712806277013673), (4290, 0.01711654670432569), (699, 0.017054587631505438), (2503, 0.017051954022087243), (2480, 0.01704820121710328), (948, 0.01703450952063343), (2868, 0.017028588291544588), (1817, 0.017019274273032143), (3558, 0.01699229001203728), (2403, 0.016986923285591475), (1164, 0.016979361337350646), (1852, 0.016957499810850152), (191, 0.01692067512940415), (2581, 0.0169059626965978), (3201, 0.01690401796849943), (3526, 0.016893193374613827), (3283, 0.0168136891864899), (465, 0.016803452212249492), (3927, 0.016791974776442536), (4135, 0.016741222711470855), (2363, 0.01671890378111726), (2688, 0.016707319214564413), (3739, 0.016688563862008576), (2563, 0.01668501447262953), (968, 0.016672744156776383), (3957, 0.016628565409314795), (1146, 0.016626833308242907), (228, 0.0166184687015162), (504, 0.016606845461385893), (4012, 0.016587490094249823), (2673, 0.016575864909133414), (1170, 0.0165256331613705), (3665, 0.01646780314980036), (4141, 0.0164105575841111), (2209, 0.016408255445084324), (1648, 0.016386633635467766), (4394, 0.0163801940705813), (3477, 0.016368370216267483), (4444, 0.01632258056351455), (2726, 0.01632185276467387), (1658, 0.016317487187382546), (1411, 0.016311772665745745), (2177, 0.016303933580127657), (252, 0.0163033830429779), (3129, 0.016293553902601645), (2094, 0.01627254109102788), (978, 0.01625643843506698), (2809, 0.01625055093252812), (2049, 0.016248367619529525), (368, 0.016239246957378252), (169, 0.016218119219182883), (215, 0.016216991602950592), (3260, 0.016195683413291154), (3566, 0.01615277615688647), (1723, 0.0161428657632878), (317, 0.016116370187403358), (1144, 0.01608422489181723), (4395, 0.016058828310417144), (2645, 0.01603608206557116), (1662, 0.016026964940406514), (4442, 0.01601119613142225), (3610, 0.015978633814043568), (3641, 0.015942198291480015), (904, 0.015925531481646882), (9, 0.015913252664049513), (2642, 0.01590386692312992), (1068, 0.015902852328720754), (1597, 0.015901106925315642), (153, 0.015900717078892575), (4009, 0.015888838004440072), (640, 0.015876301597206342), (4342, 0.015845994810306192), (1816, 0.01584305153727082), (929, 0.015828768364249353), (4031, 0.015815034629946025), (4371, 0.015804859840706707), (883, 0.015768407127943865), (3728, 0.015760415696817482), (3172, 0.01575306301379447), (1877, 0.01575175416998894), (354, 0.015736568290905514), (469, 0.015672604277467587), (1758, 0.015644198978496095), (738, 0.015623017082749591), (4454, 0.015608026416455884), (4052, 0.015576809831941887), (1321, 0.01557031820564703), (1809, 0.01554085380164166), (3858, 0.015513925801304432), (4612, 0.015512156346535435), (507, 0.015499692535866765), (4541, 0.015487970608869467), (4242, 0.01548002333796872), (3071, 0.01546143212408909), (38, 0.015460904388869316), (3571, 0.015458980626387547), (279, 0.015453253600508733), (113, 0.015447494054466982), (2486, 0.015446401030256077), (327, 0.015425796273665353), (4121, 0.015387305544171954), (2601, 0.015370728193763311), (906, 0.01536293946929082), (2929, 0.015336715567587427), (2446, 0.015331708902231558), (789, 0.015304632055877199), (1928, 0.015294913368894282), (4057, 0.015284714887538048), (1124, 0.015280080742270458), (2744, 0.015274866315009414), (1382, 0.015212831107584103), (4174, 0.015193435908695797), (907, 0.015180101085242164), (2672, 0.015163716417528617), (4108, 0.015138208734137692), (3221, 0.015131488848488025), (3309, 0.015094005688064214), (2954, 0.015072371488978737), (433, 0.015055669100376656), (2218, 0.01504046001799217), (3681, 0.01501860132991227), (687, 0.015009802234480889), (4064, 0.015008110259080987), (1018, 0.01499536863884007), (1168, 0.014962940810864155), (1719, 0.014897560035237562), (885, 0.014806085022870844), (3730, 0.014789188978592894), (4158, 0.014764989411880956), (2458, 0.014743387558773972), (844, 0.014734380259482812), (2291, 0.014732425022112815), (1021, 0.014680755960096874), (4594, 0.014676826626756716), (2020, 0.014668075861749185), (3731, 0.01466481602678783), (1394, 0.014624924346894913), (1246, 0.014615272150213094), (527, 0.014571066894830169), (174, 0.0145579304636386), (4477, 0.014557437521735552), (4492, 0.014533139633934065), (1520, 0.014522993634979628), (2917, 0.0144973060150584), (3450, 0.014471610357872564), (4002, 0.01447086263827485), (1282, 0.014463444166227133), (78, 0.01445469985035499), (2817, 0.01442593715644026), (3328, 0.01442270654655737), (3461, 0.014420903050600033), (2087, 0.014415272637283176), (2086, 0.014409010325458292), (3230, 0.014385512887192892), (448, 0.014382502203740682), (4473, 0.014376594609863675), (392, 0.014370896974468706), (361, 0.014361128191836964), (2147, 0.014360011307067858), (3464, 0.014338216514976444), (3713, 0.014337117126395696), (614, 0.014296615371551635), (2789, 0.01429359121992271), (3259, 0.01426780265436119), (3277, 0.014245193279649345), (2653, 0.014222436765729495), (1336, 0.014205311747232469), (3393, 0.014196989277753567), (1715, 0.014156890946885076), (1881, 0.014150376821590668), (3870, 0.014143649423882255), (3018, 0.014128570198115281), (3960, 0.014126344965423475), (1887, 0.01412071751860683), (3378, 0.014117313298506035), (1047, 0.01409553616903381), (1613, 0.014072146211270307), (2241, 0.014068323454341846), (683, 0.014066999022029725), (1349, 0.014039808630686603), (3587, 0.014036391022225021), (4368, 0.014023673897347629), (2511, 0.014023059403056452), (1790, 0.014019338245778442), (3855, 0.014006469317873612), (3930, 0.014006163031187178), (3549, 0.013991541942435536), (2222, 0.013974057691702735), (3239, 0.013958422936719091), (807, 0.013954419095730343), (1858, 0.01394271173796108), (1961, 0.013937225539332656), (2076, 0.013922062721303332), (197, 0.013916224171970411), (2840, 0.013897416130870468), (1726, 0.013882860223964056), (3877, 0.013873442668578265), (1525, 0.01387117184269366), (1564, 0.013855838513505775), (3857, 0.013839827573323138), (2854, 0.013838594007154946), (110, 0.013826830795923395), (4531, 0.013809188218905501), (2444, 0.0137999628164731), (296, 0.013794604628612617), (1587, 0.013771243077333356), (4603, 0.013748046212443216), (3430, 0.013739972616829129), (28, 0.013735983142827084), (371, 0.013711416422313938), (3256, 0.013708943363210798), (3650, 0.013708293004239754), (945, 0.013698830842211875), (2154, 0.013695212923299246), (1751, 0.013687878440153883), (2739, 0.013674309428122693), (1577, 0.01364698173662012), (123, 0.013632753287141482), (736, 0.013619592284913117), (529, 0.013612497408666819), (4719, 0.013605450665538088), (3839, 0.013594306016977873), (675, 0.013588633827203093), (1804, 0.013569941866551884), (4013, 0.013566153082853576), (3516, 0.013551672652711828), (264, 0.0135474998038387), (3767, 0.013538802700957333), (2306, 0.01352732552753679), (931, 0.013519539222854603), (3832, 0.013515818991931772), (168, 0.01351482371317815), (2046, 0.013512014323822957), (4635, 0.013487376599047324), (4592, 0.013486985562300973), (192, 0.013476904343013268), (3329, 0.013474010042800234), (1022, 0.013467002332713465), (525, 0.013456447585054352), (3270, 0.013440911732574414), (3818, 0.013416538441382757), (2265, 0.013379894115275546), (4269, 0.01336556734455829), (1447, 0.013344106227043094), (1140, 0.013341771520017452), (2619, 0.013332683791636412), (4038, 0.013321331489336676), (12, 0.013306343171113238), (3780, 0.013304371337974373), (2128, 0.013303750812351332), (3644, 0.01329210827618868), (2609, 0.013290649075930758), (2807, 0.013272317021579874), (2329, 0.013269877252244424), (1130, 0.013256852216920429), (792, 0.013254587327651222), (680, 0.013251537847538672), (4218, 0.013233423601519492), (1896, 0.013218793408957409), (2504, 0.013208975043242473), (3618, 0.013207974922483243), (4112, 0.013205453583057213), (510, 0.013194750717669379), (40, 0.013192118597808085), (2322, 0.013178492273245745), (3777, 0.0131653643021884), (3538, 0.013162203038718425), (483, 0.013156226841955306), (345, 0.013112054781068055), (1373, 0.013106757535309427), (3127, 0.013104649933515842), (773, 0.013087541473942949), (2003, 0.013070195103818842), (1368, 0.01305319789518595), (3149, 0.013049494386639543), (3137, 0.013039909071905515), (402, 0.01303407682011576), (3562, 0.013031240867698236), (4252, 0.01301657314995365), (585, 0.013014625723537863), (4629, 0.012998686276427009), (717, 0.012994230040375759), (3886, 0.01299271198994488), (4136, 0.012980532873192941), (427, 0.012976665805389039), (1019, 0.012972045674550438), (2911, 0.012968252677920317), (2829, 0.012961746902687546), (588, 0.01294804796265788), (3778, 0.012942979805425591), (4262, 0.012936422647476343), (2016, 0.012935572103572468), (2897, 0.012922365138496827), (216, 0.012918261226472811), (2072, 0.01291169937957398), (4379, 0.012910272368901948), (3920, 0.012906636389293506), (3959, 0.01290579984566895), (11, 0.012903354399879264), (498, 0.01289770727642341), (2409, 0.012885205038052228), (2101, 0.012869434052895132), (363, 0.012850738242603646), (2126, 0.012850362367177836), (2631, 0.012847715171407096), (1738, 0.012843322391534542), (2334, 0.012825258419288702), (3233, 0.012818862892733141), (3712, 0.01281518788273656), (1768, 0.012811153937531173), (3701, 0.012774341637309776), (1895, 0.012744461051035386), (2784, 0.012736069503383138), (1973, 0.012726815941098108), (2311, 0.012726389335381944), (949, 0.012717598777211177), (1914, 0.012714756140242617), (4554, 0.01270945388201484), (3320, 0.012706599997653003), (4283, 0.012701545797758399), (832, 0.012669639987852867), (2210, 0.012668958792078144), (3626, 0.012664364151406322), (4556, 0.01266223530139996), (484, 0.01264079999055595), (1833, 0.012620383554902356), (2647, 0.012620356652162597), (2327, 0.012613574265092872), (1778, 0.012601285238996597), (690, 0.012587356106780228), (3524, 0.012579614377237527), (3083, 0.01257645251679974), (4137, 0.012574882324065362), (1574, 0.012574307022055033), (2615, 0.012567398217134457), (4503, 0.012566783935705228), (417, 0.012566575806063863), (2893, 0.012555158546648924), (1737, 0.012544742550168669), (2169, 0.012541054015135458), (4686, 0.012536475286648462), (4604, 0.012527814077561868), (3125, 0.01252205604549587), (2417, 0.01251863372182121), (3094, 0.012510408686061032), (3491, 0.012509427169822314), (3564, 0.01250885255043617), (1223, 0.012508704048782593), (2497, 0.012494904859054082), (2547, 0.01248670586357898), (2491, 0.012473415559527756), (4330, 0.012467457509798326), (3612, 0.012465273029786374), (1179, 0.012458780654803223), (2666, 0.012436701093787516), (1984, 0.01243451233137355), (2250, 0.012433611827315916), (2524, 0.012431321650059382), (2195, 0.012427653461719425), (3174, 0.01242724240794802), (2900, 0.012420884301766886), (3330, 0.012418073638006052), (1524, 0.012390478883533661), (4600, 0.01238083166832158), (14, 0.012379694331620561), (1794, 0.012379354464872734), (988, 0.012376493294102082), (4610, 0.012369528003852378), (3374, 0.012366074035294198), (105, 0.01235790774676788), (1277, 0.0123440829352541), (894, 0.01234345580882126), (348, 0.012334849538969368), (1059, 0.0123343445834012), (3145, 0.012319217570265882), (3295, 0.012311775724178855), (1288, 0.012309418652468502), (769, 0.012297387963284747), (1784, 0.012284857686461299), (1626, 0.012258560005092031), (1338, 0.012255481113365638), (4109, 0.012241298666278443), (3967, 0.012238939039342953), (3423, 0.012233936429065683), (4647, 0.012233626408415734), (4284, 0.012226078363937302), (3557, 0.012219105667427444), (4008, 0.012204941992947579), (2910, 0.012191586478179906), (1617, 0.012164712664962628), (2514, 0.012154592039470806), (1653, 0.012151104675994853), (4387, 0.012149920833797252), (577, 0.012116720313537053), (3231, 0.012114991675457017), (1035, 0.012105075488478065), (2936, 0.012103320020832618), (4646, 0.012089935122918779), (1025, 0.012056012417306567), (4472, 0.01204497963161559), (3028, 0.01204118062536205), (497, 0.012039205739312013), (2571, 0.012038670111284532), (1645, 0.012037590882273151), (2612, 0.012034214937268856), (2268, 0.012034102037685917), (4504, 0.012026262718597537), (1969, 0.012025027301330378), (3632, 0.012020627669643005), (1023, 0.012018434255252581), (1421, 0.012012355938671412), (1548, 0.012002767645815123), (112, 0.011996158626634279), (1468, 0.011991834872296695), (3917, 0.011986383508448472), (3578, 0.011968460854961257), (820, 0.011950581757069263), (2776, 0.011924113552260581), (4523, 0.01191981641662777), (3157, 0.011900656087953028), (854, 0.011891727903374068), (4152, 0.011888334567266463), (545, 0.011884634770309061), (4605, 0.011876378514513806), (2505, 0.011874097582441803), (1273, 0.011858891707789431), (1375, 0.011843031674754742), (644, 0.011836949979677967), (3803, 0.011836785581955472), (4428, 0.01183189713867402), (3797, 0.011831607824992776), (2805, 0.011830398003592863), (2892, 0.011828039353192429), (767, 0.01182008435364997), (2040, 0.011812033240637664), (2151, 0.011804147273959988), (715, 0.011798429179172322), (1074, 0.011796397842027528), (2118, 0.011794727128324519), (1505, 0.011794316253194555), (3293, 0.011793813465002488), (4124, 0.011790413863115313), (1742, 0.011781790654497321), (408, 0.011780830629222173), (1404, 0.011778497881578), (246, 0.011774110187128976), (878, 0.011769110961521886), (4738, 0.01175493756772928), (387, 0.011751728358117894), (4353, 0.011748857313442856), (1644, 0.011746980140557521), (3684, 0.011741159537360435), (2023, 0.011733997891501272), (2525, 0.011733360054350356), (4271, 0.011733201212583571), (456, 0.01172995647089058), (2899, 0.011713381750527692), (3057, 0.011689234896604398), (1521, 0.011684429981122317), (22, 0.011677014094980506), (1669, 0.011667210795319547), (1620, 0.011651287619710205), (2552, 0.011649783827065939), (2915, 0.011627140479785573), (4194, 0.011614042641484473), (1555, 0.011599821897651338), (3342, 0.01157061668089081), (1456, 0.011565700189780778), (1015, 0.011557650336357427), (332, 0.011551518244391018), (1052, 0.011535668152814076), (96, 0.011532508445498097), (2317, 0.011529325912557533), (744, 0.011523300151962484), (3854, 0.011522823613001384), (805, 0.011522556627670622), (4402, 0.011521844229304736), (3288, 0.011506550917648673), (1178, 0.011492731766300144), (590, 0.011484397576111855), (1708, 0.011483635921393714), (3095, 0.011478791017409671), (3502, 0.011477253691210394), (2148, 0.011475401869767433), (2855, 0.011472791037813936), (2204, 0.011468517689733095), (4176, 0.011457605191664087), (829, 0.01144658146459827), (1010, 0.011442598196829145), (2678, 0.011440622110267232), (1712, 0.011428564723455496), (1141, 0.01142613961282946), (3552, 0.011425093244007152), (3306, 0.011423563938951742), (3674, 0.011420075068738956), (2920, 0.011400897618670556), (4367, 0.011396457714157423), (2096, 0.011396180738629944), (1779, 0.01138329987652327), (3658, 0.011368416194827157), (3016, 0.01136577102284587), (208, 0.01135119844342037), (1360, 0.011340554417095645), (1685, 0.011312199143260034), (3182, 0.011278180170554581), (470, 0.01127658030976562), (1595, 0.01127638840071845), (512, 0.011270241753993564), (1075, 0.011263168988265907), (3336, 0.011215436263283458), (1000, 0.011207475204932172), (4143, 0.011200662104491567), (722, 0.011196274480352264), (1327, 0.011183151073167296), (4182, 0.0111818402595901), (1808, 0.011174981673451552), (3841, 0.011174385755724422), (4571, 0.01116254428851313), (482, 0.011159897127997195), (4590, 0.011157666330984709), (2545, 0.011139306479137813), (185, 0.011118162921131604), (3178, 0.011106560335261334), (1488, 0.011099199598380505), (3864, 0.01109807709596347), (491, 0.011085414405433685), (1629, 0.01103668660644795), (2988, 0.011027474923018551), (495, 0.011020848246363447), (3312, 0.011013495153595938), (166, 0.01100456177615261), (1634, 0.010973060339539443), (4281, 0.010959345841864651), (1186, 0.010941083967632168), (97, 0.010934946153166111), (710, 0.010925320035294877), (4437, 0.010919854855403073), (1182, 0.010908640072301265), (406, 0.010908589300685615), (380, 0.010893310780731823), (1301, 0.010886112843590754), (1381, 0.010881493842365092), (2785, 0.010856713772596342), (2111, 0.01084485720368246), (2180, 0.010839174188612582), (4255, 0.010838619174938929), (3244, 0.010773069903121343), (3512, 0.010771896677021185), (424, 0.010766524254931954), (425, 0.010757183097678476), (1876, 0.010753325478008887), (1828, 0.010751704071290565), (958, 0.01074910536670286), (681, 0.010735395108806688), (2761, 0.010722778100714678), (4462, 0.010715705632095998), (2470, 0.010709527711054411), (1011, 0.010708801942441382), (1385, 0.010705350674859858), (2532, 0.010704904438614481), (2831, 0.010704187897106164), (2611, 0.010689997931914604), (2447, 0.01068705475436359), (666, 0.01067026050847006), (109, 0.01065950949676981), (1567, 0.01065304601365966), (1565, 0.010650774272772487), (1612, 0.010646903997599457), (3352, 0.010646850770299109), (3376, 0.010640376986911764), (3469, 0.010618991228349802), (250, 0.01061061708635718), (2426, 0.010600012655682086), (2174, 0.010597983358283818), (3553, 0.01059665305455992), (4555, 0.010587370397525426), (4134, 0.01058587552976532), (1352, 0.010584428778444307), (3596, 0.010581430987447104), (747, 0.010571817030134864), (4120, 0.010569609258360337), (3067, 0.010562441810193463), (1971, 0.010561504090415376), (4515, 0.010551591522173541), (3817, 0.010548189934619473), (3668, 0.010546834797011097), (2185, 0.010535457542402076), (282, 0.010533199038201674), (4549, 0.010519042142691528), (2980, 0.01048603405507267), (1725, 0.010482945756632445), (421, 0.010463073499598463), (1759, 0.010460882083987742), (2127, 0.010460520350602295), (446, 0.010430034093501954), (4091, 0.0104189593205945), (1681, 0.010410368348097951), (3928, 0.010408426622992953), (2233, 0.010405919634894798), (700, 0.010403430780807013), (1096, 0.01040175551849927), (3831, 0.010398228594485984), (2008, 0.010397816076426175), (1017, 0.01039231894617498), (102, 0.010359538483788877), (4338, 0.010357009374374252), (369, 0.010353987543871904), (817, 0.010346741224623613), (442, 0.010331916793771307), (4336, 0.010327459502745495), (651, 0.010322512602071048), (1056, 0.010316860441315037), (19, 0.01031581496857873), (3147, 0.010306849125356279), (1684, 0.010301479124264701), (1511, 0.01029667176344017), (2820, 0.010286318057647431), (1864, 0.01028367837671343), (1020, 0.010257694312446847), (704, 0.010253006521624948), (4035, 0.010232751821612157), (4659, 0.010232520453587458), (1150, 0.010227495509590963), (4076, 0.010215360832669685), (1952, 0.010210815152361677), (3586, 0.010204824043112706), (2529, 0.010197250762843623), (420, 0.01019634326823733), (1379, 0.010193272511133403), (2473, 0.010182634673483116), (2121, 0.010178857478542249), (1492, 0.010177229268870039), (2263, 0.01017701574794674), (164, 0.010173776664754663), (1255, 0.01015894313417855), (2440, 0.010158701713216908), (629, 0.010155164928557475), (2379, 0.010138086470954703), (2490, 0.010124922162672554), (3438, 0.010122934674307098), (10, 0.010105068910745606), (2283, 0.010105051957694655), (3954, 0.01009080010903586), (603, 0.010085585042787665), (1031, 0.01008179582665947), (2719, 0.010062894087130151), (2098, 0.010059583248064271), (913, 0.010058176303063864), (239, 0.010057852239814646), (3724, 0.010054349396266477), (3897, 0.01005357978659744), (2689, 0.010051758776026362), (1426, 0.010046167935828436), (4613, 0.01003807052543907), (4406, 0.010029822183983959), (307, 0.010028950756755596), (765, 0.010021479491407349), (3103, 0.010018552203199488), (1502, 0.010013441246986873), (734, 0.010013280450238509), (2764, 0.01000814649891487), (1859, 0.009998659844524006), (900, 0.009996767157009201), (654, 0.009994040241918257), (1185, 0.009990056335981585), (891, 0.009988366376234684), (1104, 0.00998056534722474), (599, 0.009975771866368322), (2790, 0.009969866256473954), (2858, 0.009956958115648529), (2137, 0.0099564022978168), (921, 0.009950780909184597), (3139, 0.00994577336624375), (3829, 0.00993876147779118), (463, 0.009908946907867837), (1886, 0.009903882132837742), (2015, 0.00990136281820576), (928, 0.009895275812112992), (1514, 0.009895012459193775), (201, 0.009893181288224107), (766, 0.00989294911420589), (15, 0.00986185100223851), (2722, 0.009861596029355248), (2259, 0.009857543769217676), (3559, 0.009857247851250563), (189, 0.009819313954160391), (43, 0.009813838232609782), (918, 0.009812969953200888), (3040, 0.00981024240785644), (3463, 0.009781572638934661), (1730, 0.009747681993197496), (3166, 0.009744209756372003), (3446, 0.009738253786228215), (2803, 0.009730072097009051), (2011, 0.009722171046341366), (4376, 0.009721721418354465), (531, 0.009716970042742194), (1431, 0.009709725745259629), (1704, 0.009665903183824459), (3810, 0.009662312395758935), (2439, 0.009655346370546027), (2788, 0.009653573117051143), (3199, 0.009649328707412363), (2537, 0.00963663466165129), (919, 0.009636218135167395), (936, 0.009620241908668179), (2278, 0.009619787659423753), (800, 0.00961023263164053), (2747, 0.00959323349753658), (735, 0.009592355724937175), (2607, 0.009583638687009404), (2414, 0.009558295253298568), (2404, 0.009554701038887201), (1934, 0.009546801176116056), (732, 0.009544661099987481), (4755, 0.009539828876446556), (1346, 0.009536472978698893), (3042, 0.009518142249506022), (1009, 0.009485068643549985), (299, 0.009480771251066543), (305, 0.009473098734899005), (705, 0.009465549535147347), (562, 0.00945316455261289), (519, 0.00944038508166925), (2731, 0.009429432871676486), (610, 0.009427816134280195), (439, 0.009426496881852117), (4222, 0.009421244549172033), (4482, 0.009404742376547068), (65, 0.009403207202823298), (3479, 0.0093814267166289), (4241, 0.009377928184708905), (32, 0.009376159222977912), (4484, 0.009366027549684013), (613, 0.009346468616037343), (1857, 0.009334957248443196), (3746, 0.00933442761153543), (3880, 0.009328064715856123), (2621, 0.009302119500054318), (3546, 0.00929649477527798), (3096, 0.009294150883029262), (4157, 0.009292165764819645), (2713, 0.009289298824274206), (2692, 0.00928447679177188), (84, 0.009284320803804067), (150, 0.009282206550917032), (3368, 0.009257748880250117), (242, 0.009257091471405535), (147, 0.009250228856191001), (2178, 0.00922323113725633), (2832, 0.009218979443481438), (3994, 0.009214808229503432), (152, 0.00920846643659636), (72, 0.00919622730325264), (790, 0.00919055127630919), (1351, 0.00918927694179525), (1201, 0.009165711354182707), (1347, 0.009158949799804968), (2245, 0.009158646917901959), (3011, 0.009156530246282515), (445, 0.009153013696080854), (3720, 0.00915065697676075), (261, 0.00914860472524802), (2199, 0.009144298686809993), (2432, 0.00913995953002343), (3892, 0.009131974845763956), (223, 0.009130979741865922), (915, 0.009124396685169494), (179, 0.00911440370666245), (486, 0.00910605730311414), (138, 0.009104657142229819), (3053, 0.009099614613470353), (3568, 0.009093863692199148), (1632, 0.00909150695933869), (4438, 0.009090875470016711), (3567, 0.009084912782488715), (3065, 0.009081650292885012), (4279, 0.009067731104519978), (4481, 0.009059830376817039), (3899, 0.00904690303404607), (1218, 0.00904592513917626), (284, 0.009043077201962438), (2304, 0.00904257888520882), (2852, 0.009037885838026045), (3465, 0.009006668419636755), (1274, 0.009005189325229592), (171, 0.009000931803278656), (3950, 0.008996461627447994), (260, 0.008993878010032333), (2838, 0.00897751544019956), (3361, 0.008976150995738178), (1054, 0.00895381137805619), (1756, 0.008941865336254897), (4292, 0.008934028920787337), (4752, 0.008925545965325438), (2662, 0.0089198852220985), (4102, 0.00891933405182765), (4026, 0.008916780541374915), (3133, 0.008912758442957937), (3193, 0.00890743774990476), (2139, 0.008899475115836573), (661, 0.008895254915166243), (548, 0.008891974527179804), (4548, 0.008888750316581637), (2938, 0.008876901040607673), (426, 0.008869165549442446), (810, 0.008859219904527907), (492, 0.008853050388334867), (2423, 0.008852968215214568), (2682, 0.00884688610904268), (3966, 0.008843549087468575), (1803, 0.008838474123181235), (414, 0.00883135106153477), (3280, 0.008828164244924792), (1430, 0.008817027086873578), (549, 0.0087977170376637), (3718, 0.008792728114545114), (843, 0.008792691760525245), (3365, 0.00878719757030011), (3249, 0.00878598784287406), (240, 0.008776836946745355), (335, 0.008766224146218953), (1713, 0.008759118177761111), (3357, 0.008731877239909556), (3537, 0.008713175692443651), (94, 0.008707822670268794), (1037, 0.008697473970785389), (80, 0.00868834551707755), (3945, 0.008672235123854448), (3922, 0.00867191357503215), (2064, 0.008662156601457497), (4339, 0.008661754497689586), (4347, 0.008660464433418436), (4689, 0.008652431281678507), (291, 0.008643194035657173), (1069, 0.008630395272538215), (2749, 0.00862983176341111), (3008, 0.008623489553660137), (3074, 0.008618651212528042), (352, 0.008618278629039551), (3459, 0.008616182857663763), (337, 0.008606317047217728), (2499, 0.00860487722314545), (148, 0.008604849030797328), (2797, 0.008598261049621607), (3934, 0.008594218202417684), (2908, 0.008592068672696166), (1171, 0.008589403999642224), (2488, 0.008585060234357431), (4233, 0.00857192868821221), (4337, 0.008564881665202723), (2566, 0.008556200989684489), (3544, 0.008550963766201129), (3020, 0.008528020534950631), (3387, 0.008518116618223772), (63, 0.008509330003214941), (2244, 0.008483618582568679), (3257, 0.0084645171479524), (1384, 0.008439353528168575), (3413, 0.008437607060529529), (4450, 0.00840562592215299), (882, 0.00840544263536808), (4196, 0.00839909930160316), (2434, 0.00839800112938685), (1861, 0.008391994292228784), (2106, 0.00836641737567934), (4628, 0.008353390190010395), (1417, 0.008346045173327514), (1747, 0.008320720472235935), (3308, 0.008316533087430782), (2234, 0.00831219485515776), (2986, 0.008309227361623657), (4023, 0.008295894517494603), (4717, 0.008294749224363168), (1770, 0.00829427886129017), (340, 0.008287877150792032), (431, 0.008284501946754431), (1585, 0.008281759221862185), (2570, 0.00826795397042476), (3621, 0.008266122010201337), (3852, 0.00826216246210161), (4633, 0.008255668895427965), (1792, 0.0082553449655848), (1187, 0.008253451608241313), (1772, 0.008228398468068752), (1169, 0.00822153705276504), (2846, 0.008219726054566095), (1559, 0.0082065503921332), (1407, 0.008197376113626961), (271, 0.008194054865067328), (4149, 0.008182171257554641), (1116, 0.008171843303559957), (2696, 0.008166039368548133), (1774, 0.00816372481828149), (234, 0.008160932900290387), (1546, 0.008157411779973728), (1947, 0.00815483924207911), (3747, 0.008147095864529257), (3754, 0.008146720816501966), (2, 0.008136259328206196), (2801, 0.008134156450987931), (3408, 0.008123633846397563), (3776, 0.008121018471514491), (2884, 0.008109290952861413), (779, 0.008105551939426378), (3337, 0.008105515559650852), (925, 0.008077325727005947), (1802, 0.008076391332601367), (4507, 0.008068754109305548), (725, 0.008066396931966332), (2478, 0.008064246018157138), (3952, 0.008055913165117142), (1046, 0.008053910825502709), (2622, 0.008044908068044516), (2796, 0.008039208986923601), (331, 0.008038072213896514), (985, 0.008035833852189762), (386, 0.008032127068298237), (2702, 0.008028831173792342), (4117, 0.008018944188516248), (3764, 0.007997203720970656), (3772, 0.007994184140241955), (313, 0.007994090665370658), (2223, 0.007987235284369391), (2627, 0.007979877288678033), (2302, 0.007978921221105807), (1535, 0.007973489880214046), (1508, 0.007970239182373516), (998, 0.007963522431228026), (999, 0.007957004843144938), (58, 0.007950792325206095), (2914, 0.007944565013962093), (64, 0.007941807138341047), (2973, 0.007937747605489993), (186, 0.007929718784526692), (2276, 0.007923407261395697), (809, 0.007919127000840149), (2663, 0.007912207230804479), (3373, 0.007906542180422868), (1489, 0.00789350158717436), (3962, 0.00788955280059572), (3585, 0.00788800749588502), (3484, 0.007885746140594096), (1221, 0.007883359436170677), (1761, 0.007882761822279555), (2708, 0.007862567923308283), (3146, 0.007857567552401398), (1592, 0.007849158984572793), (4293, 0.007838803594022885), (4051, 0.007837191150275284), (88, 0.007820927368577963), (2782, 0.007819741032952309), (4706, 0.007804463336759455), (3003, 0.0078036407247740365), (4113, 0.007802491465531998), (1923, 0.007801687661339573), (2108, 0.0077969769882861445), (3062, 0.007788106616360006), (2535, 0.00778590636898894), (2592, 0.007776889608009211), (1945, 0.007772251381124451), (1530, 0.007765468746872), (3026, 0.007761238647788327), (381, 0.007744715988953037), (4263, 0.007737166425261639), (1873, 0.007721331136394279), (2375, 0.007717412191693727), (2410, 0.007706400025436946), (1479, 0.0077046965813857395), (2464, 0.007704314549821134), (4308, 0.0077036724298285494), (237, 0.007692787200861735), (3183, 0.007692470588858651), (2324, 0.007685153447877256), (318, 0.007676913917778667), (4140, 0.007675398205295074), (1243, 0.007662101333371966), (1905, 0.0076586367636653895), (3044, 0.007657332244549373), (641, 0.00765645246449079), (4522, 0.007655434660724958), (834, 0.0076508938084982134), (350, 0.007647605680639364), (3944, 0.007643593845712669), (2748, 0.007638864845672298), (3258, 0.00763870534052782), (1226, 0.00763603469931514), (2882, 0.007633567792659199), (2507, 0.007631016370446815), (3889, 0.007618490544724963), (3980, 0.007606963140882939), (322, 0.007595775960816594), (3449, 0.007590952216834948), (3622, 0.007585930751051416), (1868, 0.0075795983431237), (3319, 0.0075669027425597874), (1848, 0.0075621149262693225), (4132, 0.0075613947818221495), (1128, 0.007558385162527283), (1773, 0.007557576325544542), (294, 0.007550017154013505), (2078, 0.0075413398199340185), (2661, 0.007541124170245158), (3496, 0.007540435379785014), (1180, 0.007538393418172304), (1637, 0.007535215783091723), (2786, 0.007522759948554503), (872, 0.007520436803584317), (4111, 0.0075201683962039054), (1683, 0.0075171584726286215), (2759, 0.0075163443260206535), (1409, 0.007515274416803227), (2260, 0.007514714947354355), (230, 0.007511976405663812), (668, 0.007501812973111724), (3601, 0.007491821632256667), (4357, 0.007488140546830812), (321, 0.007486972338599557), (3084, 0.007450560106613886), (4489, 0.00745044095017516), (2095, 0.0074496769155190145), (2326, 0.007445785100468447), (1234, 0.007438771387846637), (1822, 0.007415512775498117), (3037, 0.007415053192078914), (2394, 0.00740203870508807), (3388, 0.007401385040102756), (2385, 0.007398864222696427), (1007, 0.007395351595051436), (3882, 0.007393294837142402), (3187, 0.007392386566828507), (3984, 0.007387778201156792), (3493, 0.007352547927368315), (300, 0.00734885825251917), (2926, 0.00734662518185481), (204, 0.007338979495510401), (3514, 0.0073336376713328735), (2517, 0.00733280795865912), (3351, 0.007331642135164532), (144, 0.007330442091995888), (3382, 0.007330115969906358), (879, 0.00732884686563064), (2561, 0.007328797957689318), (3845, 0.007327193464325385), (1513, 0.007317738258488641), (2751, 0.007314873229926596), (3224, 0.007313667672691274), (2388, 0.007312753162346886), (884, 0.007308632338054394), (1664, 0.007305589804890442), (1727, 0.007303855054224091), (3023, 0.007298077514955722), (812, 0.007293578238583322), (835, 0.007293291291242243), (1647, 0.007291599415944425), (4756, 0.007291463718893609), (3349, 0.0072880813278875375), (3517, 0.007273516698059297), (1765, 0.007265480161799511), (4422, 0.007259395738341843), (4287, 0.007257479028517731), (1516, 0.007234559994421397), (3290, 0.007229258803606431), (2205, 0.00722035530748491), (833, 0.007219060202843756), (468, 0.007218196663112006), (3289, 0.007199188111914893), (115, 0.007182994909902113), (3426, 0.00717559231635016), (933, 0.007174248400773984), (969, 0.007170075456413979), (1337, 0.007168836051526903), (3113, 0.007164920477687853), (2742, 0.007161814668125063), (2398, 0.0071591155581719745), (2119, 0.0071557224358589295), (2292, 0.007154693658813564), (3356, 0.0071518577289736915), (2397, 0.007144423725722297), (2746, 0.007142574691847613), (248, 0.007136029117021291), (4236, 0.007133784511265228), (4049, 0.007129398109701132), (1533, 0.007125818363788153), (579, 0.007121026192058295), (1410, 0.00709985897945891), (1722, 0.007093792232410574), (2122, 0.007091697839534535), (2554, 0.0070866584667611515), (1232, 0.007078974740685564), (2110, 0.0070774159374532635), (3155, 0.007072839195493391), (2284, 0.0070626873563804), (2340, 0.007042187705238814), (114, 0.00703146658466774), (2495, 0.007024164334853412), (2387, 0.007009509227977445), (1112, 0.006996697167293151), (3673, 0.006996335354429152), (2523, 0.006994019421966279), (1298, 0.00698586732679178), (3630, 0.006985215754300674), (2999, 0.006984951553678023), (2512, 0.0069743778061656814), (2060, 0.006953454272919305), (3888, 0.0069506625027689044), (334, 0.006940964905745989), (1316, 0.006940959711206737), (1598, 0.0069344799051288385), (1309, 0.00692654582467737), (1313, 0.006922270928006994), (2687, 0.006911278300038381), (1100, 0.006908525028432191), (4018, 0.006897993961191994), (1286, 0.006886745842350069), (1084, 0.006883373794502894), (2945, 0.006876372939517117), (4530, 0.006870191260338108), (3220, 0.006865569532772016), (4036, 0.006863847660098436), (2935, 0.006850757402275824), (3402, 0.006845507071632482), (1284, 0.006838287173617934), (979, 0.006820901905020272), (2461, 0.006811126554501128), (2912, 0.00680204671764257), (1261, 0.00680139308832443), (3348, 0.006798303149270582), (4382, 0.006792719665132228), (2467, 0.006777524911048525), (2555, 0.006773415565482552), (2737, 0.006765788152329678), (923, 0.006765024862429012), (3503, 0.00673607752073684), (4385, 0.006713831385745127), (3315, 0.00671065036516498), (3214, 0.006706496846793966), (1929, 0.006696886066530846), (157, 0.006690351363934435), (2597, 0.006682143611548564), (4213, 0.006679808765266018), (2242, 0.006677037429405004), (2068, 0.006675189657146698), (505, 0.0066734103127974575), (1863, 0.006661878437734873), (4246, 0.006651279792356373), (3391, 0.006639706034399901), (4498, 0.006632535928960413), (939, 0.006625870496178795), (3811, 0.006622356240359685), (1663, 0.006617859129698045), (2348, 0.006616773428439228), (2166, 0.006615821075935913), (4254, 0.006595945617315377), (1203, 0.006595680827458395), (1693, 0.006595675262563666), (1372, 0.006589675876639405), (886, 0.006585780200155514), (903, 0.006584809222761974), (3941, 0.006582953177490207), (941, 0.006579409647995076), (3475, 0.0065778261813747955), (471, 0.006560135377884557), (2701, 0.006549192486961174), (2201, 0.006534779428931851), (2197, 0.006524106509088017), (3500, 0.006517312584711452), (589, 0.006510368299711265), (2399, 0.006484425336340031), (2614, 0.006467578216855608), (1079, 0.006459947338232233), (3835, 0.00643942976096161), (3050, 0.006436021751683342), (2728, 0.00639414827983214), (1528, 0.006380486720968108), (3267, 0.0063741120040145035), (2402, 0.006361801600916511), (3304, 0.006360852855873015), (473, 0.006355380590565701), (515, 0.006332052797388009), (2741, 0.006325037105555818), (2591, 0.006302312471598531), (1980, 0.0063007339918371786), (3115, 0.006299518705063932), (2976, 0.006292839481420825), (4726, 0.006291204654145415), (1318, 0.006264990078218501), (672, 0.00626400847589959), (4104, 0.006226691117907877), (1830, 0.006224407512214697), (1954, 0.006222743982821402), (1251, 0.0062161991878616225), (3755, 0.0062084611365405325), (4223, 0.006202629276769525), (1199, 0.0061968786258596404), (605, 0.006181235111088592), (4066, 0.006169104710777181), (851, 0.006153966646406082), (2721, 0.0061039396499067405), (1217, 0.006098656943151939), (103, 0.006084472143232307), (1397, 0.0060747869820197715), (4288, 0.00606002874350292), (1370, 0.0060570968455104105), (278, 0.006050190913331888), (4627, 0.006027724089585196), (3088, 0.006017346351752698), (1088, 0.0060050652569291225), (2146, 0.006003340719411016), (2669, 0.005984350317699202), (3946, 0.005981891907847962), (2758, 0.005966090131642171), (951, 0.0059302395285594205), (2657, 0.005927394354685155), (4636, 0.005923996215480643), (2157, 0.005906874968224302), (764, 0.00590574839373372), (2684, 0.005860118046125978), (1078, 0.00585012041069946), (2659, 0.005828875056461638), (2312, 0.005825860489174816), (4200, 0.005808014733483304), (1427, 0.0057584890513772205), (2891, 0.005731926148911848), (996, 0.005710103454739067), (4311, 0.005707258919498278), (4480, 0.0056976134556014635), (4744, 0.005694671933149365), (2441, 0.0056884967859395855), (3575, 0.005675170537714768), (3009, 0.005666217138962905), (2500, 0.005645858437178487), (2925, 0.005640172507162021), (3266, 0.0055977301660227255), (2395, 0.005597471661120507), (3796, 0.005596722358070361), (4239, 0.0055905858851183834), (3949, 0.005562529155621764), (2667, 0.005514032992802069), (2922, 0.00550597412775258), (3932, 0.005493787344430845), (1040, 0.005486658948805017), (4115, 0.005460034702199243), (3204, 0.0054168819318649595), (1939, 0.0053702720214405695), (2281, 0.005368548052624379), (4198, 0.005343209234406301), (3800, 0.005338745954511724), (2483, 0.005336605107414479), (2715, 0.005327188418575381), (3325, 0.005321024388205607), (2536, 0.005286043190178579), (2948, 0.005269683664857881), (3439, 0.005248607951027319), (2228, 0.005237325248727105), (2928, 0.0052253411498878995), (4166, 0.005224182353181665), (4040, 0.005221665872423147), (3715, 0.005221647050153652), (3217, 0.005214637496709044), (4084, 0.005203334538143546), (2941, 0.0052002902031277965), (3078, 0.00519985859487314), (2282, 0.005199068611256399), (391, 0.005182610223484083), (2875, 0.005143096109824298), (2455, 0.005136172481825619), (3936, 0.00511912230421303), (4151, 0.005116969102972177), (2600, 0.0051052847712585656), (3087, 0.005105180846411153), (3988, 0.005093441657336964), (3844, 0.005070845780422146), (2308, 0.005064165746181697), (2939, 0.005039907171032168), (3671, 0.005037084188897806), (4721, 0.005036346349293255), (4058, 0.0050332817555020695), (3592, 0.005031049959830873), (2564, 0.005027201168620544), (4562, 0.005027026222288102), (2515, 0.005023888263171061), (4199, 0.005020051688762793), (842, 0.004947953147900332), (4725, 0.004939791142980137), (2077, 0.0049350441894230246), (3534, 0.00491837182292399), (3089, 0.004916562055471801), (4631, 0.004914004502148112), (4127, 0.004911896736288138), (4720, 0.004911507106742426), (129, 0.004905405374021926), (3554, 0.004898478672999676), (4514, 0.004894620080379714), (751, 0.004883054068813357), (2781, 0.004876660415481172), (3203, 0.004873441598273629), (2756, 0.004871383507751309), (2727, 0.0048670913258682166), (3054, 0.004862354906737226), (4408, 0.004858404601109124), (1941, 0.004843264321575876), (3758, 0.004839766938655455), (4570, 0.004837245733039835), (4483, 0.004827174338608998), (4190, 0.004826118734817778), (3996, 0.004824809967336543), (2368, 0.00482299564103775), (2333, 0.004817114726824571), (3686, 0.004810634340032062), (3017, 0.0048078222885267275), (4341, 0.004800113482269777), (461, 0.00479202082535314), (611, 0.004784919839490453), (795, 0.004782806118438528), (3789, 0.0047789481228163126), (4711, 0.004775987749125687), (4451, 0.004774402297784114), (2299, 0.004762475127165202), (3324, 0.004755667673407211), (711, 0.004753187091618098), (4285, 0.004748738120543598), (2468, 0.0047280508145579455), (2158, 0.004718118571906262), (740, 0.004712512533252654), (4346, 0.0046947002249848845), (3190, 0.004689009095164942), (905, 0.004681020322287445), (4010, 0.004669183477193797), (679, 0.004663588057149235), (760, 0.004642154273344938), (2676, 0.00464016625454604), (1507, 0.004633944342462827), (3851, 0.004633100980562475), (3759, 0.004632940677894929), (4496, 0.004631733957621235), (2305, 0.004628134251801397), (1424, 0.0046198796460478), (3791, 0.004617364082463923), (2357, 0.004593895699475886), (3649, 0.004590620930666112), (4746, 0.004589698004270569), (4317, 0.0045886475299466035), (2186, 0.0045866819944721995), (1437, 0.004585322302434473), (3383, 0.004581983709852872), (4452, 0.004576995601037963), (839, 0.004571883396524343), (1999, 0.0045710164295472075), (1560, 0.004560000077755743), (2757, 0.004558368838027842), (3168, 0.004556582252632223), (4105, 0.004542194244813722), (139, 0.004540168557043621), (1311, 0.004539669165599199), (2810, 0.004535175195633699), (2420, 0.004532670595435513), (2164, 0.0045293144151590855), (3964, 0.004519349828664483), (2479, 0.00451869995105723), (4453, 0.004518167601946615), (4580, 0.004515569044418319), (1260, 0.0045139285083350975), (2381, 0.004511662367483961), (3080, 0.0045104442978139625), (2384, 0.004506824108168724), (3276, 0.004495723374112299), (1371, 0.004495050572529846), (365, 0.00449368245668279), (1836, 0.004492946196742272), (3808, 0.004492900757661121), (4324, 0.004485964537747755), (3688, 0.004483788549751405), (3371, 0.00448261477523413), (3572, 0.004480122343655841), (385, 0.004479588368053377), (3652, 0.004471242342737234), (2998, 0.004471065354669755), (4003, 0.004470027764035641), (362, 0.0044677675852711944), (2493, 0.004466042416491155), (1766, 0.004465421907590671), (1786, 0.004450554039860036), (2930, 0.0044491302310774115), (1089, 0.004448934113751087), (3581, 0.004448363477887346), (3207, 0.00444685209543879), (3529, 0.004446572044798251), (990, 0.004445241330143205), (141, 0.004444699831429538), (841, 0.004443274941482314), (1844, 0.004442691174034136), (2626, 0.004441133224329386), (2452, 0.004439386641791844), (956, 0.004433521254986681), (3925, 0.004432982269059582), (4097, 0.004431421122007537), (2811, 0.0044313783701994845), (3628, 0.004425071105610502), (2575, 0.004422845715494047), (1806, 0.00441777561529735), (678, 0.004411448372014484), (1491, 0.004409794017813301), (2604, 0.004403768366169793), (2978, 0.004400034994789236), (2979, 0.004396363913093826), (4207, 0.004391611964547175), (2082, 0.004389952877252963), (2258, 0.004387965056172737), (4413, 0.00438766046931641), (2371, 0.004383528732943127), (2021, 0.004380157542531325), (4086, 0.004378844324733793), (146, 0.004364920012194577), (3510, 0.0043624574417667214), (1441, 0.004362282278780101), (1103, 0.0043605139963590125), (771, 0.004359583189287095), (3943, 0.00434959279550836), (3584, 0.004345873833476472), (405, 0.0043381234840981055), (3175, 0.004336187037633737), (754, 0.004335295880231239), (2588, 0.004334375997743866), (4131, 0.004330354383597696), (4173, 0.00432952541608811), (1614, 0.004328952983660266), (1732, 0.004324945791489368), (4607, 0.004324691187843356), (4370, 0.004321787462870399), (1609, 0.004318217746518678), (1333, 0.004315235056520854), (3539, 0.004311155690223677), (3109, 0.00430968699537362), (4315, 0.0043093006435575695), (1791, 0.004307967834343629), (536, 0.004306487362530492), (3236, 0.004303838475044275), (1856, 0.004303409545156497), (4560, 0.004303372105347531), (1926, 0.004299874002106139), (1596, 0.00429844557913462), (4622, 0.004295369933457996), (4256, 0.004294177748574261), (4557, 0.004292432482439493), (3442, 0.004292281555764345), (2208, 0.004288880579283623), (205, 0.004284893037090201), (3905, 0.004280395592333529), (4260, 0.004276989990662239), (2937, 0.004276582403642773), (4180, 0.004276240658417712), (1013, 0.00427575382237237), (415, 0.00427412763249399), (4027, 0.0042729588115914775), (3041, 0.004271282547475551), (3523, 0.004269329820029616), (3422, 0.004268224738935295), (1389, 0.00426117000634994), (4705, 0.004258064386548527), (667, 0.0042543907005658365), (474, 0.004251940205013683), (3189, 0.004251472883053239), (3051, 0.004248223753597048), (1193, 0.004240297030987238), (1734, 0.004240057932005353), (3513, 0.004239705382914928), (1142, 0.004239281000845868), (2217, 0.004236277037849211), (2002, 0.004235293933833199), (3415, 0.004235018079907021), (2768, 0.004233497678497855), (3038, 0.004233020588418434), (3672, 0.004231968615801735), (2249, 0.004231834621984815), (3061, 0.004230861822165638), (1445, 0.0042279983388613), (1965, 0.004226727257854928), (4421, 0.004224151678705106), (2090, 0.004223292481242306), (797, 0.004223180051991883), (2042, 0.004222566000172938), (3310, 0.004221438015683253), (3162, 0.004219605502714371), (586, 0.004215213705359361), (1432, 0.00421512208503954), (1024, 0.004214641009185463), (2649, 0.004206836737943739), (3790, 0.004205890402817342), (3229, 0.004202665542105961), (793, 0.0042025160457718315), (2325, 0.004200866838571856), (1602, 0.004198461906208285), (2194, 0.004196911818709611), (784, 0.004195773963449426), (1949, 0.004195170360776774), (4552, 0.004194396895442991), (1165, 0.004191653364190831), (1542, 0.004189623870439141), (2794, 0.004189319623590091), (961, 0.0041867373981177665), (4648, 0.004184954031176559), (2456, 0.004176533621015572), (708, 0.004174984449577846), (2519, 0.004174026604313278), (1244, 0.004173970130258658), (1735, 0.004173099482380171), (2648, 0.004172601249478598), (3489, 0.004171163366510089), (59, 0.004169158237031769), (730, 0.004166650832189675), (2353, 0.004166292223196667), (1697, 0.004165275956558307), (4202, 0.004164384352990396), (4319, 0.004159222966561601), (1557, 0.004158102373175378), (1777, 0.004157272599381967), (2092, 0.004156923868913879), (2856, 0.004156349861654533), (4329, 0.004154977891676091), (1917, 0.004153827641619025), (245, 0.004150735288495649), (2307, 0.004150702513426694), (2989, 0.004149873072263056), (869, 0.004148933965453956), (3169, 0.004148391683075342), (2251, 0.004143787116664334), (846, 0.004143519017865227), (3683, 0.0041421513054188735), (4093, 0.004139342750705254), (42, 0.00413910121488599), (3209, 0.0041385227022635055), (2200, 0.004135191010591377), (4404, 0.0041342387234293435), (3912, 0.004134168002191611), (2290, 0.004129374827904982), (1085, 0.004125304272410235), (1166, 0.004124869571396403), (3102, 0.0041242294906062025), (3603, 0.00412380717736731), (2349, 0.004123594312763659), (3812, 0.004118701179528909), (1145, 0.004118292151407455), (219, 0.004117212082551794), (2407, 0.00411680244556103), (3060, 0.004113322371601709), (2551, 0.004111601438990183), (3990, 0.004110783645244468), (4702, 0.0041090881190707145), (1889, 0.004108274011499449), (2685, 0.004106728890524148), (2041, 0.004103873395438548), (401, 0.004101265520274748), (2586, 0.004099993415030901), (2889, 0.00409981005213548), (1473, 0.004098714437763176), (1599, 0.004097073885884371), (3462, 0.004096824591177229), (3332, 0.004095036539410558), (1956, 0.004093055050983733), (1611, 0.004089444698827751), (3676, 0.004089284344767633), (630, 0.004088712886650692), (3245, 0.00408853592376545), (3119, 0.004082954787746586), (1741, 0.004079318548702735), (4300, 0.0040782083262985245), (398, 0.0040747170131292905), (312, 0.0040745776735407096), (4609, 0.004074394865122204), (4617, 0.004073251135039267), (3034, 0.004072909615476173), (2994, 0.004072812732697107), (2449, 0.004072784752032753), (3494, 0.004072550897843053), (2153, 0.0040686958716925235), (4704, 0.004068596271048878), (3052, 0.004067921555413674), (1388, 0.0040641979582045), (4184, 0.0040630911095606275), (1906, 0.004060305932309615), (943, 0.004056278549191384), (3055, 0.004052581537938449), (2081, 0.0040508583989058026), (2709, 0.0040483376258868), (2804, 0.004047815690213393), (849, 0.0040439088484788945), (2026, 0.004043361246926638), (2775, 0.0040431001899183545), (1227, 0.0040424719462613746), (4017, 0.0040414648218357494), (4291, 0.004040905178187197), (1133, 0.004037876358012195), (965, 0.004037729002955366), (2870, 0.004037321171561566), (3104, 0.004037101129446689), (3805, 0.004034809629644349), (3030, 0.004034575027428161), (3106, 0.004033764383650994), (627, 0.004032739932217319), (4457, 0.004031662636228847), (1638, 0.004030883340109621), (2883, 0.004030230449924042), (946, 0.004026859170468983), (1444, 0.004026627242287496), (3635, 0.0040265605842921505), (2336, 0.004023865119620386), (188, 0.004020162504329262), (2019, 0.004018822810837547), (947, 0.0040173946907066035), (3545, 0.004016498007393298), (2836, 0.004015119812806058), (2923, 0.004012738242702725), (1834, 0.004011646566099203), (1837, 0.004006861281138697), (1198, 0.004005572457544558), (3291, 0.004002195139798941), (4542, 0.004000763451814463), (2825, 0.003997534395172186), (4749, 0.003996860329739612), (50, 0.003996209496498318), (2435, 0.003995879227682758), (1126, 0.003995825871888087), (1028, 0.003993757482951726), (4529, 0.003993167681712687), (2298, 0.003993149340435251), (535, 0.003992777800756904), (3350, 0.003992138509296891), (1549, 0.003991614834828941), (3443, 0.003991322012716824), (2484, 0.003982066713720313), (2310, 0.003981941123856736), (4221, 0.003981860868290329), (1292, 0.003979298534989818), (1330, 0.003972327414039218), (2639, 0.003970278297185569), (3685, 0.003969849417905652), (4611, 0.003969696876363182), (2694, 0.003967137116922566), (3939, 0.00396663058124033), (2297, 0.003966423342527314), (4029, 0.0039656176504449915), (3580, 0.003964602519372946), (459, 0.003964385295793223), (1589, 0.003963877258969683), (3400, 0.0039573466527391635), (2861, 0.00394755074057128), (2655, 0.003946790894682292), (3836, 0.00394650370180398), (1880, 0.003945328325331351), (1771, 0.003945157492326538), (217, 0.003944140139917515), (4327, 0.003943625369301387), (2677, 0.003942676980200394), (2932, 0.003937669411027271), (4172, 0.003937238125016815), (503, 0.003936371395800974), (3286, 0.003928741199190332), (662, 0.003923425940634483), (3375, 0.0039228454028581135), (1618, 0.00391825003080302), (339, 0.003915923979574255), (2559, 0.003915054737635607), (2693, 0.003911786426877251), (3366, 0.00390810918801097), (546, 0.0039043092227254144), (2075, 0.003902345072005668), (3896, 0.0039019802034332435), (4314, 0.0039018613300548593), (4696, 0.0039016961532812337), (2465, 0.0039000215018568677), (2628, 0.0038987243593381475), (3076, 0.003897642107459811), (1900, 0.003895904206693559), (4407, 0.0038955715951891103), (2681, 0.0038903663249019228), (1561, 0.0038895255754259716), (2448, 0.0038894540652464715), (2392, 0.0038885869560740804), (1125, 0.0038885524270368312), (3292, 0.0038878059235483396), (1767, 0.0038872409225494202), (3490, 0.0038859528450209484), (1544, 0.003884486603809343), (772, 0.003882044665624994), (3762, 0.003879985718099123), (1231, 0.003877641817954716), (4434, 0.0038763983957217315), (1912, 0.0038742352980230526), (3595, 0.003871633282999179), (1490, 0.003866333912162042), (1839, 0.0038643601495603618), (3824, 0.0038622152951902017), (4423, 0.003861915544636537), (2620, 0.0038613639129227943), (4019, 0.0038607237689449896), (2425, 0.0038598648977443807), (2050, 0.0038585181838617397), (2107, 0.0038544902908438524), (2643, 0.003851726867581465), (4546, 0.003849642911400014), (2787, 0.0038478221061639126), (2140, 0.0038476759655694174), (1190, 0.0038472267948356665), (3177, 0.0038439609371391454), (2255, 0.0038423881076459685), (1532, 0.003841118582090071), (1363, 0.0038403726392576025), (649, 0.003835067112595412), (53, 0.003834497742744378), (2257, 0.0038343897188699134), (1211, 0.0038343525859436873), (4037, 0.0038334000161527816), (3322, 0.003832990255286482), (889, 0.0038328551583081635), (3262, 0.0038320830088075927), (2271, 0.00382958316311972), (4071, 0.0038287764585348736), (3859, 0.0038274926314777902), (2350, 0.0038269817569285655), (859, 0.0038250724802440157), (2901, 0.0038237489918162373), (422, 0.0038233534008823957), (4230, 0.0038159964712739408), (1783, 0.0038074843932992906), (1139, 0.0038061379282909803), (2286, 0.003806025368082201), (2179, 0.0038014418856696696), (311, 0.00379815894596668), (4400, 0.003796544808928254), (3250, 0.0037951694092984664), (2594, 0.003790234750702338), (702, 0.0037859508212462877), (2530, 0.003785277168390853), (1855, 0.0037849307379731454), (2170, 0.003784230691154327), (4667, 0.003784226423662892), (1898, 0.003783782454072087), (1992, 0.003780451038074611), (2699, 0.003775197135142754), (1899, 0.0037724026036527465), (4606, 0.0037704028962646584), (1457, 0.0037684789161866314), (1673, 0.0037671949489491282), (2590, 0.0037669648517544736), (3828, 0.0037665335216408038), (2866, 0.003765495527131253), (1353, 0.0037625054119618515), (2450, 0.0037617570734528667), (3543, 0.0037616656045948277), (2795, 0.003761088212467951), (4305, 0.0037592392933183403), (2272, 0.0037586617917561727), (532, 0.003757583007596279), (3128, 0.0037542081693424066), (2183, 0.003752459585339164), (1152, 0.003751584432296712), (3354, 0.003749600540513459), (3140, 0.0037480633014959418), (1610, 0.003746552731972268), (526, 0.0037450463855369285), (2093, 0.003742492870678055), (2548, 0.0037390601400180074), (770, 0.00373757135294207), (1711, 0.0037347393758352574), (3589, 0.0037316028752880756), (1149, 0.0037304405277023343), (2315, 0.003729819637791355), (3753, 0.0037277819322260423), (2274, 0.00372333920446524), (4469, 0.0037210788740289886), (3687, 0.003719811035861795), (3923, 0.0037181675108882884), (4521, 0.003717355392467298), (4577, 0.0037154866444137845), (4544, 0.0037152638351659975), (920, 0.003714824490474324), (3363, 0.0037142992396657776), (1331, 0.003709006006264508), (2225, 0.0037063848976885993), (2207, 0.003704680352028179), (4186, 0.003704217892642272), (1242, 0.003701846620433134), (2125, 0.003700946933643778), (1974, 0.003698080849437404), (1038, 0.00369573016672734), (2557, 0.003693656189174078), (2007, 0.003693594813081893), (3159, 0.0036859790399607338), (3842, 0.003683116917946589), (4306, 0.0036820221289496006), (3885, 0.003681182321350056), (2033, 0.0036808046644031095), (1200, 0.0036780862099528248), (3197, 0.003677552035817912), (4107, 0.0036774572696869176), (3613, 0.0036734212527106827), (4447, 0.0036712582447649927), (4724, 0.003671254457269442), (670, 0.0036703025139085146), (3521, 0.0036690104210436907), (2063, 0.0036685919992474427), (3004, 0.003668238127663643), (2424, 0.003667829569148114), (2266, 0.0036671244906264187), (3999, 0.0036671132610453525), (4191, 0.0036654299727193226), (2542, 0.0036626300266306548), (632, 0.0036572530511936137), (4572, 0.0036551330783139435), (4298, 0.003653707567086437), (1485, 0.003650867528947921), (4209, 0.0036494383170239176), (4443, 0.003648369716677265), (326, 0.003647266725121783), (3154, 0.0036451611440333235), (2957, 0.0036435312139830294), (3874, 0.003641862124971097), (4723, 0.0036413569796032398), (3031, 0.003638038660434512), (3716, 0.003636940618632571), (2848, 0.0036352799206201517), (1569, 0.0036332912581597907), (3123, 0.0036326817541684963), (3302, 0.0036286709169047757), (2879, 0.0036269939402215922), (3620, 0.003626541160604046), (2459, 0.00362496468382297), (2966, 0.0036204594110763326), (1750, 0.0036163935717778216), (3358, 0.00361565649057891), (3070, 0.003614711070765359), (2415, 0.0036138458262078327), (2389, 0.0036095398145414674), (1593, 0.003609216766871856), (1064, 0.003608199493612234), (3933, 0.0036069895973280686), (2833, 0.003606959785872758), (1978, 0.003606642246481288), (383, 0.0036064583787889367), (3206, 0.003603327885447303), (4237, 0.003602584577262264), (2778, 0.003601172289829111), (3082, 0.0035990409042025552), (3779, 0.003596284822932829), (2454, 0.0035962724500752637), (2993, 0.0035921897045653626), (1601, 0.003591856717825886), (3901, 0.0035917192799112835), (1652, 0.0035893279820422242), (2366, 0.003588639782049321), (1264, 0.0035874739810917437), (393, 0.0035835025725650766), (3861, 0.0035831440171236), (1429, 0.003580329367813117), (777, 0.0035794724502686125), (2360, 0.003576265304052847), (4358, 0.0035702182504382582), (836, 0.0035673672123818687), (2895, 0.0035648265655331855), (489, 0.0035626814374022614), (912, 0.003558296921147935), (1405, 0.0035575452983052404), (1213, 0.0035546697285030408), (4458, 0.0035519746773469705), (3766, 0.0035516062142175605), (3675, 0.0035501515451655166), (4701, 0.0035495332255852273), (1797, 0.0035476160741755155), (2433, 0.0035436233984757243), (4490, 0.0035319267873623115), (4280, 0.0035295802543209996), (2059, 0.003529166178856585), (2772, 0.003527911905344981), (1348, 0.003524765995856282), (4735, 0.0035242072669319758), (2971, 0.0035209667817935344), (4632, 0.0035111391444487567), (3935, 0.003509371115228533), (2613, 0.003508577250670716), (4416, 0.0035056414859123935), (892, 0.0035056326065077644), (3081, 0.0035049433935748645), (2378, 0.003504900379829869), (1053, 0.003502950769022742), (3856, 0.003502069389673152), (4584, 0.0035013161710966377), (2089, 0.0034995254840827954), (4694, 0.0034993074629423586), (4145, 0.003498424989143995), (2406, 0.003498266614771224), (2707, 0.0034953968846093857), (4426, 0.0034915612513138432), (518, 0.003491440427657641), (1212, 0.0034909391453577187), (1885, 0.0034895630815797987), (4412, 0.003488721152336776), (1748, 0.003486868232906039), (4030, 0.0034858855847791728), (3275, 0.003480919408731653), (937, 0.003479516050304155), (1323, 0.003476782725675107), (4075, 0.0034750831904883403), (3540, 0.003473608712508829), (2142, 0.00347344044046576), (1547, 0.0034686922658062193), (1008, 0.003467462550057835), (3019, 0.003467006361464152), (3359, 0.0034659489558513923), (4126, 0.0034655645755981464), (3072, 0.0034614731961523683), (3307, 0.003459482421769327), (1070, 0.0034586063819313506), (1523, 0.0034571000838825505), (2269, 0.0034565494902970787), (4163, 0.00345288322575569), (3729, 0.0034514766927740584), (3425, 0.003450833436878652), (860, 0.003450667647274915), (3916, 0.00344808990793101), (1398, 0.0034476235603955623), (4713, 0.003447616472080448), (443, 0.0034446986327942874), (4398, 0.0034413868975985804), (3419, 0.003436945823764533), (1275, 0.0034364135257478486), (3396, 0.0034352084167378386), (4369, 0.0034263651809248075), (3355, 0.0034263284660025596), (1639, 0.0034256876164158586), (1300, 0.0034216795346971363), (3165, 0.0034206989362570205), (4516, 0.0034151105360908456), (4465, 0.0034132484651647615), (721, 0.0034123933844485634), (4244, 0.0034118930589247354), (3639, 0.003408470054249053), (1924, 0.0034024306324281373), (876, 0.003399366159538624), (739, 0.003398403950302337), (1184, 0.0033976273812788165), (2877, 0.0033972786284658506), (4753, 0.0033959808456510802), (3883, 0.0033948108514719622), (1222, 0.003392264972511579), (4243, 0.00339045576920625), (786, 0.003389227242610719), (709, 0.0033884876367054205), (3296, 0.0033873145294046774), (2346, 0.0033861948279075692), (3611, 0.0033839121368450793), (3867, 0.0033832575791928627), (2629, 0.0033807550276942246), (2437, 0.003380409807139156), (1909, 0.00338037322556158), (4187, 0.0033792601847186187), (107, 0.00337777518905704), (3186, 0.0033768843509093217), (2373, 0.0033747020834714756), (1938, 0.0033738346531482534), (964, 0.003373413043610517), (2881, 0.0033730125093476833), (3148, 0.003371970774846428), (4731, 0.0033719583024369674), (2623, 0.003371551467280573), (3043, 0.0033714522921454845), (478, 0.0033705695653529835), (4092, 0.0033703227573835077), (2400, 0.0033685103890072105), (3680, 0.0033677707512522028), (4494, 0.003364504308564041), (2227, 0.0033624979652118196), (281, 0.0033620930350944894), (1383, 0.0033618853230440245), (235, 0.003361521336518242), (3013, 0.003359657515502946), (576, 0.0033572884425391784), (3274, 0.0033556164764617863), (419, 0.0033542453394755354), (4333, 0.0033512250003143026), (533, 0.003349734546393896), (2508, 0.0033494886263710677), (3560, 0.0033462916243907266), (2770, 0.003346254786890449), (1752, 0.0033456478886052378), (2974, 0.0033437250732917256), (922, 0.003341356630023683), (4718, 0.003340155186563594), (2903, 0.003339857006185883), (3196, 0.003339615824098701), (4160, 0.0033391327431328073), (3012, 0.003339020148828144), (2579, 0.003338270866441174), (2025, 0.003338079667030579), (596, 0.0033369361342597014), (1883, 0.0033361785463364895), (2916, 0.0033359231112918726), (1862, 0.003335470657267472), (3032, 0.0033335835475682358), (4535, 0.00333341740349674), (436, 0.00333210286206934), (4396, 0.0033320417946905707), (2134, 0.003331247154736688), (308, 0.0033303271538491965), (2356, 0.0033293037391867036), (4401, 0.003327458011519816), (3737, 0.0033255360972091414), (3593, 0.0033245754036510247), (1289, 0.003324551295685142), (458, 0.0033231008682418845), (1156, 0.0033219044802607375), (3248, 0.0033214680803900646), (3640, 0.0033213910207299468), (729, 0.003321036873692239), (2331, 0.0033201613313981163), (2913, 0.0033191011687363735), (444, 0.0033183721336366555), (3273, 0.003315641328018395), (2830, 0.0033145629150270876), (4397, 0.003314526899832161), (41, 0.0033139127474650447), (4593, 0.0033116730897283196), (1498, 0.0033110221183808835), (1890, 0.003304649812898312), (1326, 0.003303354560632559), (4138, 0.0033011299338010173), (888, 0.00330075219547499), (2018, 0.0033006250062908764), (366, 0.0033000084607073973), (4042, 0.003289378206068276), (857, 0.0032887791406201678), (967, 0.003288107372375557), (2176, 0.0032876995867525973), (3961, 0.0032872102275311476), (2428, 0.003286706760091448), (1580, 0.003286338542224258), (2890, 0.0032863162817469045), (4619, 0.0032859591219993618), (2159, 0.003284063835070193), (254, 0.0032825953314869205), (1754, 0.0032807649323914364), (3417, 0.003280148925274456), (587, 0.0032753784461950525), (1963, 0.0032739877290975327), (3116, 0.003272691642448958), (1454, 0.003271172286166297), (476, 0.0032691978602061656), (4602, 0.0032675804745309176), (4046, 0.003264920435874012), (2390, 0.0032648648869259846), (3971, 0.003263333533483104), (4048, 0.003260358093093688), (2624, 0.003258802261081182), (1646, 0.0032559095713575476), (4130, 0.003255161809931632), (2364, 0.0032535283048705775), (896, 0.003253473961683311), (1866, 0.0032519729962753948), (1115, 0.0032515059767473462), (2646, 0.003251434686398579), (4101, 0.003250560155465681), (673, 0.003250003464574648), (3813, 0.0032495314373525964), (4133, 0.003247403867947784), (3749, 0.0032472360883730542), (4116, 0.003246922541837128), (4519, 0.0032464160711775836), (2293, 0.003246308877855522), (1805, 0.003244811687124194), (4669, 0.003243666550339337), (499, 0.0032410854466515897), (2097, 0.0032408822545691718), (3064, 0.0032406474217784387), (1268, 0.0032395612772924826), (481, 0.003238822751802444), (887, 0.003238304652124808), (2214, 0.003238137438836853), (4087, 0.0032375295866061303), (8, 0.0032343809149440075), (1676, 0.0032310028958580325), (2595, 0.0032302519818068164), (3642, 0.003229536755930022), (4722, 0.0032286920167197276), (1325, 0.0032280234521825054), (2888, 0.003226098805002766), (3771, 0.0032257707145961177), (2705, 0.003224745263684685), (3694, 0.003223105018108542), (4545, 0.003222885625275258), (3269, 0.003221557244316533), (1874, 0.003218584209820869), (3704, 0.0032184092225923254), (2477, 0.003217724964799763), (3893, 0.003217355245510771), (3086, 0.0032172597593898007), (4024, 0.003216160985998292), (3757, 0.0032126313613554287), (728, 0.0032121920220143274), (4579, 0.003210135613236203), (210, 0.0032097595070700894), (3692, 0.0032066528400649824), (430, 0.0032055263574557783), (4161, 0.0032039621850681495), (4657, 0.003203069552525822), (2475, 0.003202798587165017), (3112, 0.0032024986276404568), (1995, 0.0032024133924586484), (4540, 0.0032000823560287914), (4245, 0.003199819417960579), (791, 0.0031994053750899897), (3184, 0.003198805208904495), (991, 0.003196886833484047), (395, 0.00319531430791028), (2723, 0.0031940608202068927), (3781, 0.003191012671606015), (4574, 0.0031888302427785444), (3904, 0.0031855068511205988), (21, 0.003184852186099482), (3873, 0.003184544085605393), (4680, 0.003184283001557228), (4005, 0.0031823049318604737), (2949, 0.0031821470024852227), (3007, 0.0031816486049669706), (2104, 0.0031806318666826507), (1119, 0.0031797320750164442), (4231, 0.0031769524137217945), (1324, 0.003176869792188945), (1320, 0.0031765704537002775), (826, 0.0031762320519338016), (2664, 0.003175071614206703), (2522, 0.0031740915281377874), (4355, 0.0031727941767327244), (3987, 0.0031720007918974373), (2105, 0.0031713506238838555), (4175, 0.003171238690414939), (3434, 0.003168415346274175), (1339, 0.0031655921592204364), (3590, 0.003163600556449842), (493, 0.003162084530647375), (2821, 0.003161688135505405), (206, 0.00315923112532753), (2361, 0.0031589853899868904), (3314, 0.0031586114578542835), (68, 0.003158541779239775), (4471, 0.00315819068335891), (926, 0.003156144263319915), (3326, 0.003154316017222525), (4505, 0.003152424023807225), (1853, 0.0031523922215465996), (2953, 0.0031523655182519156), (2714, 0.003151942969388144), (4575, 0.0031511499614958203), (1484, 0.003150346469219954), (2288, 0.0031501648651226987), (2196, 0.0031494437929497033), (4286, 0.003148772312988436), (2849, 0.0031485354017213867), (4318, 0.0031470365236618033), (1918, 0.003145819200393858), (4123, 0.0031446031765756366), (3406, 0.0031430641694745027), (4, 0.003142355538662278), (1225, 0.0031418383003489554), (4566, 0.0031395231772527966), (1400, 0.0031393603965962757), (1916, 0.0031384199939015218), (783, 0.0031372957374887715), (3511, 0.0031349701775144822), (51, 0.00313342372213085), (1570, 0.003132098541649791), (830, 0.0031306729461300364), (262, 0.003128697820512858), (3372, 0.0031278228406910985), (4178, 0.0031271760863714674), (3242, 0.003126804948556077), (4225, 0.003126310742290362), (1188, 0.0031259320898439583), (716, 0.00312305797711422), (429, 0.003121241452264948), (2088, 0.0031202873668576183), (564, 0.003120115999048645), (255, 0.003118677183740694), (1439, 0.0031183011364608135), (4430, 0.0031181593950945262), (4497, 0.0031180413503910584), (845, 0.0031179076865839933), (502, 0.003117851600535579), (1736, 0.0031177642117667654), (2083, 0.0031167381626246255), (20, 0.003115100901382689), (270, 0.0031147247835497487), (3770, 0.0031143657393417163), (580, 0.0031121064740262574), (660, 0.003110975651677996), (837, 0.0031106310316409373), (3862, 0.003110425610935661), (4083, 0.0031092830531647335), (1229, 0.003109233111130485), (3574, 0.0031078737573403117), (3241, 0.003107040130082786), (23, 0.003103546055211443), (2370, 0.0031027810245024337), (1983, 0.0031017514939036214), (4089, 0.003100976207999002), (34, 0.003099030094489842), (3902, 0.003098749364420769), (1083, 0.0030987007985704114), (4361, 0.0030985157131382278), (2650, 0.0030942758939895803), (2319, 0.0030938920271027966), (447, 0.003092483390587848), (4625, 0.003092311976028683), (3666, 0.0030923094464696296), (987, 0.0030890388836633427), (4079, 0.0030873406356084184), (637, 0.0030840643023390983), (584, 0.0030816167366422872), (4340, 0.0030802260650141964), (4334, 0.003078134152083056), (980, 0.003078054422131433), (2919, 0.0030766444219195387), (606, 0.0030753668248547105), (4249, 0.0030728886966651277), (3623, 0.0030722717025198263), (120, 0.003071506228041233), (2863, 0.003070760591392845), (4470, 0.003070500660503241), (3153, 0.0030667750061837066), (2048, 0.0030653351233241363), (4643, 0.0030634783995928025), (1946, 0.00306037624785736), (176, 0.0030602313924605684), (871, 0.0030600526450751436), (2321, 0.003059826190515882), (2466, 0.003058575256816551), (2230, 0.0030585752161665885), (1294, 0.003057338865391466), (2894, 0.0030562345022938694), (4563, 0.0030539356463448767), (4098, 0.0030527946664991486), (3225, 0.0030519104284056167), (1355, 0.003049836365227264), (4533, 0.003048032087628698), (4273, 0.0030476423423223997), (3542, 0.0030471504074069946), (652, 0.003046248929505946), (2386, 0.0030448671998681647), (1931, 0.0030428859383428947), (3699, 0.0030419274333231836), (1176, 0.003040059763364011), (1740, 0.003038073589786472), (593, 0.003037676672496182), (2073, 0.0030352890616599654), (2489, 0.003035084528608608), (750, 0.0030341243091527676), (1122, 0.003032083022254698), (3707, 0.0030311382612190118), (3501, 0.0030273242468243297), (2295, 0.003025557733656948), (1440, 0.003024183926556624), (544, 0.0030222578283938704), (198, 0.0030217440970196473), (2091, 0.00301965969024169), (2374, 0.0030183025252469536), (2887, 0.0030177017580457154), (4014, 0.0030133489620844858), (1138, 0.0030126647930566993), (1872, 0.0030122196457307167), (2652, 0.0030108624376564137), (4391, 0.003009769960025296), (3335, 0.003009111724215814), (1335, 0.003007861767813283), (636, 0.003007752424215849), (1362, 0.0030071048966709008), (1922, 0.0030064260938228106), (1175, 0.0030056063102748324), (4266, 0.0030052173105400105), (3210, 0.0030040843268839363), (3670, 0.0030036683539587526), (3227, 0.0030028881018161293), (628, 0.003002695469587576), (2934, 0.0029999057253700203), (2606, 0.0029987758916012043), (696, 0.0029977319751602156), (3436, 0.0029973555548715547), (2783, 0.0029971824212388283), (4517, 0.0029962219847646868), (2067, 0.002996113138147955), (2533, 0.0029954026914140687), (4081, 0.002994691127677194), (4435, 0.002992415417274726), (378, 0.0029909623921104776), (1131, 0.0029881464190135583), (172, 0.002987650804736031), (5, 0.0029870686319860094), (3341, 0.0029865473360632944), (2219, 0.002986349857122464), (2344, 0.0029843977548433703), (4640, 0.0029837151913656235), (2354, 0.002981176565606976), (761, 0.002978649629478918), (2558, 0.00297859950036954), (3478, 0.0029782142593896806), (986, 0.002975933936331837), (1378, 0.0029756779323608447), (4427, 0.0029748647028453898), (370, 0.0029733831373209515), (1163, 0.0029729582284092806), (66, 0.0029723979474532173), (2671, 0.0029721426699166405), (2212, 0.002971751021651704), (4320, 0.002970643935708134), (4268, 0.0029661791910090855), (3216, 0.0029636800640250992), (2853, 0.0029632856456710856), (3807, 0.002962591809095111), (2289, 0.0029575838754529447), (1102, 0.0029558113122139275), (1811, 0.0029542573489094066), (4000, 0.0029540688038012628), (3441, 0.0029537460919131266), (3727, 0.0029528659181075915), (1252, 0.0029506978442651864), (3624, 0.002950609925958041), (1072, 0.0029497752615704836), (1438, 0.0029494400049924173), (4520, 0.0029482337134223505), (1831, 0.002944702811712637), (3381, 0.0029426452718358353), (4228, 0.002942308961916165), (534, 0.002941466133237691), (61, 0.002940329540860219), (1621, 0.002935982477926508), (4668, 0.002934534232380883), (4487, 0.0029341640759629915), (2173, 0.0029326818735583167), (2961, 0.0029315053604146235), (3093, 0.002930973462189051), (2946, 0.0029309390877682437), (3195, 0.002930838882539192), (3647, 0.0029301730368043507), (989, 0.002929290913505779), (4349, 0.0029285052801988733), (1110, 0.0029273868059724074), (2069, 0.0029261387713693083), (3499, 0.0029257538599486888), (3827, 0.002920062775105469), (3379, 0.00291985925140009), (1882, 0.0029180070527507936), (98, 0.0029162379106424177), (4362, 0.002916123642383342), (1527, 0.0029146882381501857), (26, 0.00291401917243915), (2226, 0.0029121621915408694), (4641, 0.0029093505662145473), (3719, 0.002906897165972305), (4309, 0.00290681860462404), (3706, 0.0029065194349564066), (4743, 0.0029058968041782013), (2909, 0.0029045942799015615), (799, 0.002903298007115633), (2279, 0.002901805725725473), (1350, 0.0029010338704909687), (693, 0.0028986671890847606), (2401, 0.0028944195856233043), (1967, 0.0028932426898394753), (4693, 0.002892945842829145), (959, 0.002892744531078335), (3075, 0.0028924488677249693), (1813, 0.002891383044196378), (3370, 0.0028908522316075666), (4183, 0.0028885726136806435), (349, 0.00288848445848311), (676, 0.0028873025205909723), (4381, 0.0028872555906480223), (4573, 0.002887121861886915), (1044, 0.002885052656139868), (4673, 0.002884532933254823), (1671, 0.0028834108028517554), (1030, 0.0028828778374962944), (4129, 0.002882695920501811), (1481, 0.0028824964866124257), (488, 0.002880675284260344), (2080, 0.0028774834132620267), (3298, 0.0028768754942947398), (4069, 0.0028766292221400194), (1247, 0.0028765413724325074), (4139, 0.0028759238074762624), (87, 0.002875005248407103), (3660, 0.002871988758567152), (2716, 0.0028686698085319644), (4461, 0.002867085230582053), (646, 0.0028640005563429515), (3900, 0.0028638198482653678), (3487, 0.002863448337170438), (396, 0.0028619559513346033), (1248, 0.0028614256063761866), (4729, 0.0028607256131328775), (2117, 0.00285673620133325), (1034, 0.0028520973198890823), (1478, 0.0028519206764137136), (2024, 0.0028519171012258565), (487, 0.002850973577660378), (2752, 0.0028485096855459784), (1027, 0.0028478581185807403), (52, 0.0028475972750376184), (2141, 0.002846616941411895), (4567, 0.002846392982542388), (4536, 0.0028453583161884683), (1854, 0.002843492348898027), (2779, 0.002843045895037034), (3268, 0.0028424989253461237), (2886, 0.0028413761383644506), (2540, 0.0028384618959341476), (3390, 0.002837601818179018), (1153, 0.002837214148013072), (3035, 0.0028352299311411064), (4085, 0.0028345818791975412), (3170, 0.0028332863025103887), (3171, 0.0028329971613682164), (1123, 0.0028304600328955837), (2965, 0.002829079703379413), (1160, 0.002826811612979486), (3898, 0.0028262124312703795), (4345, 0.0028249619489741696), (3799, 0.002823103076635904), (2995, 0.002822597363801412), (373, 0.002822511406880439), (2679, 0.0028181820188617956), (203, 0.0028179662407545924), (698, 0.002817756691695165), (2651, 0.002817735940617998), (2598, 0.0028177091919720336), (434, 0.0028175341407678414), (2997, 0.0028149564191738367), (2800, 0.0028137549012242336), (818, 0.0028135317919644625), (828, 0.0028133559254969573), (1032, 0.002812936694379295), (3014, 0.0028115109240842134), (116, 0.00281084380389309), (578, 0.002810817452555722), (126, 0.002809959026611001), (3734, 0.0028089679074680086), (1036, 0.0028088914659063586), (276, 0.0028081182889566274), (1177, 0.0028054799171716256), (3615, 0.002804548305064784), (3433, 0.002804258396653764), (31, 0.002800917950787625), (694, 0.002800623217092148), (2004, 0.0027991322004933504), (3300, 0.0027987622286909327), (236, 0.0027974769367176138), (4011, 0.0027969880335501273), (3243, 0.0027893764200955617), (1665, 0.0027885215895430775), (975, 0.0027880586224343475), (2496, 0.0027851448032582323), (2634, 0.002782786795000472), (229, 0.0027765628229450877), (598, 0.0027748626003566267), (3725, 0.0027730616988399137), (213, 0.0027718835609431857), (1107, 0.002770947136489829), (1433, 0.0027707470795437154), (4591, 0.002769894491111159), (1558, 0.0027684785091536355), (111, 0.002766589426354429), (2528, 0.0027657218436243393), (868, 0.0027651496150975993), (1183, 0.0027643698703719416), (2907, 0.002762097127505884), (1641, 0.0027617530253843865), (2129, 0.0027596254478803517), (3627, 0.0027555998683501896), (1760, 0.0027535449453022416), (1448, 0.002751884754044887), (4616, 0.00275113263536819), (2735, 0.002749776656533012), (3913, 0.0027494780722284303), (2593, 0.002747752725032916), (3369, 0.0027471057846707187), (558, 0.0027462584051361058), (638, 0.0027448989495227655), (1667, 0.002744737931218055), (1357, 0.0027445585304427113), (4479, 0.0027429682046357573), (1814, 0.002742192374186048), (2674, 0.0027415147219421415), (2845, 0.0027411766853485792), (604, 0.0027390304824205787), (2347, 0.0027377730487705932), (3455, 0.0027345751021927924), (457, 0.0027334287792786295), (359, 0.002733117961380631), (4326, 0.0027304835140620873), (2362, 0.0027300193574266306), (4277, 0.002727904698971848), (1672, 0.0027263708186832793), (1628, 0.0027250453674750024), (624, 0.0027240882583172243), (863, 0.0027223291792659145), (1065, 0.002722067970347035), (4620, 0.0027211447204773527), (3742, 0.0027203608833097814), (4502, 0.0027200802597802166), (1434, 0.002719096070601305), (218, 0.0027189656032158265), (1796, 0.002717337653658312), (4638, 0.002716725273859226), (3278, 0.0027080362661398324), (3474, 0.0027061996232302966), (1680, 0.0027047973219027546), (1892, 0.0027043485525336673), (1237, 0.00270349341641381), (4053, 0.0027024033680789167), (1865, 0.0027018082172316125), (608, 0.0026996613731137702), (285, 0.0026972941944947517), (3614, 0.0026956913022340516), (3705, 0.0026949320010514733), (1826, 0.0026930800764969924), (4154, 0.0026911464315644003), (1387, 0.0026885541529330795), (1161, 0.0026884030920879833), (563, 0.0026855121443785357), (4350, 0.0026843872712413314), (581, 0.0026838416754397737), (1080, 0.002681079330763506), (3974, 0.0026805613620767173), (804, 0.002678665098326447), (4475, 0.0026781484867294315), (1625, 0.0026780410118503405), (1739, 0.002677853026464623), (2248, 0.002677471641527849), (3863, 0.0026762126126154235), (1219, 0.0026717625733624585), (4080, 0.002670343646330785), (917, 0.0026657712062354887), (3795, 0.002664089851728832), (3556, 0.0026629074374572128), (1921, 0.0026616257213721694), (815, 0.002660713804997681), (2580, 0.002659641446693465), (856, 0.002658394092628072), (1414, 0.002656928072808745), (268, 0.0026562682530549605), (2213, 0.0026558497492724853), (3380, 0.002643746652001325), (4608, 0.002642873914893753), (132, 0.0026403908523145846), (4661, 0.002639927291374595), (1290, 0.0026384841047933007), (4343, 0.0026342733614153355), (200, 0.0026315625617136062), (4220, 0.002627302790522563), (2617, 0.002625756585064695), (2753, 0.0026236892806556335), (1776, 0.0026228526062852652), (92, 0.0026209383147274765), (4247, 0.00261761678864214), (3910, 0.002614675325323731), (480, 0.002613370713542724), (647, 0.0026130821998709836), (3895, 0.0026071019468085835), (4432, 0.0026067453632751493), (4296, 0.002594145307756293), (4232, 0.002589135409656158), (4429, 0.002585855693961452), (2520, 0.0025817540475836344), (642, 0.0025724677247288634), (4386, 0.002568575260404409), (1450, 0.00256649898476565), (364, 0.0025621672675562304), (2527, 0.0025614852729742843), (3629, 0.002557725064286412), (286, 0.0025556560713777855), (2743, 0.0025534052168626957), (4411, 0.0025514350716701936), (2382, 0.002551199802777327), (4476, 0.0025484572898034773), (190, 0.002541487395709215), (1050, 0.002537208680919727), (432, 0.002533612554277866), (2771, 0.0025270964082520723), (1202, 0.0025261827693247516), (626, 0.0025238958731830983), (3669, 0.0025238923059117953), (267, 0.0025238592163443646), (1356, 0.002520719443124809), (3657, 0.0025132644960451623), (2039, 0.0025051689755465558), (3091, 0.002492802470083238), (2132, 0.002488090072520176), (1042, 0.0024873508767625048), (2359, 0.002485776215453074), (4733, 0.0024849786037111853), (2355, 0.0024829180078690632), (3331, 0.0024826059696443294), (16, 0.0024822987372575232), (1209, 0.0024818150341694356), (796, 0.0024725717302617363), (2602, 0.002471166116920294), (3056, 0.0024672208255629817), (901, 0.0024667764645833444), (3024, 0.002463663893181269), (149, 0.002459362639596205), (2034, 0.002453664853552065), (3548, 0.0024491233266997225), (1415, 0.0024400702941398565), (645, 0.002432426151608738), (3313, 0.002431482269068525), (1098, 0.00242855317712897), (816, 0.0024239944146500453), (942, 0.0024211828426495287), (4626, 0.0024078561481121366), (1303, 0.0024012040158031575), (953, 0.0023979208513407063), (3431, 0.002391588705694475), (194, 0.0023894879561571847), (3471, 0.002367983647912428), (2010, 0.002351933357830588), (4598, 0.0023364906228657834), (3301, 0.0023321853490279308), (2767, 0.0023235158125305124), (607, 0.0022948994955307835), (2760, 0.0022858932397667405), (224, 0.002278623200540583), (453, 0.0022773375635163386), (3285, 0.002238941214331488), (4445, 0.002235768785718784), (256, 0.002224977289167973), (4301, 0.0022095967476142716), (831, 0.002102487709401263), (858, 0.002010878679805061), (3392, 0.001978870429707732), (24, 0.001945147368344037), (3608, 0.001939854249321805), (2538, 0.0017819527633960955), (1, 0.0), (6, 0.0), (13, 0.0), (17, 0.0), (27, 0.0), (30, 0.0), (36, 0.0), (46, 0.0), (47, 0.0), (54, 0.0), (70, 0.0), (76, 0.0), (77, 0.0), (81, 0.0), (89, 0.0), (90, 0.0), (93, 0.0), (95, 0.0), (99, 0.0), (100, 0.0), (117, 0.0), (118, 0.0), (128, 0.0), (133, 0.0), (143, 0.0), (145, 0.0), (151, 0.0), (160, 0.0), (180, 0.0), (187, 0.0), (207, 0.0), (241, 0.0), (258, 0.0), (265, 0.0), (275, 0.0), (289, 0.0), (290, 0.0), (295, 0.0), (302, 0.0), (303, 0.0), (304, 0.0), (314, 0.0), (315, 0.0), (316, 0.0), (320, 0.0), (323, 0.0), (333, 0.0), (360, 0.0), (375, 0.0), (376, 0.0), (379, 0.0), (382, 0.0), (384, 0.0), (389, 0.0), (394, 0.0), (397, 0.0), (438, 0.0), (440, 0.0), (451, 0.0), (462, 0.0), (501, 0.0), (513, 0.0), (514, 0.0), (516, 0.0), (550, 0.0), (552, 0.0), (554, 0.0), (556, 0.0), (557, 0.0), (559, 0.0), (565, 0.0), (567, 0.0), (570, 0.0), (572, 0.0), (573, 0.0), (574, 0.0), (591, 0.0), (592, 0.0), (601, 0.0), (602, 0.0), (619, 0.0), (621, 0.0), (625, 0.0), (633, 0.0), (634, 0.0), (658, 0.0), (674, 0.0), (682, 0.0), (686, 0.0), (713, 0.0), (714, 0.0), (718, 0.0), (724, 0.0), (746, 0.0), (753, 0.0), (801, 0.0), (802, 0.0), (811, 0.0), (819, 0.0), (825, 0.0), (855, 0.0), (875, 0.0), (877, 0.0), (893, 0.0), (902, 0.0), (909, 0.0), (914, 0.0), (927, 0.0), (950, 0.0), (954, 0.0), (960, 0.0), (977, 0.0), (992, 0.0), (997, 0.0), (1003, 0.0), (1016, 0.0), (1045, 0.0), (1051, 0.0), (1055, 0.0), (1057, 0.0), (1058, 0.0), (1063, 0.0), (1067, 0.0), (1076, 0.0), (1081, 0.0), (1082, 0.0), (1086, 0.0), (1091, 0.0), (1092, 0.0), (1097, 0.0), (1101, 0.0), (1127, 0.0), (1134, 0.0), (1135, 0.0), (1137, 0.0), (1143, 0.0), (1147, 0.0), (1151, 0.0), (1154, 0.0), (1159, 0.0), (1167, 0.0), (1181, 0.0), (1189, 0.0), (1197, 0.0), (1207, 0.0), (1228, 0.0), (1230, 0.0), (1233, 0.0), (1236, 0.0), (1240, 0.0), (1253, 0.0), (1258, 0.0), (1263, 0.0), (1265, 0.0), (1269, 0.0), (1271, 0.0), (1272, 0.0), (1276, 0.0), (1280, 0.0), (1281, 0.0), (1283, 0.0), (1285, 0.0), (1287, 0.0), (1295, 0.0), (1296, 0.0), (1315, 0.0), (1328, 0.0), (1332, 0.0), (1342, 0.0), (1386, 0.0), (1391, 0.0), (1393, 0.0), (1399, 0.0), (1428, 0.0), (1435, 0.0), (1449, 0.0), (1452, 0.0), (1458, 0.0), (1460, 0.0), (1466, 0.0), (1470, 0.0), (1480, 0.0), (1504, 0.0), (1512, 0.0), (1529, 0.0), (1531, 0.0), (1534, 0.0), (1536, 0.0), (1540, 0.0), (1541, 0.0), (1554, 0.0), (1556, 0.0), (1562, 0.0), (1566, 0.0), (1573, 0.0), (1576, 0.0), (1581, 0.0), (1588, 0.0), (1590, 0.0), (1591, 0.0), (1600, 0.0), (1603, 0.0), (1604, 0.0), (1606, 0.0), (1607, 0.0), (1622, 0.0), (1623, 0.0), (1631, 0.0), (1633, 0.0), (1635, 0.0), (1649, 0.0), (1651, 0.0), (1657, 0.0), (1661, 0.0), (1674, 0.0), (1686, 0.0), (1699, 0.0), (1705, 0.0), (1720, 0.0), (1724, 0.0), (1728, 0.0), (1745, 0.0), (1749, 0.0), (1753, 0.0), (1775, 0.0), (1789, 0.0), (1795, 0.0), (1800, 0.0), (1810, 0.0), (1815, 0.0), (1820, 0.0), (1829, 0.0), (1832, 0.0), (1835, 0.0), (1838, 0.0), (1840, 0.0), (1846, 0.0), (1894, 0.0), (1904, 0.0), (1927, 0.0), (1930, 0.0), (1933, 0.0), (1937, 0.0), (1953, 0.0), (1958, 0.0), (1962, 0.0), (1966, 0.0), (1970, 0.0), (1972, 0.0), (1975, 0.0), (1976, 0.0), (1979, 0.0), (1991, 0.0), (1993, 0.0), (1996, 0.0), (1998, 0.0), (2028, 0.0), (2030, 0.0), (2044, 0.0), (2054, 0.0), (2057, 0.0), (2066, 0.0), (2084, 0.0), (2085, 0.0), (2100, 0.0), (2115, 0.0), (2120, 0.0), (2130, 0.0), (2135, 0.0), (2136, 0.0), (2152, 0.0), (2165, 0.0), (2171, 0.0), (2172, 0.0), (2181, 0.0), (2182, 0.0), (2206, 0.0), (2220, 0.0), (2231, 0.0), (2232, 0.0), (2235, 0.0), (2243, 0.0), (2247, 0.0), (2267, 0.0), (2273, 0.0), (2275, 0.0), (2300, 0.0), (2316, 0.0), (2328, 0.0), (2332, 0.0), (2337, 0.0), (2341, 0.0), (2342, 0.0), (2343, 0.0), (2352, 0.0), (2358, 0.0), (2365, 0.0), (2369, 0.0), (2372, 0.0), (2383, 0.0), (2408, 0.0), (2413, 0.0), (2429, 0.0), (2442, 0.0), (2451, 0.0), (2462, 0.0), (2471, 0.0), (2476, 0.0), (2506, 0.0), (2521, 0.0), (2544, 0.0), (2549, 0.0), (2567, 0.0), (2573, 0.0), (2574, 0.0), (2576, 0.0), (2577, 0.0), (2583, 0.0), (2589, 0.0), (2596, 0.0), (2599, 0.0), (2618, 0.0), (2630, 0.0), (2641, 0.0), (2658, 0.0), (2670, 0.0), (2683, 0.0), (2700, 0.0), (2710, 0.0), (2711, 0.0), (2717, 0.0), (2718, 0.0), (2733, 0.0), (2736, 0.0), (2750, 0.0), (2762, 0.0), (2773, 0.0), (2806, 0.0), (2815, 0.0), (2819, 0.0), (2824, 0.0), (2827, 0.0), (2828, 0.0), (2835, 0.0), (2837, 0.0), (2839, 0.0), (2847, 0.0), (2850, 0.0), (2851, 0.0), (2860, 0.0), (2864, 0.0), (2869, 0.0), (2885, 0.0), (2898, 0.0), (2905, 0.0), (2918, 0.0), (2921, 0.0), (2927, 0.0), (2947, 0.0), (2950, 0.0), (2952, 0.0), (2955, 0.0), (2956, 0.0), (2958, 0.0), (2959, 0.0), (2960, 0.0), (2967, 0.0), (2984, 0.0), (2991, 0.0), (3002, 0.0), (3005, 0.0), (3006, 0.0), (3021, 0.0), (3025, 0.0), (3029, 0.0), (3045, 0.0), (3047, 0.0), (3048, 0.0), (3049, 0.0), (3058, 0.0), (3059, 0.0), (3068, 0.0), (3079, 0.0), (3092, 0.0), (3099, 0.0), (3105, 0.0), (3107, 0.0), (3117, 0.0), (3118, 0.0), (3124, 0.0), (3126, 0.0), (3130, 0.0), (3132, 0.0), (3134, 0.0), (3135, 0.0), (3136, 0.0), (3138, 0.0), (3143, 0.0), (3156, 0.0), (3160, 0.0), (3161, 0.0), (3163, 0.0), (3176, 0.0), (3179, 0.0), (3180, 0.0), (3185, 0.0), (3191, 0.0), (3202, 0.0), (3208, 0.0), (3213, 0.0), (3247, 0.0), (3251, 0.0), (3255, 0.0), (3261, 0.0), (3263, 0.0), (3272, 0.0), (3279, 0.0), (3281, 0.0), (3305, 0.0), (3333, 0.0), (3334, 0.0), (3338, 0.0), (3339, 0.0), (3340, 0.0), (3367, 0.0), (3377, 0.0), (3385, 0.0), (3394, 0.0), (3401, 0.0), (3404, 0.0), (3405, 0.0), (3427, 0.0), (3440, 0.0), (3451, 0.0), (3453, 0.0), (3468, 0.0), (3470, 0.0), (3472, 0.0), (3473, 0.0), (3476, 0.0), (3480, 0.0), (3482, 0.0), (3486, 0.0), (3488, 0.0), (3495, 0.0), (3505, 0.0), (3520, 0.0), (3522, 0.0), (3525, 0.0), (3528, 0.0), (3532, 0.0), (3533, 0.0), (3535, 0.0), (3547, 0.0), (3555, 0.0), (3573, 0.0), (3576, 0.0), (3588, 0.0), (3597, 0.0), (3600, 0.0), (3602, 0.0), (3605, 0.0), (3607, 0.0), (3609, 0.0), (3617, 0.0), (3619, 0.0), (3625, 0.0), (3631, 0.0), (3659, 0.0), (3663, 0.0), (3664, 0.0), (3679, 0.0), (3682, 0.0), (3693, 0.0), (3695, 0.0), (3700, 0.0), (3702, 0.0), (3708, 0.0), (3710, 0.0), (3717, 0.0), (3721, 0.0), (3723, 0.0), (3726, 0.0), (3744, 0.0), (3750, 0.0), (3760, 0.0), (3761, 0.0), (3768, 0.0), (3769, 0.0), (3773, 0.0), (3775, 0.0), (3783, 0.0), (3785, 0.0), (3787, 0.0), (3788, 0.0), (3793, 0.0), (3794, 0.0), (3798, 0.0), (3802, 0.0), (3806, 0.0), (3814, 0.0), (3830, 0.0), (3833, 0.0), (3838, 0.0), (3840, 0.0), (3843, 0.0), (3846, 0.0), (3847, 0.0), (3849, 0.0), (3850, 0.0), (3860, 0.0), (3869, 0.0), (3871, 0.0), (3872, 0.0), (3881, 0.0), (3887, 0.0), (3908, 0.0), (3918, 0.0), (3929, 0.0), (3937, 0.0), (3938, 0.0), (3942, 0.0), (3947, 0.0), (3958, 0.0), (3968, 0.0), (3972, 0.0), (3975, 0.0), (3976, 0.0), (3979, 0.0), (3981, 0.0), (3982, 0.0), (3985, 0.0), (3989, 0.0), (3991, 0.0), (3993, 0.0), (3997, 0.0), (4021, 0.0), (4022, 0.0), (4034, 0.0), (4039, 0.0), (4041, 0.0), (4044, 0.0), (4045, 0.0), (4050, 0.0), (4063, 0.0), (4065, 0.0), (4067, 0.0), (4072, 0.0), (4078, 0.0), (4088, 0.0), (4096, 0.0), (4100, 0.0), (4103, 0.0), (4114, 0.0), (4122, 0.0), (4144, 0.0), (4146, 0.0), (4148, 0.0), (4150, 0.0), (4153, 0.0), (4159, 0.0), (4162, 0.0), (4164, 0.0), (4165, 0.0), (4167, 0.0), (4170, 0.0), (4177, 0.0), (4179, 0.0), (4181, 0.0), (4188, 0.0), (4193, 0.0), (4211, 0.0), (4212, 0.0), (4215, 0.0), (4216, 0.0), (4219, 0.0), (4227, 0.0), (4229, 0.0), (4235, 0.0), (4238, 0.0), (4248, 0.0), (4250, 0.0), (4251, 0.0), (4261, 0.0), (4264, 0.0), (4270, 0.0), (4274, 0.0), (4275, 0.0), (4276, 0.0), (4278, 0.0), (4289, 0.0), (4294, 0.0), (4302, 0.0), (4307, 0.0), (4310, 0.0), (4313, 0.0), (4316, 0.0), (4322, 0.0), (4331, 0.0), (4352, 0.0), (4360, 0.0), (4364, 0.0), (4365, 0.0), (4366, 0.0), (4377, 0.0), (4380, 0.0), (4383, 0.0), (4389, 0.0), (4393, 0.0), (4415, 0.0), (4417, 0.0), (4425, 0.0), (4439, 0.0), (4455, 0.0), (4456, 0.0), (4464, 0.0), (4466, 0.0), (4468, 0.0), (4478, 0.0), (4485, 0.0), (4488, 0.0), (4491, 0.0), (4493, 0.0), (4499, 0.0), (4500, 0.0), (4508, 0.0), (4509, 0.0), (4510, 0.0), (4512, 0.0), (4513, 0.0), (4518, 0.0), (4525, 0.0), (4526, 0.0), (4527, 0.0), (4534, 0.0), (4538, 0.0), (4547, 0.0), (4553, 0.0), (4559, 0.0), (4561, 0.0), (4565, 0.0), (4569, 0.0), (4578, 0.0), (4581, 0.0), (4582, 0.0), (4583, 0.0), (4585, 0.0), (4586, 0.0), (4587, 0.0), (4588, 0.0), (4595, 0.0), (4597, 0.0), (4615, 0.0), (4618, 0.0), (4623, 0.0), (4639, 0.0), (4642, 0.0), (4644, 0.0), (4645, 0.0), (4651, 0.0), (4653, 0.0), (4654, 0.0), (4656, 0.0), (4662, 0.0), (4663, 0.0), (4664, 0.0), (4665, 0.0), (4666, 0.0), (4671, 0.0), (4672, 0.0), (4676, 0.0), (4678, 0.0), (4681, 0.0), (4683, 0.0), (4684, 0.0), (4691, 0.0), (4698, 0.0), (4703, 0.0), (4707, 0.0), (4708, 0.0), (4709, 0.0), (4714, 0.0), (4716, 0.0), (4727, 0.0), (4728, 0.0), (4730, 0.0), (4736, 0.0), (4740, 0.0), (4741, 0.0), (4742, 0.0), (4745, 0.0), (4747, 0.0), (4750, 0.0), (4751, 0.0), (4754, 0.0), (4758, 0.0), (4759, 0.0)]\n"
          ]
        }
      ]
    },
    {
      "cell_type": "code",
      "source": [
        "# print the name of similar movies based on the index\n",
        "\n",
        "print('Top 30 Movies Suggested for You : \\n')\n",
        "\n",
        "i = 1\n",
        "\n",
        "for movie in Sorted_Similar_Movies:\n",
        "  index = movie[0]\n",
        "  title_from_index = df[df.index==index]['Movie_Title'].values[0]\n",
        "  if (i<31):\n",
        "    print(i, '.',title_from_index)\n",
        "    i+=1"
      ],
      "metadata": {
        "colab": {
          "base_uri": "https://localhost:8080/"
        },
        "id": "2snFGW6UomFR",
        "outputId": "45e40949-a444-4b04-a248-3405929d9c46"
      },
      "execution_count": 45,
      "outputs": [
        {
          "output_type": "stream",
          "name": "stdout",
          "text": [
            "Top 30 Movies Suggested for You : \n",
            "\n",
            "1 . 28 Days\n",
            "2 . A History of Violence\n",
            "3 . The Proposal\n",
            "4 . A Walk on the Moon\n",
            "5 . Premonition\n",
            "6 . Rock Star\n",
            "7 . Taxman\n",
            "8 . Minions\n",
            "9 . Days of Thunder\n",
            "10 . Coal Miner's Daughter\n",
            "11 . The Lord of the Rings: The Return of the King\n",
            "12 . Precious\n",
            "13 . Boogie Nights\n",
            "14 . The Fast and the Furious: Tokyo Drift\n",
            "15 . The Final Destination\n",
            "16 . Identity Thief\n",
            "17 . The Flintstones\n",
            "18 . Hannibal Rising\n",
            "19 . The Road\n",
            "20 . The Lion King\n",
            "21 . Bedazzled\n",
            "22 . All About Steve\n",
            "23 . A Dangerous Method\n",
            "24 . Extremely Loud & Incredibly Close\n",
            "25 . Angel Eyes\n",
            "26 . Back to the Future\n",
            "27 . Serenity\n",
            "28 . Practical Magic\n",
            "29 . Wreck-It Ralph\n",
            "30 . Barney's Version\n"
          ]
        }
      ]
    },
    {
      "cell_type": "markdown",
      "source": [
        "### **Top 10 Movie Recommendation System**"
      ],
      "metadata": {
        "id": "UwsaIbdNp3ON"
      }
    },
    {
      "cell_type": "code",
      "source": [
        "Movie_Name = input('Enter your favourite movie name :')\n",
        "\n",
        "list_of_all_titles = df['Movie_Title'].tolist()\n",
        "\n",
        "Find_Close_Match = difflib.get_close_matches(Movie_Name, list_of_all_titles)\n",
        "\n",
        "Close_Match = Find_Close_Match[0]\n",
        "\n",
        "Index_of_Movie = df[df.Movie_Title == Close_Match]['Movie_ID'].values[0]\n",
        "\n",
        "Recommendation_Score = list(enumerate(Similarity_score[Index_of_Movie]))\n",
        "\n",
        "sorted_similar_movies = sorted(Recommendation_Score, key = lambda x:x[1], reverse = True)\n",
        "\n",
        "print('Top 10 Movies suggested for yoy : \\n')\n",
        "\n",
        "i = 1\n",
        "\n",
        "for movie in sorted_similar_movies:\n",
        "  index = movie[0]\n",
        "  title_from_index = df[df.Movie_ID==index]['Movie_Title'].values\n",
        "  if (i<11):\n",
        "    print(i, '.',title_from_index)\n",
        "    i+=1\n",
        "\n"
      ],
      "metadata": {
        "colab": {
          "base_uri": "https://localhost:8080/"
        },
        "id": "7-UvlLCop_le",
        "outputId": "f85bb220-8a8d-4602-88d6-35efefa4ed7a"
      },
      "execution_count": 46,
      "outputs": [
        {
          "output_type": "stream",
          "name": "stdout",
          "text": [
            "Enter your favourite movie name :KGF Chapter2\n",
            "Top 10 Movies suggested for yoy : \n",
            "\n",
            "1 . ['Get Carter']\n",
            "2 . [\"Pirates of the Caribbean: Dead Man's Chest\"]\n",
            "3 . ['The Twilight Saga: New Moon']\n",
            "4 . ['Kama Sutra - A Tale of Love']\n",
            "5 . ['The Good Girl']\n",
            "6 . ['Cry Freedom']\n",
            "7 . ['Alexander and the Terrible, Horrible, No Good, Very Bad Day']\n",
            "8 . ['Forbidden Kingdom']\n",
            "9 . ['L.A. Confidential']\n",
            "10 . ['The Namesake']\n"
          ]
        }
      ]
    }
  ]
}